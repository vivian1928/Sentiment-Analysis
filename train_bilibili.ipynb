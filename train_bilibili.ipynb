{
 "cells": [
  {
   "cell_type": "markdown",
   "metadata": {},
   "source": [
    "# 连接colab"
   ]
  },
  {
   "cell_type": "code",
   "execution_count": null,
   "metadata": {
    "colab": {
     "base_uri": "https://localhost:8080/"
    },
    "executionInfo": {
     "elapsed": 25223,
     "status": "ok",
     "timestamp": 1617609127510,
     "user": {
      "displayName": "孟维民",
      "photoUrl": "",
      "userId": "01682933707738661337"
     },
     "user_tz": -480
    },
    "id": "ACbTJaWyp0_A",
    "outputId": "f38d9b0e-b461-45b0-cbf2-67312d3b5234",
    "scrolled": true
   },
   "outputs": [
    {
     "name": "stdout",
     "output_type": "stream",
     "text": [
      "Mounted at /content/drive\n"
     ]
    }
   ],
   "source": [
    "from google.colab import drive\n",
    "drive.mount('/content/drive')"
   ]
  },
  {
   "cell_type": "code",
   "execution_count": null,
   "metadata": {
    "id": "q2kOrZqFqMk0"
   },
   "outputs": [],
   "source": [
    "import os\n",
    "os.chdir('drive/My Drive/Bilibili_Blackroom_Spider')"
   ]
  },
  {
   "cell_type": "code",
   "execution_count": null,
   "metadata": {
    "colab": {
     "base_uri": "https://localhost:8080/",
     "height": 173
    },
    "executionInfo": {
     "elapsed": 2623,
     "status": "error",
     "timestamp": 1617542859519,
     "user": {
      "displayName": "孟维民",
      "photoUrl": "",
      "userId": "01682933707738661337"
     },
     "user_tz": -480
    },
    "id": "XWzUdAFBrXRb",
    "outputId": "aad6632a-4851-4f8d-a169-a56a0cf81cd0"
   },
   "outputs": [
    {
     "ename": "FileNotFoundError",
     "evalue": "ignored",
     "output_type": "error",
     "traceback": [
      "\u001b[0;31m---------------------------------------------------------------------------\u001b[0m",
      "\u001b[0;31mFileNotFoundError\u001b[0m                         Traceback (most recent call last)",
      "\u001b[0;32m<ipython-input-60-67c0f5f73d8a>\u001b[0m in \u001b[0;36m<module>\u001b[0;34m()\u001b[0m\n\u001b[0;32m----> 1\u001b[0;31m \u001b[0mos\u001b[0m\u001b[0;34m.\u001b[0m\u001b[0mchdir\u001b[0m\u001b[0;34m(\u001b[0m\u001b[0;34m'Bilibili_Blackroom_Spider'\u001b[0m\u001b[0;34m)\u001b[0m\u001b[0;34m\u001b[0m\u001b[0;34m\u001b[0m\u001b[0m\n\u001b[0m",
      "\u001b[0;31mFileNotFoundError\u001b[0m: [Errno 2] No such file or directory: 'Bilibili_Blackroom_Spider'"
     ]
    }
   ],
   "source": [
    "os.chdir('Bilibili_Blackroom_Spider')"
   ]
  },
  {
   "cell_type": "code",
   "execution_count": 1,
   "metadata": {
    "colab": {
     "base_uri": "https://localhost:8080/"
    },
    "executionInfo": {
     "elapsed": 1026,
     "status": "ok",
     "timestamp": 1617616570514,
     "user": {
      "displayName": "孟维民",
      "photoUrl": "",
      "userId": "01682933707738661337"
     },
     "user_tz": -480
    },
    "id": "9sm3pPyHEfJx",
    "outputId": "2172f688-4d60-4b0a-aed3-4ed2d04b0fbc"
   },
   "outputs": [
    {
     "name": "stderr",
     "output_type": "stream",
     "text": [
      "'pwd' 不是内部或外部命令，也不是可运行的程序\n",
      "或批处理文件。\n"
     ]
    }
   ],
   "source": [
    "!pwd"
   ]
  },
  {
   "cell_type": "markdown",
   "metadata": {},
   "source": [
    "# 导入库"
   ]
  },
  {
   "cell_type": "code",
   "execution_count": 2,
   "metadata": {
    "id": "mvyzvYpYp-JD"
   },
   "outputs": [
    {
     "name": "stderr",
     "output_type": "stream",
     "text": [
      "D:\\Anaconda3\\envs\\tensorflow\\lib\\site-packages\\gensim\\similarities\\__init__.py:15: UserWarning: The gensim.similarities.levenshtein submodule is disabled, because the optional Levenshtein package <https://pypi.org/project/python-Levenshtein/> is unavailable. Install Levenhstein (e.g. `pip install python-Levenshtein`) to suppress this warning.\n",
      "  warnings.warn(msg)\n"
     ]
    }
   ],
   "source": [
    "import jieba\n",
    "from tqdm import tqdm\n",
    "import pandas as pd\n",
    "import os\n",
    "from sklearn.model_selection import train_test_split\n",
    "import numpy as np\n",
    "from keras.preprocessing.sequence import pad_sequences\n",
    "from keras.preprocessing.text import Tokenizer\n",
    "from keras.utils import to_categorical\n",
    "from keras.engine.topology import Layer\n",
    "from keras.layers import Embedding, Input, Dense, Conv2D, MaxPooling2D, Concatenate, Reshape, Dropout, Flatten, Lambda, LSTM, Bidirectional\n",
    "from keras.models import Model\n",
    "from keras import optimizers\n",
    "import pdb\n",
    "import matplotlib.pyplot as plt\n",
    "from PIL import Image\n",
    "import pickle\n",
    "from keras import backend as K\n",
    "import re\n",
    "import codecs\n",
    "from keras import initializers, regularizers, constraints\n",
    "import gc\n",
    "import time\n",
    "from gensim.models import Word2Vec\n",
    "from keras import regularizers\n",
    "import argparse\n",
    "import pprint\n",
    "import gensim\n",
    "from glove import Glove\n",
    "from glove import Corpus\n",
    "\n",
    "EMBED_SIZE=200\n",
    "MAX_LEN= 30 #样本最大长度为100，但是大部分长度都在0-40\n",
    "EPOCHS = 40\n",
    "BATCH_SIZE = 512\n",
    "VAL_SPLIT = 0.1 #数据量很大，验证集可以不用20%\n",
    "PUCNTS = [' ', '\\'', '\\\"', '-', '.']"
   ]
  },
  {
   "cell_type": "code",
   "execution_count": 4,
   "metadata": {
    "colab": {
     "base_uri": "https://localhost:8080/"
    },
    "executionInfo": {
     "elapsed": 805,
     "status": "ok",
     "timestamp": 1617609163362,
     "user": {
      "displayName": "孟维民",
      "photoUrl": "",
      "userId": "01682933707738661337"
     },
     "user_tz": -480
    },
    "id": "MhKCbhfjp0_b",
    "outputId": "886c0f23-737c-48f5-9e9e-8bfea548e4a7"
   },
   "outputs": [
    {
     "name": "stdout",
     "output_type": "stream",
     "text": [
      "2.3.0\n"
     ]
    }
   ],
   "source": [
    "import tensorflow as tf\n",
    "print(tf.__version__)"
   ]
  },
  {
   "cell_type": "markdown",
   "metadata": {},
   "source": [
    "# 模型搭建"
   ]
  },
  {
   "cell_type": "markdown",
   "metadata": {},
   "source": [
    "## 记录"
   ]
  },
  {
   "cell_type": "code",
   "execution_count": 5,
   "metadata": {},
   "outputs": [],
   "source": [
    "from keras.callbacks import Callback\n",
    "from sklearn.metrics import f1_score, recall_score, precision_score\n",
    "\n",
    "class Metrics(Callback):\n",
    "    def __init__(self, test_data, test_label):\n",
    "        super().__init__()\n",
    "        self.test_data = test_data #记录测试集文本\n",
    "        self.test_label = test_label #记录测试集标签\n",
    "        \n",
    "    def on_train_begin(self, logs={}):    #在训练前记录\n",
    "        print(\"on train begin\", len(self.test_data))    #输出测试集大小\n",
    "        self.test_f1s = [] #记录测试集的F1参数\n",
    "        self.test_recalls = []   #记录测试集的召回率\n",
    "        self.test_precisions = []    #记录测试集的精确度\n",
    "\n",
    "    def on_epoch_end(self, epoch, logs={}):   #在每一个epoch结束的时候\n",
    "        print()\n",
    "        print(\"on epoch end :\", len(self.test_data))    #结束的时候输出此时测试集的大小\n",
    "        data_num = len(self.test_data) ## 等于所有数据 / batchsize，所以所有数据需要能够整除\n",
    "\n",
    "        test_pred = model.predict(self.test_data)    #测试集正确\n",
    "        test_true = self.test_label\n",
    "        test_pred_flat = np.zeros(data_num)    #测试集预测\n",
    "        test_true_flat = np.zeros(data_num)    #测试集正确\n",
    "\n",
    "        for data_count in range(data_num):\n",
    "            test_pred_flat[data_count] = np.argmax(test_pred[data_count])\n",
    "            test_true_flat[data_count] = np.argmax(test_true[data_count])\n",
    "        print()\n",
    "        \n",
    "        _test_f1 = f1_score(test_true_flat, test_pred_flat, average='macro')\n",
    "        _test_recall = recall_score(test_true_flat, test_pred_flat, average='macro')\n",
    "        _test_precision = precision_score(test_true_flat, test_pred_flat, average='macro')\n",
    "        self.test_f1s.append(_test_f1)\n",
    "        self.test_recalls.append(_test_recall)\n",
    "        self.test_precisions.append(_test_precision)\n",
    "        print('— test_f1: %f — test_precision: %f — test_recall %f' %(_test_f1, _test_precision, _test_recall))\n",
    "        print(' — test_f1:' ,_test_f1)\n",
    "        return"
   ]
  },
  {
   "cell_type": "markdown",
   "metadata": {},
   "source": [
    "## Attention"
   ]
  },
  {
   "cell_type": "code",
   "execution_count": 3,
   "metadata": {
    "id": "JKi4O3UIp0_e"
   },
   "outputs": [],
   "source": [
    "\"\"\"Attention Layer\"\"\"\n",
    "class Attention(Layer):\n",
    "    def __init__(self, step_dim,\n",
    "                 W_regularizer=None, b_regularizer=None,\n",
    "                 W_constraint=None, b_constraint=None,\n",
    "                 bias=True, **kwar## Attentiongs):\n",
    "        self.supports_masking = True\n",
    "        self.init = initializers.get('glorot_uniform')\n",
    "\n",
    "        self.W_regularizer = regularizers.get(W_regularizer)\n",
    "        self.b_regularizer = regularizers.get(b_regularizer)\n",
    "\n",
    "        self.W_constraint = constraints.get(W_constraint)\n",
    "        self.b_constraint = constraints.get(b_constraint)\n",
    "\n",
    "        self.bias = bias\n",
    "        self.step_dim = step_dim\n",
    "        self.features_dim = 0\n",
    "        super(Attention, self).__init__(**kwargs)\n",
    "\n",
    "    def build(self, input_shape):\n",
    "        assert len(input_shape) == 3\n",
    "        self.W = self.add_weight(shape=(input_shape[-1],),\n",
    "                                 initializer=self.init,\n",
    "                                 name='{}_W'.format(self.name),\n",
    "                                 regularizer=self.W_regularizer,\n",
    "                                 constraint=self.W_constraint)\n",
    "        self.features_dim = input_shape[-1]\n",
    "\n",
    "        if self.bias:\n",
    "            self.b = self.add_weight(shape=(input_shape[1],),\n",
    "                                     initializer='zero',\n",
    "                                     name='{}_b'.format(self.name),\n",
    "                                     regularizer=self.b_regularizer,\n",
    "                                     constraint=self.b_constraint)\n",
    "        else:\n",
    "            self.b = None\n",
    "\n",
    "        self.built = True\n",
    "\n",
    "    def compute_mask(self, input, input_mask=None):\n",
    "        return None\n",
    "\n",
    "    def call(self, x, mask=None):\n",
    "        features_dim = self.features_dim\n",
    "        step_dim = self.step_dim\n",
    "\n",
    "        eij = K.reshape(K.dot(K.reshape(x, (-1, features_dim)),\n",
    "                              K.reshape(self.W, (features_dim, 1))), (-1, step_dim))\n",
    "\n",
    "        if self.bias:\n",
    "            eij += self.b\n",
    "\n",
    "        eij = K.tanh(eij)\n",
    "\n",
    "        a = K.exp(eij)\n",
    "\n",
    "        if mask is not None:\n",
    "            a *= K.cast(mask, K.floatx())\n",
    "\n",
    "        a /= K.cast(K.sum(a, axis=1, keepdims=True) + K.epsilon(), K.floatx())\n",
    "\n",
    "        a = K.expand_dims(a)\n",
    "        weighted_input = x * a\n",
    "        return K.sum(weighted_input, axis=1)\n",
    "\n",
    "    def compute_output_shape(self, input_shape):\n",
    "        return input_shape[0], self.features_dim"
   ]
  },
  {
   "cell_type": "markdown",
   "metadata": {},
   "source": [
    "## LSTM"
   ]
  },
  {
   "cell_type": "code",
   "execution_count": 4,
   "metadata": {
    "id": "gmVsFiF_p0_h"
   },
   "outputs": [],
   "source": [
    "## LSTM\"LSTM models\"\n",
    "def model_lstm_attn(word_index, label_index, embedding_matrix):\n",
    "    inp=Input(shape=(MAX_LEN,))\n",
    "    x=Embedding(len(word_index) + 1,EMBED_SIZE,weights=[embedding_matrix],input_length=MAX_LEN,trainable=False)(inp)\n",
    "    x=Bidirectional(LSTM(128,return_sequences=True))(x)\n",
    "    x=Bidirectional(LSTM(64,return_sequences=True))(x)\n",
    "    x=Attention(MAX_LEN)(x)\n",
    "    x=Dense(64,activation=\"relu\")(x)\n",
    "    x=Dense(len(labels_index), activation='softmax', kernel_regularizer=regularizers.l2(0.001))(x)\n",
    "    model=Model(inputs=inp,outputs=x)\n",
    "    model.compile(loss='categorical_crossentropy',optimizer=optimizers.Adam(lr=0.0001),metrics=['accuracy'])\n",
    "    return model"
   ]
  },
  {
   "cell_type": "markdown",
   "metadata": {},
   "source": [
    "## CNN"
   ]
  },
  {
   "cell_type": "code",
   "execution_count": 35,
   "metadata": {
    "id": "neFLGA4dp0_i"
   },
   "outputs": [],
   "source": [
    "\"CNN Model\"\n",
    "def model_cnn(word_index, label_index, embedding_matrix):\n",
    "    filter_sizes=[1,2,3,5]\n",
    "    num_filters=36\n",
    "\n",
    "    inp=Input(shape=(MAX_LEN,))\n",
    "    x=Embedding(len(word_index)+1,EMBED_SIZE,weights=[embedding_matrix])(inp)\n",
    "    x=Reshape((MAX_LEN,EMBED_SIZE,1))(x)\n",
    "\n",
    "    maxpool_pool=[]\n",
    "    for i in range(len(filter_sizes)):\n",
    "        conv=Conv2D(num_filters,kernel_size=(filter_sizes[i],EMBED_SIZE),\n",
    "                    kernel_initializer='he_normal',activation='relu')(x)\n",
    "        dropout=Dropout(0.1)(conv)\n",
    "        maxpool_pool.append(MaxPooling2D(pool_size=(MAX_LEN-filter_sizes[i]+1,1))(dropout))\n",
    "        \n",
    "\n",
    "    z=Concatenate(axis=1)(maxpool_pool)\n",
    "    z=Flatten()(z)\n",
    "    z=Dropout(0.5)(z)\n",
    "\n",
    "    outp=Dense(len(labels_index), activation='softmax')(z)\n",
    "\n",
    "    model=Model(inputs=inp,outputs=outp)\n",
    "    model.compile(loss='categorical_crossentropy',optimizer=optimizers.Adam(lr=0.0001),metrics=['accuracy'])\n",
    "    return model"
   ]
  },
  {
   "cell_type": "markdown",
   "metadata": {},
   "source": [
    "# 处理文本"
   ]
  },
  {
   "cell_type": "code",
   "execution_count": 16,
   "metadata": {
    "id": "rjbJ6g8cp0_k"
   },
   "outputs": [],
   "source": [
    "def clean_text(x):\n",
    "    x = x.strip()\n",
    "    for punct in PUCNTS:\n",
    "        x = x.replace(punct,'')\n",
    "    return x\n",
    "\n",
    "\"让文本只保留汉字、英文和数字\"\n",
    "def is_chinese_alphabet_number(xchar):\n",
    "    if (xchar >= u'\\u4e00' and xchar <= u'\\u9fa5') or (xchar >= u'\\u0030' and xchar <= u'\\u0039') or (xchar >= u'\\u0041' and xchar <= u'\\u005a') or (xchar >= u'\\u0061' and xchar <= u'\\u007a'):\n",
    "        return True\n",
    "    else:\n",
    "        return False\n",
    "\"将汉字、英文和数字保留下来\"\n",
    "def keep_text(x):\n",
    "    out_str=''\n",
    "    for i in x:\n",
    "        if is_chinese_alphabet_number(i):\n",
    "            out_str = out_str+i\n",
    "    return out_str\n",
    "\n",
    "def seg_sentence(sentence,stopwords):\n",
    "    \"对句子进行分词和去除停用词\"\n",
    "    jieba.load_userdict(\"dataset/user_dict.txt\")\n",
    "    sentence_lower = sentence.lower()\n",
    "    sentence_seged = jieba.cut(sentence_lower, cut_all=False)\n",
    "    outstr=''\n",
    "    for word in sentence_seged:\n",
    "        if word not in stopwords:\n",
    "                outstr+=word\n",
    "                outstr+=\" \"\n",
    "    return outstr\n",
    "\n",
    "def build_vocab(sentences,verbose=True):\n",
    "    \"追踪训练词汇表，遍历所有文本对单词进行计数\"\n",
    "    vocab={}\n",
    "    for sentence in tqdm(sentences,disable=(not verbose)):\n",
    "        #print(sentence)\n",
    "        for word in sentence.split():\n",
    "            try:\n",
    "                vocab[word] += 1\n",
    "            except KeyError:\n",
    "                vocab[word] = 1\n",
    "\n",
    "    return vocab\n",
    "\n",
    "def texts_to_sequences(sentences,vocab,verbose=True):\n",
    "    seq_sentences=[]\n",
    "    #pdb.set_trace()\n",
    "    unk_vec=np.random.random(embed_size)*0.5\n",
    "    unk_vec=unk_vec-unk_vec.mean()\n",
    "    for sentence in tqdm(sentences,disable=(not verbose)):\n",
    "        seq_sentence=[]\n",
    "        for word in sentence.split():\n",
    "            seq_sentence.append(vocab.get(word,unk_vec))\n",
    "        seq_sentences.append(seq_sentence)\n",
    "    return seq_sentences\n",
    "\n",
    "def load_and_prec():\n",
    "    vocab_size = 100\n",
    "    count = 0\n",
    "    if not os.path.exists('dataset/pre_dataset.csv') :\n",
    "        #文件读取\n",
    "        dataset = pd.read_csv('dataset/dataset.csv')\n",
    "        #创建停用词列表\n",
    "        baidu_stopwords_file=open('dataset/baidu_stopwords.txt','r',encoding='utf-8')\n",
    "        baidu_stopwords=baidu_stopwords_file.readlines()\n",
    "        stopwords=[]\n",
    "        for item in baidu_stopwords:\n",
    "        stopwords.append(item.replace('\\n',''))\n",
    "#         stopwords = ['的', '呀', '这', '那', '就', '的话', '如果', '了', '建议', '说','是', '吧','我','你','在','这个','被','啊','和','吗','觉得','就是','应该','认为','很','感觉','可能','会','下面']\n",
    "        #创建自定义词表\n",
    "        dataset[\"content\"]=dataset[\"content\"].apply(lambda x: clean_text(x))\n",
    "        dataset[\"content\"]=dataset[\"content\"].apply(lambda x: keep_text(x))\n",
    "        dataset[\"content\"]=dataset[\"content\"].apply(lambda x: seg_sentence(x, stopwords))\n",
    "        dataset.to_csv('dataset/pre_dataset.csv', index = False)\n",
    "    else:\n",
    "        dataset = pd.read_csv('dataset/pre_dataset.csv')\n",
    "        for item in dataset['content']:\n",
    "            if str(item) == 'nan':\n",
    "                dataset['content'][count] = ''\n",
    "            count += 1\n",
    "    \n",
    "    labelMap = {1: 0, 2: 1, 4: 2}\n",
    "    labels = dataset['vote'].map(labelMap)\n",
    "    texts = dataset['content'].values\n",
    "    labels = labels.values\n",
    "    \n",
    "    tokenizer = Tokenizer()\n",
    "    tokenizer.fit_on_texts(texts)\n",
    "    sequences = tokenizer.texts_to_sequences(texts)\n",
    "    word_index = tokenizer.word_index\n",
    "    print('Found %s unique tokens.' % len(word_index)) #Found 39468 unique tokens.词频词典\n",
    "    \n",
    "    word_num = [len(text) for text in sequences]\n",
    "    plt.figure(figsize=(8,5))\n",
    "    _ = plt.hist(word_num, bins = 100)\n",
    "    plt.xlabel('word number')\n",
    "    plt.ylabel('Freq')\n",
    "    plt.show()\n",
    "\n",
    "    data = pad_sequences(sequences, maxlen=MAX_LEN, padding = 'post') \n",
    "    labels = to_categorical(np.asarray(labels))\n",
    "    print('Shape of data tensor:', data.shape) #(120000, 40)\n",
    "    print('Shape of label tensor:', labels.shape) #(120000, 3)\n",
    "    \n",
    "    x_train_val, x_test, y_train_val, y_test = train_test_split(data, labels, test_size = VAL_SPLIT, random_state = 2021)\n",
    "    x_train, x_val, y_train, y_val = train_test_split(x_train_val, y_train_val, test_size = VAL_SPLIT, random_state = 2021)\n",
    "    \n",
    "    print(\"Train shape: \",x_train.shape)   # (97200, 40)\n",
    "    print(\"Val shape: \",x_val.shape)   # (10800, 40)\n",
    "    print(\"Test shape: \",x_test.shape) # (12000, 40)\n",
    "    \n",
    "    np.random.seed(2021)\n",
    "    trn_idx=np.random.permutation(len(x_train))\n",
    "    val_idx=np.random.permutation(len(x_val))\n",
    "    print(x_train[0])\n",
    "    x_train=x_train[trn_idx]\n",
    "    x_val=x_val[val_idx]\n",
    "    y_train=y_train[trn_idx]\n",
    "    y_val=y_val[val_idx]\n",
    "    print(x_train[0])\n",
    "    return dataset, x_train, x_val, x_test, y_train, y_val, y_test, tokenizer\n",
    "\n",
    "def input_embed():\n",
    "    embeddings_index = {}\n",
    "    with open('dataset/1000000-small.txt','r') as f:\n",
    "        for i,line in tqdm(enumerate(f),disable=(not verbose)):\n",
    "            if i == 0:\n",
    "                continue\n",
    "            values = line.split()\n",
    "            word = values[0]\n",
    "            codes = np.asarray(values[1:], dtype='float32')\n",
    "            embeddings_index[word] = codes\n",
    "    print('Found %s word vectors.' % len(embeddings_index))\n",
    "    return embeddings_index\n",
    "\n",
    "def embed_matrix(word_index, embeddings_index):\n",
    "    embedding_matrix = np.zeros((len(word_index) + 1, EMBED_SIZE))\n",
    "    for word, i in word_index.items():\n",
    "        embedding_vector = embeddings_index.get(word)\n",
    "        if embedding_vector is not None:\n",
    "            embedding_matrix[i] = embedding_vector\n",
    "    return embedding_matrix\n",
    "            "
   ]
  },
  {
   "cell_type": "code",
   "execution_count": null,
   "metadata": {
    "colab": {
     "base_uri": "https://localhost:8080/",
     "height": 642
    },
    "executionInfo": {
     "elapsed": 6598,
     "status": "ok",
     "timestamp": 1617539248815,
     "user": {
      "displayName": "孟维民",
      "photoUrl": "",
      "userId": "01682933707738661337"
     },
     "user_tz": -480
    },
    "id": "lWeIaYln1tg4",
    "outputId": "b8badea9-de4c-4359-f049-28fcec89602d"
   },
   "outputs": [],
   "source": [
    "dataset, x_train, x_val, x_test, y_train, y_val, y_test, tokenizer = load_and_prec()\n",
    "np.save(\"dataset/x_train.npy\",x_train)\n",
    "np.save(\"dataset/x_val.npy\",x_val)\n",
    "np.save(\"dataset/x_test.npy\",x_test)\n",
    "np.save(\"dataset/y_train.npy\",y_train)\n",
    "np.save(\"dataset/y_val.npy\",y_val)\n",
    "np.save(\"dataset/y_test.npy\",y_test)\n",
    "# saving \n",
    "with open('dataset/tokenizer_1.pickle', 'wb') as handle: \n",
    "  pickle.dump(tokenizer, handle, protocol=pickle.HIGHEST_PROTOCOL) \n",
    "\n",
    "# embeddings_index = input_embed()\n",
    "# embedding_matrix = embed_matrix(tokenizer.word_index, embedding_index)\n",
    "# np.save(\"dataset/embedding_matrix.npy\",embedding_matrix)"
   ]
  },
  {
   "cell_type": "code",
   "execution_count": 3,
   "metadata": {
    "id": "6xTEqUp82qfG"
   },
   "outputs": [],
   "source": [
    "x_train = np.load(\"dataset/x_train.npy\")\n",
    "x_val = np.load(\"dataset/x_val.npy\")\n",
    "x_test = np.load(\"dataset/x_test.npy\")\n",
    "y_train = np.load(\"dataset/y_train.npy\")\n",
    "y_val = np.load(\"dataset/y_val.npy\")\n",
    "y_test = np.load(\"dataset/y_test.npy\")\n",
    "with open('dataset/tokenizer.pickle', 'rb') as handle: \n",
    "  tokenizer = pickle.load(handle)\n",
    "embedding_matrix = np.load('dataset/embedding_matrix.npy')\n",
    "# x_train = np.load(\"dataset/w2v_x_train.npy\")\n",
    "# x_val = np.load(\"dataset/w2v_x_val.npy\")\n",
    "# x_test = np.load(\"dataset/w2v_x_test.npy\")\n",
    "# y_train = np.load(\"dataset/w2v_y_train.npy\")\n",
    "# y_val = np.load(\"dataset/w2v_y_val.npy\")\n",
    "# y_test = np.load(\"dataset/y_test.npy\")\n",
    "# with open('dataset/w2v_tokenizer.pickle', 'rb') as handle: \n",
    "#   tokenizer = pickle.load(handle)\n",
    "# embedding_matrix = np.load('dataset/w2v_embedding_matrix.npy')\n",
    "labels_index = [0, 1, 2]"
   ]
  },
  {
   "cell_type": "code",
   "execution_count": 45,
   "metadata": {},
   "outputs": [
    {
     "data": {
      "image/png": "[encoded data removed]",
      "text/plain": [
       "<Figure size 720x576 with 1 Axes>"
      ]
     },
     "metadata": {
      "needs_background": "light"
     },
     "output_type": "display_data"
    }
   ],
   "source": [
    "from sklearn .manifold import TSNE\n",
    "tsne = TSNE(n_components = 2, random_state = 123)\n",
    "word2vec_tsne = tsne.fit_transform(embedding_matrix)\n",
    "plt.figure(figsize=(10,8))\n",
    "plt.scatter(word2vec_tsne[:,0],word2vec_tsne[:,1],s=4)\n",
    "plt.title('所有词向量分布情况',fontproperties='SimHei',size=15)\n",
    "plt.show()"
   ]
  },
  {
   "cell_type": "code",
   "execution_count": 46,
   "metadata": {},
   "outputs": [
    {
     "data": {
      "image/png": "[encoded data removed]",
      "text/plain": [
       "<Figure size 720x576 with 1 Axes>"
      ]
     },
     "metadata": {
      "needs_background": "light"
     },
     "output_type": "display_data"
    }
   ],
   "source": [
    "vis_word=['引战','删除','不','封禁','人身攻击','都','言论','问题','自己','举报',\n",
    "         '观点','小黑屋','过激','但','而已','恶意','嘲讽','表达','明显','正常',\n",
    "         '喜欢','言语','违规','个人观点','地域黑','有点','冷静','辱骂','不能','嫌疑',]\n",
    "vis_word_index=[tokenizer.word_index[ii] for ii in vis_word ]\n",
    "plt.figure(figsize=(10,8))\n",
    "for ii,index in enumerate(vis_word_index):\n",
    "    plt.scatter(word2vec_tsne[index,0],word2vec_tsne[index,1])\n",
    "    plt.text(word2vec_tsne[index,0],word2vec_tsne[index,1],vis_word[ii],fontproperties='SimHei',size=15)\n",
    "plt.title('词向量的分布情况',fontproperties='SimHei',size=15)\n",
    "plt.show()    "
   ]
  },
  {
   "cell_type": "markdown",
   "metadata": {},
   "source": [
    "# 词向量"
   ]
  },
  {
   "cell_type": "markdown",
   "metadata": {},
   "source": [
    "## word2vec"
   ]
  },
  {
   "cell_type": "code",
   "execution_count": 26,
   "metadata": {},
   "outputs": [],
   "source": [
    "def clean_text(x):\n",
    "    x = x.strip()\n",
    "    for punct in PUCNTS:\n",
    "        x = x.replace(punct,'')\n",
    "    return x\n",
    "\n",
    "\"让文本只保留汉字、英文和数字\"\n",
    "def is_chinese_alphabet_number(xchar):\n",
    "    if (xchar >= u'\\u4e00' and xchar <= u'\\u9fa5') or (xchar >= u'\\u0030' and xchar <= u'\\u0039') or (xchar >= u'\\u0041' and xchar <= u'\\u005a') or (xchar >= u'\\u0061' and xchar <= u'\\u007a'):\n",
    "        return True\n",
    "    else:\n",
    "        return False\n",
    "\"将汉字、英文和数字保留下来\"\n",
    "def keep_text(x):\n",
    "    out_str=''\n",
    "    for i in x:\n",
    "        if is_chinese_alphabet_number(i):\n",
    "            out_str = out_str+i\n",
    "    return out_str\n",
    "\n",
    "def seg_sentence(sentence,stopwords):\n",
    "    \"对句子进行分词和去除停用词\"\n",
    "    jieba.load_userdict(\"dataset/user_dict.txt\")\n",
    "    sentence_lower = sentence.lower()\n",
    "    sentence_seged = jieba.cut(sentence_lower, cut_all=False)\n",
    "    outstr=''\n",
    "    for word in sentence_seged:\n",
    "        if word not in stopwords:\n",
    "                outstr+=word\n",
    "                outstr+=\" \"\n",
    "    return outstr\n",
    "\n",
    "def build_vocab(sentences,verbose=True):\n",
    "    \"追踪训练词汇表，遍历所有文本对单词进行计数\"\n",
    "    vocab={}\n",
    "    for sentence in tqdm(sentences,disable=(not verbose)):\n",
    "        #print(sentence)\n",
    "        for word in sentence.split():\n",
    "            try:\n",
    "                vocab[word] += 1\n",
    "            except KeyError:\n",
    "                vocab[word] = 1\n",
    "\n",
    "    return vocab\n",
    "\n",
    "def texts_to_sequences(sentences,vocab,verbose=True):\n",
    "    seq_sentences=[]\n",
    "    #pdb.set_trace()\n",
    "    unk_vec=np.random.random(embed_size)*0.5\n",
    "    unk_vec=unk_vec-unk_vec.mean()\n",
    "    for sentence in tqdm(sentences,disable=(not verbose)):\n",
    "        seq_sentence=[]\n",
    "        for word in sentence.split():\n",
    "            seq_sentence.append(vocab.get(word,unk_vec))\n",
    "        seq_sentences.append(seq_sentence)\n",
    "    return seq_sentences\n",
    "\n",
    "def w2v_load_and_prec():\n",
    "    vocab_size = 100\n",
    "    count = 0\n",
    "    if not os.path.exists('dataset/pre_dataset.csv') :\n",
    "        #文件读取\n",
    "        dataset = pd.read_csv('dataset/dataset.csv')\n",
    "        #创建停用词列表\n",
    "#         baidu_stopwords_file=open('dataset/baidu_stopwords.txt','r',encoding='utf-8')\n",
    "#         baidu_stopwords=baidu_stopwords_file.readlines()\n",
    "#         stopwords=[]\n",
    "#         for item in baidu_stopwords:\n",
    "#         stopwords.append(item.replace('\\n',''))\n",
    "        stopwords = ['的', '呀', '这', '那', '就', '的话', '如果', '了', '么','你们','和','以及','建议', '说','是', '吧','我','你','之','一个','在','这个','被','啊','和','吗','觉得','就是','应该','认为','很','感觉','可能','会','下面']\n",
    "        #创建自定义词表\n",
    "        dataset[\"content\"]=dataset[\"content\"].apply(lambda x: clean_text(x))\n",
    "        dataset[\"content\"]=dataset[\"content\"].apply(lambda x: keep_text(x))\n",
    "        dataset[\"content\"]=dataset[\"content\"].apply(lambda x: seg_sentence(x, stopwords))\n",
    "        dataset.to_csv('dataset/pre_dataset.csv', index = False)\n",
    "    else:\n",
    "        dataset = pd.read_csv('dataset/pre_dataset.csv')\n",
    "        for item in dataset['content']:\n",
    "            if str(item) == 'nan':\n",
    "                dataset['content'][count] = ''\n",
    "            count += 1\n",
    "    \n",
    "    labelMap = {1: 0, 2: 1, 4: 2}\n",
    "    labels = dataset['vote'].map(labelMap)\n",
    "    texts = dataset['content'].values\n",
    "    labels = labels.values\n",
    "    \n",
    "    tokenizer = Tokenizer()\n",
    "    tokenizer.fit_on_texts(texts)\n",
    "    sequences = tokenizer.texts_to_sequences(texts)\n",
    "    word_index = tokenizer.word_index\n",
    "    print('Found %s unique tokens.' % len(word_index)) #Found 39468 unique tokens.词频词典\n",
    "    \n",
    "    word_num = [len(text) for text in sequences]\n",
    "    plt.figure(figsize=(8,5))\n",
    "    _ = plt.hist(word_num, bins = 100)\n",
    "    plt.xlabel('word number')\n",
    "    plt.ylabel('Freq')\n",
    "    plt.show()\n",
    "\n",
    "    data = pad_sequences(sequences, maxlen=MAX_LEN, padding = 'post') \n",
    "    labels = to_categorical(np.asarray(labels))\n",
    "    print('Shape of data tensor:', data.shape) #(120000, 40)\n",
    "    print('Shape of label tensor:', labels.shape) #(120000, 3)\n",
    "    \n",
    "    x_train_val, x_test, y_train_val, y_test = train_test_split(data, labels, test_size = VAL_SPLIT, random_state = 2021)\n",
    "    x_train, x_val, y_train, y_val = train_test_split(x_train_val, y_train_val, test_size = VAL_SPLIT, random_state = 2021)\n",
    "    \n",
    "    print(\"Train shape: \",x_train.shape)   # (97200, 40)\n",
    "    print(\"Val shape: \",x_val.shape)   # (10800, 40)\n",
    "    print(\"Test shape: \",x_test.shape) # (12000, 40)\n",
    "    \n",
    "    np.random.seed(2021)\n",
    "    trn_idx=np.random.permutation(len(x_train))\n",
    "    val_idx=np.random.permutation(len(x_val))\n",
    "    print(x_train[0])\n",
    "    x_train=x_train[trn_idx]\n",
    "    x_val=x_val[val_idx]\n",
    "    y_train=y_train[trn_idx]\n",
    "    y_val=y_val[val_idx]\n",
    "    print(x_train[0])\n",
    "    return dataset, x_train, x_val, x_test, y_train, y_val, y_test, tokenizer\n",
    "\n",
    "def input_embed():\n",
    "    embeddings_index = {}\n",
    "    with open('dataset/1000000-small.txt','r') as f:\n",
    "        for i,line in tqdm(enumerate(f),disable=(not verbose)):\n",
    "            if i == 0:\n",
    "                continue\n",
    "            values = line.split()\n",
    "            word = values[0]\n",
    "            codes = np.asarray(values[1:], dtype='float32')\n",
    "            embeddings_index[word] = codes\n",
    "    print('Found %s word vectors.' % len(embeddings_index))\n",
    "    return embeddings_index\n",
    "\n",
    "def embed_matrix(word_index, embeddings_index):\n",
    "    embedding_matrix = np.zeros((len(word_index) + 1, EMBED_SIZE))\n",
    "    for word, i in word_index.items():\n",
    "        embedding_vector = embeddings_index.get(word)\n",
    "        if embedding_vector is not None:\n",
    "            embedding_matrix[i] = embedding_vector\n",
    "    return embedding_matrix\n",
    "            "
   ]
  },
  {
   "cell_type": "code",
   "execution_count": 27,
   "metadata": {},
   "outputs": [],
   "source": [
    "def word2vec_model(dataset, word_index, verbose=True):\n",
    "    nb_words=len(word_index)\n",
    "    print(nb_words)\n",
    "    start=time.clock()\n",
    "    all_data=dataset['content']\n",
    "    file_name='dataset/word2vec.model'\n",
    "    if not os.path.exists(file_name):\n",
    "        model=Word2Vec([[word for word in sentence.split()] for sentence in all_data.values],\n",
    "                       vector_size=EMBED_SIZE,window=5,epochs=10,workers=11,seed=2019,min_count=2)\n",
    "        model.save(file_name)\n",
    "    else:\n",
    "        model=Word2Vec.load(file_name)\n",
    "    print(\"add word2vec finished...\")\n",
    "    end=time.clock()\n",
    "    print('Running time: %s Seconds' %(end-start))\n",
    "     \n",
    "#     max_features=20000\n",
    "#     nb_words=min(max_features,len(vocab))\n",
    "    embedding_word2vec_matrix=np.zeros((nb_words+1,EMBED_SIZE))\n",
    "    for word,i in tqdm(word_index.items(),disable=(not verbose)):\n",
    "#         if i>max_features:continue  #词频过多，代表不了含义\n",
    "        embedding_vector=model.wv[word] if word in model.wv else None\n",
    "        if embedding_vector is not None:\n",
    "            embedding_word2vec_matrix[i]=embedding_vector\n",
    "        else:\n",
    "            unk_vec=np.random.random(EMBED_SIZE)*0.5\n",
    "            unk_vec=unk_vec-unk_vec.mean()\n",
    "#             unk_vec=0\n",
    "            embedding_word2vec_matrix[i]=unk_vec\n",
    "    del model;\n",
    "    gc.collect()\n",
    "          \n",
    "    return embedding_word2vec_matrix"
   ]
  },
  {
   "cell_type": "code",
   "execution_count": 28,
   "metadata": {
    "scrolled": true
   },
   "outputs": [
    {
     "name": "stderr",
     "output_type": "stream",
     "text": [
      "D:\\Anaconda3\\envs\\tensorflow\\lib\\site-packages\\ipykernel_launcher.py:80: SettingWithCopyWarning: \n",
      "A value is trying to be set on a copy of a slice from a DataFrame\n",
      "\n",
      "See the caveats in the documentation: https://pandas.pydata.org/pandas-docs/stable/user_guide/indexing.html#returning-a-view-versus-a-copy\n"
     ]
    },
    {
     "name": "stdout",
     "output_type": "stream",
     "text": [
      "Found 39391 unique tokens.\n"
     ]
    },
    {
     "data": {
      "image/png": "[encoded data removed]",
      "text/plain": [
       "<Figure size 576x360 with 1 Axes>"
      ]
     },
     "metadata": {
      "needs_background": "light"
     },
     "output_type": "display_data"
    },
    {
     "name": "stdout",
     "output_type": "stream",
     "text": [
      "Shape of data tensor: (120000, 30)\n",
      "Shape of label tensor: (120000, 3)\n",
      "Train shape:  (97200, 30)\n",
      "Val shape:  (10800, 30)\n",
      "Test shape:  (12000, 30)\n",
      "[  26   16  925    5  102 8590  257   74    6 2449  279    0    0    0\n",
      "    0    0    0    0    0    0    0    0    0    0    0    0    0    0\n",
      "    0    0]\n",
      "[ 590   12  102 1491 1757 1624 1132    1    2  324   68  320   39  647\n",
      "    3  140    3  374  434    0    0    0    0    0    0    0    0    0\n",
      "    0    0]\n",
      "39391\n"
     ]
    },
    {
     "name": "stderr",
     "output_type": "stream",
     "text": [
      "D:\\Anaconda3\\envs\\tensorflow\\lib\\site-packages\\ipykernel_launcher.py:4: DeprecationWarning: time.clock has been deprecated in Python 3.3 and will be removed from Python 3.8: use time.perf_counter or time.process_time instead\n",
      "  after removing the cwd from sys.path.\n",
      "D:\\Anaconda3\\envs\\tensorflow\\lib\\site-packages\\ipykernel_launcher.py:14: DeprecationWarning: time.clock has been deprecated in Python 3.3 and will be removed from Python 3.8: use time.perf_counter or time.process_time instead\n",
      "  \n",
      " 46%|█████████████████████████████████                                       | 18088/39391 [00:00<00:00, 179561.17it/s]"
     ]
    },
    {
     "name": "stdout",
     "output_type": "stream",
     "text": [
      "add word2vec finished...\n",
      "Running time: 0.8043886999994356 Seconds\n"
     ]
    },
    {
     "name": "stderr",
     "output_type": "stream",
     "text": [
      "100%|█████████████████████████████████████████████████████████████████████████| 39391/39391 [00:00<00:00, 73277.21it/s]\n"
     ]
    },
    {
     "name": "stdout",
     "output_type": "stream",
     "text": [
      "(39392, 200)\n"
     ]
    }
   ],
   "source": [
    "dataset, x_train, x_val, x_test, y_train, y_val, y_test, tokenizer= w2v_load_and_prec()\n",
    "np.save(\"dataset/w2v_x_train.npy\",x_train)\n",
    "np.save(\"dataset/w2v_x_val.npy\",x_val)\n",
    "np.save(\"dataset/w2v_x_test.npy\",x_test)\n",
    "np.save(\"dataset/w2v_y_train.npy\",y_train)\n",
    "np.save(\"dataset/w2v_y_val.npy\",y_val)\n",
    "np.save(\"dataset/w2v_y_test.npy\",y_test)\n",
    "embedding_word2vec_matrix=word2vec_model(dataset,tokenizer.word_index)\n",
    "with open('dataset/w2v_tokenizer.pickle', 'wb') as handle: \n",
    "    pickle.dump(tokenizer, handle, protocol=pickle.HIGHEST_PROTOCOL) \n",
    "print(embedding_word2vec_matrix.shape)  #(73915, 200)\n",
    "np.save(\"dataset/w2v_embedding_matrix.npy\",embedding_word2vec_matrix)"
   ]
  },
  {
   "cell_type": "markdown",
   "metadata": {},
   "source": [
    "## GloVe"
   ]
  },
  {
   "cell_type": "code",
   "execution_count": null,
   "metadata": {},
   "outputs": [],
   "source": [
    "def glove_model(dataset, word_index):\n",
    "    corpus_model = Corpus()\n",
    "    corpus_model.fit(dataset['content'], window=10)\n",
    "    print('Dict size: %s' % len(corpus_model.dictionary))\n",
    "    print('Collocations: %s' % corpus_model.matrix.nnz)\n",
    "    glove_name='dataset/glove.model'\n",
    "    corpus_name='dataset/corpus.model'\n",
    "    if not os.path.exists(glove_name):\n",
    "        #训练\n",
    "        glove = Glove(no_components=100, learning_rate=0.05)\n",
    "        glove.fit(corpus_model.matrix, epochs=10, no_threads=1, verbose=True)\n",
    "        glove.add_dictionary(corpus_model.dictionary)\n",
    "        glove.save('glove.model')\n",
    "    else:\n",
    "        glove = Glove.load(glove_name)\n",
    "        \n",
    "    if not os.path.exists(corpus_name):\n",
    "        corpus_model.save(corpus_name)\n",
    "\n",
    "    pdb.set_trace()\n",
    "    \n"
   ]
  },
  {
   "cell_type": "code",
   "execution_count": null,
   "metadata": {},
   "outputs": [],
   "source": [
    "if __name__ == '__main__':\n",
    "    dataset, x_train, x_val, x_test, y_train, y_val, y_test, tokenizer= w2v_load_and_prec()\n",
    "    glove_model(dataset, tokenizer.word_index)"
   ]
  },
  {
   "cell_type": "markdown",
   "metadata": {},
   "source": [
    "# TextCNN"
   ]
  },
  {
   "cell_type": "code",
   "execution_count": 36,
   "metadata": {
    "colab": {
     "base_uri": "https://localhost:8080/"
    },
    "executionInfo": {
     "elapsed": 1006,
     "status": "ok",
     "timestamp": 1617544915089,
     "user": {
      "displayName": "孟维民",
      "photoUrl": "",
      "userId": "01682933707738661337"
     },
     "user_tz": -480
    },
    "id": "KdJpBi_pHEE3",
    "outputId": "badd56da-dfc2-4751-834c-834db0e74c40",
    "scrolled": false
   },
   "outputs": [
    {
     "name": "stdout",
     "output_type": "stream",
     "text": [
      "Model: \"functional_1\"\n",
      "__________________________________________________________________________________________________\n",
      "Layer (type)                    Output Shape         Param #     Connected to                     \n",
      "==================================================================================================\n",
      "input_1 (InputLayer)            [(None, 30)]         0                                            \n",
      "__________________________________________________________________________________________________\n",
      "embedding (Embedding)           (None, 30, 200)      7878400     input_1[0][0]                    \n",
      "__________________________________________________________________________________________________\n",
      "reshape (Reshape)               (None, 30, 200, 1)   0           embedding[0][0]                  \n",
      "__________________________________________________________________________________________________\n",
      "conv2d (Conv2D)                 (None, 30, 1, 36)    7236        reshape[0][0]                    \n",
      "__________________________________________________________________________________________________\n",
      "conv2d_1 (Conv2D)               (None, 29, 1, 36)    14436       reshape[0][0]                    \n",
      "__________________________________________________________________________________________________\n",
      "conv2d_2 (Conv2D)               (None, 28, 1, 36)    21636       reshape[0][0]                    \n",
      "__________________________________________________________________________________________________\n",
      "conv2d_3 (Conv2D)               (None, 26, 1, 36)    36036       reshape[0][0]                    \n",
      "__________________________________________________________________________________________________\n",
      "dropout (Dropout)               (None, 30, 1, 36)    0           conv2d[0][0]                     \n",
      "__________________________________________________________________________________________________\n",
      "dropout_1 (Dropout)             (None, 29, 1, 36)    0           conv2d_1[0][0]                   \n",
      "__________________________________________________________________________________________________\n",
      "dropout_2 (Dropout)             (None, 28, 1, 36)    0           conv2d_2[0][0]                   \n",
      "__________________________________________________________________________________________________\n",
      "dropout_3 (Dropout)             (None, 26, 1, 36)    0           conv2d_3[0][0]                   \n",
      "__________________________________________________________________________________________________\n",
      "max_pooling2d (MaxPooling2D)    (None, 1, 1, 36)     0           dropout[0][0]                    \n",
      "__________________________________________________________________________________________________\n",
      "max_pooling2d_1 (MaxPooling2D)  (None, 1, 1, 36)     0           dropout_1[0][0]                  \n",
      "__________________________________________________________________________________________________\n",
      "max_pooling2d_2 (MaxPooling2D)  (None, 1, 1, 36)     0           dropout_2[0][0]                  \n",
      "__________________________________________________________________________________________________\n",
      "max_pooling2d_3 (MaxPooling2D)  (None, 1, 1, 36)     0           dropout_3[0][0]                  \n",
      "__________________________________________________________________________________________________\n",
      "concatenate (Concatenate)       (None, 4, 1, 36)     0           max_pooling2d[0][0]              \n",
      "                                                                 max_pooling2d_1[0][0]            \n",
      "                                                                 max_pooling2d_2[0][0]            \n",
      "                                                                 max_pooling2d_3[0][0]            \n",
      "__________________________________________________________________________________________________\n",
      "flatten (Flatten)               (None, 144)          0           concatenate[0][0]                \n",
      "__________________________________________________________________________________________________\n",
      "dropout_4 (Dropout)             (None, 144)          0           flatten[0][0]                    \n",
      "__________________________________________________________________________________________________\n",
      "dense (Dense)                   (None, 3)            435         dropout_4[0][0]                  \n",
      "==================================================================================================\n",
      "Total params: 7,958,179\n",
      "Trainable params: 7,958,179\n",
      "Non-trainable params: 0\n",
      "__________________________________________________________________________________________________\n"
     ]
    }
   ],
   "source": [
    "K.clear_session()\n",
    "model = model_cnn(tokenizer.word_index, labels_index, embedding_matrix)\n",
    "model.summary()"
   ]
  },
  {
   "cell_type": "code",
   "execution_count": null,
   "metadata": {},
   "outputs": [
    {
     "name": "stdout",
     "output_type": "stream",
     "text": [
      "on train begin 12000\n",
      "Epoch 1/40\n",
      "760/760 [==============================] - ETA: 0s - loss: 1.1663 - accuracy: 0.6373\n",
      "on epoch end : 12000\n",
      "\n",
      "— test_f1: 0.774184 — test_precision: 0.774137 — test_recall 0.774659\n",
      " — test_f1: 0.7741837141268949\n",
      "760/760 [==============================] - 144s 189ms/step - loss: 1.1663 - accuracy: 0.6373 - val_loss: 0.5589 - val_accuracy: 0.7740\n",
      "Epoch 2/40\n",
      "760/760 [==============================] - ETA: 0s - loss: 0.7067 - accuracy: 0.7354\n",
      "on epoch end : 12000\n",
      "\n",
      "— test_f1: 0.785693 — test_precision: 0.786564 — test_recall 0.786764\n",
      " — test_f1: 0.7856930962506802\n",
      "760/760 [==============================] - 141s 186ms/step - loss: 0.7067 - accuracy: 0.7354 - val_loss: 0.5162 - val_accuracy: 0.7866\n",
      "Epoch 3/40\n",
      "760/760 [==============================] - ETA: 0s - loss: 0.5914 - accuracy: 0.7611\n",
      "on epoch end : 12000\n",
      "\n",
      "— test_f1: 0.791533 — test_precision: 0.792014 — test_recall 0.792349\n",
      " — test_f1: 0.7915332560030829\n",
      "760/760 [==============================] - 144s 189ms/step - loss: 0.5914 - accuracy: 0.7611 - val_loss: 0.4965 - val_accuracy: 0.7958\n",
      "Epoch 4/40\n",
      "760/760 [==============================] - ETA: 0s - loss: 0.5388 - accuracy: 0.7796 - ETA\n",
      "on epoch end : 12000\n",
      "\n",
      "— test_f1: 0.794667 — test_precision: 0.795077 — test_recall 0.795660\n",
      " — test_f1: 0.7946669369550188\n",
      "760/760 [==============================] - 147s 194ms/step - loss: 0.5388 - accuracy: 0.7796 - val_loss: 0.4856 - val_accuracy: 0.7991\n",
      "Epoch 5/40\n",
      "760/760 [==============================] - ETA: 0s - loss: 0.5147 - accuracy: 0.7877\n",
      "on epoch end : 12000\n",
      "\n",
      "— test_f1: 0.797190 — test_precision: 0.798093 — test_recall 0.798408\n",
      " — test_f1: 0.7971900153163459\n",
      "760/760 [==============================] - 149s 196ms/step - loss: 0.5147 - accuracy: 0.7877 - val_loss: 0.4773 - val_accuracy: 0.8045\n",
      "Epoch 6/40\n",
      " 77/760 [==>...........................] - ETA: 2:08 - loss: 0.4834 - accuracy: 0.8018"
     ]
    }
   ],
   "source": [
    "myMetrics = Metrics(x_test, y_test)   #测试集在每个epoch的表现\n",
    "history = model.fit(x_train, y_train, callbacks = [myMetrics], epochs=EPOCHS, batch_size=BATCH_SIZE, validation_data=(x_val, y_val))"
   ]
  },
  {
   "cell_type": "code",
   "execution_count": 65,
   "metadata": {
    "colab": {
     "base_uri": "https://localhost:8080/",
     "height": 755
    },
    "executionInfo": {
     "elapsed": 1562025,
     "status": "error",
     "timestamp": 1617546534237,
     "user": {
      "displayName": "孟维民",
      "photoUrl": "",
      "userId": "01682933707738661337"
     },
     "user_tz": -480
    },
    "id": "mW4KMwSoLxLu",
    "outputId": "013161eb-de37-44e5-e4c4-5ba6e0a88562"
   },
   "outputs": [
    {
     "data": {
      "image/png": "[encoded data removed]",
      "text/plain": [
       "<Figure size 432x288 with 2 Axes>"
      ]
     },
     "metadata": {
      "needs_background": "light"
     },
     "output_type": "display_data"
    },
    {
     "name": "stdout",
     "output_type": "stream",
     "text": [
      "375/375 [==============================] - 2s 6ms/step - loss: 1.2224 - accuracy: 0.7872\n",
      "Test loss: 1.222, accuracy: 0.787\n"
     ]
    }
   ],
   "source": [
    "# plot loss function\n",
    "plt.subplot(211)\n",
    "plt.title(\"accuracy\")\n",
    "plt.plot(history.history[\"accuracy\"], color=\"r\", label=\"train\")\n",
    "plt.plot(history.history[\"val_accuracy\"], color=\"b\", label=\"validation\")\n",
    "plt.legend(loc=\"best\")\n",
    "\n",
    "plt.subplot(212)\n",
    "plt.title(\"loss\")\n",
    "plt.plot(history.history[\"loss\"], color=\"r\", label=\"train\")\n",
    "plt.plot(history.history[\"val_loss\"], color=\"b\", label=\"validation\")\n",
    "plt.legend(loc=\"best\")\n",
    "\n",
    "plt.tight_layout()\n",
    "plt.show()\n",
    "\n",
    "# evaluate model\n",
    "score = model.evaluate(x_test, y_test, verbose=1)\n",
    "print(\"Test loss: {:.3f}, accuracy: {:.3f}\".format(score[0], score[1]))"
   ]
  },
  {
   "cell_type": "markdown",
   "metadata": {},
   "source": [
    "# BiLSTM"
   ]
  },
  {
   "cell_type": "code",
   "execution_count": 8,
   "metadata": {
    "colab": {
     "base_uri": "https://localhost:8080/"
    },
    "executionInfo": {
     "elapsed": 2315,
     "status": "ok",
     "timestamp": 1617616826229,
     "user": {
      "displayName": "孟维民",
      "photoUrl": "",
      "userId": "01682933707738661337"
     },
     "user_tz": -480
    },
    "id": "CYJPqVP0CZxB",
    "outputId": "d9afc016-dad2-492b-9c36-0bdd42a00194"
   },
   "outputs": [
    {
     "name": "stdout",
     "output_type": "stream",
     "text": [
      "Model: \"functional_1\"\n",
      "_________________________________________________________________\n",
      "Layer (type)                 Output Shape              Param #   \n",
      "=================================================================\n",
      "input_1 (InputLayer)         [(None, 30)]              0         \n",
      "_________________________________________________________________\n",
      "embedding (Embedding)        (None, 30, 200)           7893800   \n",
      "_________________________________________________________________\n",
      "bidirectional (Bidirectional (None, 30, 256)           336896    \n",
      "_________________________________________________________________\n",
      "bidirectional_1 (Bidirection (None, 30, 128)           164352    \n",
      "_________________________________________________________________\n",
      "attention (Attention)        (None, 128)               158       \n",
      "_________________________________________________________________\n",
      "dense (Dense)                (None, 64)                8256      \n",
      "_________________________________________________________________\n",
      "dense_1 (Dense)              (None, 3)                 195       \n",
      "=================================================================\n",
      "Total params: 8,403,657\n",
      "Trainable params: 509,857\n",
      "Non-trainable params: 7,893,800\n",
      "_________________________________________________________________\n"
     ]
    }
   ],
   "source": [
    "K.clear_session()\n",
    "Attn_BiLSTM = model_lstm_attn(tokenizer.word_index, labels_index, embedding_matrix)\n",
    "Attn_BiLSTM.summary()"
   ]
  },
  {
   "cell_type": "code",
   "execution_count": null,
   "metadata": {
    "colab": {
     "base_uri": "https://localhost:8080/"
    },
    "executionInfo": {
     "elapsed": 6151064,
     "status": "ok",
     "timestamp": 1617622984486,
     "user": {
      "displayName": "孟维民",
      "photoUrl": "",
      "userId": "01682933707738661337"
     },
     "user_tz": -480
    },
    "id": "1a8x4jxhFuzH",
    "outputId": "20caf573-01b6-4d1c-df4c-978abcbedf5c"
   },
   "outputs": [
    {
     "name": "stdout",
     "output_type": "stream",
     "text": [
      "Epoch 1/20\n",
      "760/760 [==============================] - 229s 302ms/step - loss: 0.5538 - accuracy: 0.7656 - val_loss: 0.4939 - val_accuracy: 0.7941\n",
      "Epoch 2/20\n",
      "760/760 [==============================] - 227s 299ms/step - loss: 0.4691 - accuracy: 0.8027 - val_loss: 0.4588 - val_accuracy: 0.8075\n",
      "Epoch 3/20\n",
      "760/760 [==============================] - 216s 284ms/step - loss: 0.4405 - accuracy: 0.8142 - val_loss: 0.4448 - val_accuracy: 0.8129\n",
      "Epoch 4/20\n",
      "760/760 [==============================] - 162s 213ms/step - loss: 0.4209 - accuracy: 0.8225 - val_loss: 0.4348 - val_accuracy: 0.8216\n",
      "Epoch 5/20\n",
      "760/760 [==============================] - 165s 217ms/step - loss: 0.4044 - accuracy: 0.8293 - val_loss: 0.4334 - val_accuracy: 0.8172\n",
      "Epoch 6/20\n",
      "760/760 [==============================] - 164s 216ms/step - loss: 0.3899 - accuracy: 0.8356 - val_loss: 0.4168 - val_accuracy: 0.8273\n",
      "Epoch 7/20\n",
      "760/760 [==============================] - 166s 218ms/step - loss: 0.3749 - accuracy: 0.8436 - val_loss: 0.4358 - val_accuracy: 0.8235\n",
      "Epoch 8/20\n",
      "760/760 [==============================] - 167s 219ms/step - loss: 0.3578 - accuracy: 0.8512 - val_loss: 0.4319 - val_accuracy: 0.8275\n",
      "Epoch 9/20\n",
      "760/760 [==============================] - 166s 219ms/step - loss: 0.3426 - accuracy: 0.8571 - val_loss: 0.4240 - val_accuracy: 0.8297\n",
      "Epoch 10/20\n",
      "760/760 [==============================] - 167s 220ms/step - loss: 0.3231 - accuracy: 0.8661 - val_loss: 0.4363 - val_accuracy: 0.8270\n",
      "Epoch 11/20\n",
      "760/760 [==============================] - 167s 219ms/step - loss: 0.3034 - accuracy: 0.8744 - val_loss: 0.4538 - val_accuracy: 0.8282\n",
      "Epoch 12/20\n",
      "760/760 [==============================] - 168s 221ms/step - loss: 0.2828 - accuracy: 0.8831 - val_loss: 0.4650 - val_accuracy: 0.8229\n",
      "Epoch 13/20\n",
      "760/760 [==============================] - 168s 222ms/step - loss: 0.2610 - accuracy: 0.8929 - val_loss: 0.4899 - val_accuracy: 0.8224\n",
      "Epoch 14/20\n",
      "760/760 [==============================] - 167s 220ms/step - loss: 0.2395 - accuracy: 0.9025 - val_loss: 0.5232 - val_accuracy: 0.8216\n",
      "Epoch 15/20\n",
      "760/760 [==============================] - 168s 222ms/step - loss: 0.2178 - accuracy: 0.9121 - val_loss: 0.5805 - val_accuracy: 0.8167\n",
      "Epoch 16/20\n",
      " 26/760 [>.............................] - ETA: 2:34 - loss: 0.1865 - accuracy: 0.9261"
     ]
    }
   ],
   "source": [
    "Attn_BiLSTM.fit(x_train, y_train, validation_data=(x_val, y_val),\n",
    "          epochs=EPOCHS, batch_size=BATCH_SIZE)"
   ]
  }
 ],
 "metadata": {
  "colab": {
   "collapsed_sections": [],
   "name": "train_bilibili.ipynb",
   "provenance": []
  },
  "kernelspec": {
   "display_name": "Python 3",
   "language": "python",
   "name": "python3"
  },
  "language_info": {
   "codemirror_mode": {
    "name": "ipython",
    "version": 3
   },
   "file_extension": ".py",
   "mimetype": "text/x-python",
   "name": "python",
   "nbconvert_exporter": "python",
   "pygments_lexer": "ipython3",
   "version": "3.7.6"
  },
  "toc": {
   "base_numbering": 1,
   "nav_menu": {},
   "number_sections": true,
   "sideBar": true,
   "skip_h1_title": false,
   "title_cell": "Table of Contents",
   "title_sidebar": "Contents",
   "toc_cell": false,
   "toc_position": {
    "height": "calc(100% - 180px)",
    "left": "10px",
    "top": "150px",
    "width": "272.797px"
   },
   "toc_section_display": true,
   "toc_window_display": true
  }
 },
 "nbformat": 4,
 "nbformat_minor": 1
}
