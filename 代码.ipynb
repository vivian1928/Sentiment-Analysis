{
 "cells": [
  {
   "cell_type": "markdown",
   "metadata": {
    "colab_type": "text",
    "id": "ETbAP2Vh_Dek"
   },
   "source": [
    "## colab路径设置"
   ]
  },
  {
   "cell_type": "code",
   "execution_count": 2,
   "metadata": {
    "colab": {
     "base_uri": "https://localhost:8080/",
     "height": 120
    },
    "colab_type": "code",
    "id": "QLCqAyNv_D42",
    "outputId": "0cc78a41-f5a0-4954-b991-019a43e028a0"
   },
   "outputs": [
    {
     "name": "stdout",
     "output_type": "stream",
     "text": [
      "Go to this URL in a browser: https://accounts.google.com/o/oauth2/auth?client_id=947318989803-6bn6qk8qdgf4n4g3pfee6491hc0brc4i.apps.googleusercontent.com&redirect_uri=urn%3aietf%3awg%3aoauth%3a2.0%3aoob&scope=email%20https%3a%2f%2fwww.googleapis.com%2fauth%2fdocs.test%20https%3a%2f%2fwww.googleapis.com%2fauth%2fdrive%20https%3a%2f%2fwww.googleapis.com%2fauth%2fdrive.photos.readonly%20https%3a%2f%2fwww.googleapis.com%2fauth%2fpeopleapi.readonly&response_type=code\n",
      "\n",
      "Enter your authorization code:\n",
      "··········\n",
      "Mounted at /content/drive\n"
     ]
    }
   ],
   "source": [
    "from google.colab import drive\n",
    "drive.mount('/content/drive')"
   ]
  },
  {
   "cell_type": "code",
   "execution_count": 3,
   "metadata": {
    "colab": {},
    "colab_type": "code",
    "id": "RNz4dg5Od4P9"
   },
   "outputs": [],
   "source": [
    "import os\n",
    "os.chdir('drive/My Drive/NLP')"
   ]
  },
  {
   "cell_type": "code",
   "execution_count": 4,
   "metadata": {
    "colab": {
     "base_uri": "https://localhost:8080/",
     "height": 33
    },
    "colab_type": "code",
    "id": "SpHGoULlHeWz",
    "outputId": "c49b7406-faa8-467d-9184-ac1331a21e05"
   },
   "outputs": [
    {
     "name": "stdout",
     "output_type": "stream",
     "text": [
      "/content/drive/My Drive/NLP\n"
     ]
    }
   ],
   "source": [
    "!pwd"
   ]
  },
  {
   "cell_type": "markdown",
   "metadata": {
    "colab_type": "text",
    "id": "QM0cC9NrHfLM"
   },
   "source": [
    "#解压数据集并查看"
   ]
  },
  {
   "cell_type": "code",
   "execution_count": null,
   "metadata": {
    "colab": {},
    "colab_type": "code",
    "id": "lQT08sXVecgr"
   },
   "outputs": [],
   "source": [
    "!unzip aclImdb_v1.zip"
   ]
  },
  {
   "cell_type": "code",
   "execution_count": null,
   "metadata": {
    "colab": {},
    "colab_type": "code",
    "id": "HDAJMmKfHqgI"
   },
   "outputs": [],
   "source": [
    "cd /content/drive/My Drive/NLP/aclImdb_v1/train/pos"
   ]
  },
  {
   "cell_type": "code",
   "execution_count": null,
   "metadata": {
    "colab": {
     "base_uri": "https://localhost:8080/",
     "height": 35
    },
    "colab_type": "code",
    "id": "mQvYiq6cx5pe",
    "outputId": "3121df5d-5f75-46c7-922d-5998559f76d1"
   },
   "outputs": [
    {
     "name": "stdout",
     "output_type": "stream",
     "text": [
      "12500\n"
     ]
    }
   ],
   "source": [
    "!ls -l |grep \"^-\"|wc -l"
   ]
  },
  {
   "cell_type": "markdown",
   "metadata": {
    "colab_type": "text",
    "id": "oZLeHPamfT6A"
   },
   "source": [
    "#导入训练集和测试集"
   ]
  },
  {
   "cell_type": "markdown",
   "metadata": {
    "colab_type": "text",
    "id": "_NG9dvkohHUj"
   },
   "source": [
    "## 统计数据集信息"
   ]
  },
  {
   "cell_type": "markdown",
   "metadata": {
    "colab_type": "text",
    "id": "TSUXM_n0IsPK"
   },
   "source": [
    "###训练集记录文件目录"
   ]
  },
  {
   "cell_type": "code",
   "execution_count": null,
   "metadata": {
    "colab": {
     "base_uri": "https://localhost:8080/",
     "height": 294
    },
    "colab_type": "code",
    "id": "6SIarlyWfSNL",
    "outputId": "be45acad-a563-4e0c-a488-8354e263d797"
   },
   "outputs": [
    {
     "name": "stdout",
     "output_type": "stream",
     "text": [
      "训练集正面评价处理到第12500个\n",
      "训练集负面评价处理到第12500个\n",
      "                        file_names_train\n",
      "0       aclImdb_v1/train/pos/11302_8.txt\n",
      "1      aclImdb_v1/train/pos/11005_10.txt\n",
      "2      aclImdb_v1/train/pos/11277_10.txt\n",
      "3      aclImdb_v1/train/pos/10934_10.txt\n",
      "4      aclImdb_v1/train/pos/11272_10.txt\n",
      "...                                  ...\n",
      "24995     aclImdb_v1/train/neg/593_1.txt\n",
      "24996     aclImdb_v1/train/neg/682_3.txt\n",
      "24997     aclImdb_v1/train/neg/591_4.txt\n",
      "24998     aclImdb_v1/train/neg/400_2.txt\n",
      "24999     aclImdb_v1/train/neg/319_1.txt\n",
      "\n",
      "[25000 rows x 1 columns]\n"
     ]
    }
   ],
   "source": [
    "import os\n",
    "from os.path import isfile, join\n",
    "import pandas as pd\n",
    "\n",
    "train_pos_files = []    #训练集正面评价列表\n",
    "train_neg_files = []    #训练集负面评价列表\n",
    "\n",
    "file_names = []\n",
    "name = ['file_names_train']\n",
    "\n",
    "i = 0   #计数变量\n",
    "for f in os.listdir('aclImdb_v1/train/pos/'):\n",
    "  if isfile(join('aclImdb_v1/train/pos/', f)):\n",
    "    i += 1  \n",
    "    train_pos_files.append(join('aclImdb_v1/train/pos/', f))\n",
    "print(\"训练集正面评价处理到第\"+ str(i) + \"个\")\n",
    "\n",
    "i = 0\n",
    "for f in os.listdir('aclImdb_v1/train/neg/'):\n",
    "  if isfile(join('aclImdb_v1/train/neg/', f)):\n",
    "    i += 1 \n",
    "    train_neg_files.append(join('aclImdb_v1/train/neg/', f))\n",
    "print(\"训练集负面评价处理到第\"+ str(i) + \"个\")\n",
    "\n",
    "file_names = train_pos_files + train_neg_files\n",
    "file_list = pd.DataFrame(columns = name, data = file_names)  #保存文件名\n",
    "print(file_list)\n",
    "file_list.to_csv('file_names.csv',encoding='utf-8')"
   ]
  },
  {
   "cell_type": "markdown",
   "metadata": {
    "colab_type": "text",
    "id": "9OgaJ_GUIwFz"
   },
   "source": [
    "###测试集记录文件目录"
   ]
  },
  {
   "cell_type": "code",
   "execution_count": null,
   "metadata": {
    "colab": {
     "base_uri": "https://localhost:8080/",
     "height": 294
    },
    "colab_type": "code",
    "id": "YfpI9v08IymI",
    "outputId": "550cc51e-0a76-4a3c-8794-a8bc0479db93"
   },
   "outputs": [
    {
     "name": "stdout",
     "output_type": "stream",
     "text": [
      "测试集正面评价处理到第12500个\n",
      "测试集负面评价处理到第12500个\n",
      "                        file_names_test\n",
      "0      aclImdb_v1/test/pos/10880_10.txt\n",
      "1      aclImdb_v1/test/pos/11116_10.txt\n",
      "2       aclImdb_v1/test/pos/11485_9.txt\n",
      "3       aclImdb_v1/test/pos/11467_7.txt\n",
      "4      aclImdb_v1/test/pos/11552_10.txt\n",
      "...                                 ...\n",
      "24995     aclImdb_v1/test/neg/510_2.txt\n",
      "24996     aclImdb_v1/test/neg/516_1.txt\n",
      "24997     aclImdb_v1/test/neg/511_3.txt\n",
      "24998     aclImdb_v1/test/neg/533_1.txt\n",
      "24999     aclImdb_v1/test/neg/575_4.txt\n",
      "\n",
      "[25000 rows x 1 columns]\n"
     ]
    }
   ],
   "source": [
    "import os\n",
    "from os.path import isfile, join\n",
    "import pandas as pd\n",
    "\n",
    "test_pos_files = []    #测试集正面评价列表\n",
    "test_neg_files = []    #测试集负面评价列表\n",
    "\n",
    "file_names = []\n",
    "name = ['file_names_test']\n",
    "\n",
    "i = 0   #计数变量\n",
    "#pdb.set_trace()\n",
    "for f in os.listdir('aclImdb_v1/test/pos/'):\n",
    "  if isfile(join('aclImdb_v1/test/pos/', f)):\n",
    "    i += 1  \n",
    "    test_pos_files.append(join('aclImdb_v1/test/pos/', f))\n",
    "print(\"测试集正面评价处理到第\"+ str(i) + \"个\")\n",
    "\n",
    "i = 0\n",
    "#pdb.set_trace()\n",
    "for f in os.listdir('aclImdb_v1/test/neg/'):\n",
    "  if isfile(join('aclImdb_v1/test/neg/', f)):\n",
    "    i += 1 \n",
    "    test_neg_files.append(join('aclImdb_v1/test/neg/', f))\n",
    "print(\"测试集负面评价处理到第\"+ str(i) + \"个\")\n",
    "\n",
    "file_names = test_pos_files + test_neg_files\n",
    "file_list = pd.DataFrame(columns = name, data = file_names)  #保存文件名\n",
    "print(file_list)\n",
    "file_list.to_csv('file_names_test.csv',encoding='utf-8')"
   ]
  },
  {
   "cell_type": "markdown",
   "metadata": {
    "colab_type": "text",
    "id": "msRR7EqGKD3j"
   },
   "source": [
    "##读取文件目录"
   ]
  },
  {
   "cell_type": "code",
   "execution_count": null,
   "metadata": {
    "colab": {
     "base_uri": "https://localhost:8080/",
     "height": 87
    },
    "colab_type": "code",
    "id": "dDKuVs8S6542",
    "outputId": "d9f70a26-6bef-4b5c-fd1a-5db1c3e15729"
   },
   "outputs": [
    {
     "name": "stdout",
     "output_type": "stream",
     "text": [
      "25000\n",
      "aclImdb_v1/train/neg/319_1.txt\n",
      "25000\n",
      "aclImdb_v1/test/neg/575_4.txt\n"
     ]
    }
   ],
   "source": [
    "file_names_train = open('file_names_train.csv',encoding='utf-8')# 读取训练集所有文件名\n",
    "file_names_test = open('file_names_test.csv',encoding='utf-8')# 读取测试集所有文件名\n",
    "\n",
    "context = file_names_train.read()   #读取所有内容\n",
    "list_result = context.split(\"\\n\")#  以回车符\\n分割成单独的行\n",
    "length=len(list_result)\n",
    "file_names_train = [] #重新定义为文件名列表\n",
    "\n",
    "for i in range(length - 1):\n",
    "  list_result[i] = list_result[i].split(\",\")\n",
    "  if i != 0:\n",
    "    file_names_train.append(list_result[i][1])\n",
    "print(len(file_names_train))\n",
    "print(file_names_train[24999])\n",
    "\n",
    "context = file_names_test.read()   #读取所有内容\n",
    "list_result = context.split(\"\\n\")#  以回车符\\n分割成单独的行\n",
    "length=len(list_result)\n",
    "file_names_test = [] #重新定义为文件名列表\n",
    "\n",
    "for i in range(length - 1):\n",
    "  list_result[i] = list_result[i].split(\",\")\n",
    "  if i != 0:\n",
    "    file_names_test.append(list_result[i][1])\n",
    "print(len(file_names_test))\n",
    "print(file_names_test[24999])"
   ]
  },
  {
   "cell_type": "markdown",
   "metadata": {
    "colab_type": "text",
    "id": "qkMHRlssLabi"
   },
   "source": [
    "##读取文件内容"
   ]
  },
  {
   "cell_type": "markdown",
   "metadata": {
    "colab_type": "text",
    "id": "UWQh_G6lL9l2"
   },
   "source": [
    "###训练集"
   ]
  },
  {
   "cell_type": "code",
   "execution_count": null,
   "metadata": {
    "colab": {},
    "colab_type": "code",
    "id": "qhuspwjuBpJS"
   },
   "outputs": [],
   "source": [
    "import pdb\n",
    "import numpy as np\n",
    "import pandas as pd\n",
    "\n",
    "all_files = [] #记录所有内容\n",
    "all_labels = [1 for _ in range(12500)] + [0 for _ in range(12500)] #记录所有标签\n",
    "num_words = [] #记录总词数\n",
    "dict_words = set([])#记录词典大小\n",
    "num_files = 0 #记录有多少文件\n",
    "    \n",
    "for f in file_names_train:\n",
    "  with open(f, \"r\", encoding='utf-8') as f:\n",
    "    line = f.read()\n",
    "    line = line.replace(\"<br />\", \" \")    #替换掉特殊符号\n",
    "    line = line.replace(\".\", \". \")    #增加空格\n",
    "    line = line.replace(\"(\", \" \")    #替换掉左括号\n",
    "    line = line.replace(\")\", \" \")    #替换掉右括号\n",
    "    line = line.replace(\"\\\"\", \" \")    #替换掉引号\n",
    "    line = line.replace(\"\\'\", \" \")    #替换掉引号\n",
    "    line = line.replace(\"  \", \" \")    #多个空格替换为一个空格\n",
    "    all_files.append(line)    #记录内容\n",
    "    sent_tmp = line.split()   #记录每个词的数组\n",
    "    counter = len(sent_tmp)   #记录一共多少个词\n",
    "    num_words.append(counter)   #读入词数数组\n",
    "    for word in sent_tmp:    #读取进字典\n",
    "      dict_words.add(word)\n",
    "  num_files += 1\n",
    "  print(\"处理完第\" + str(num_files) +\"个文档\")\n",
    "  if num_files == 12500:\n",
    "    break\n",
    "        \n",
    "print('读取12500篇正向评价文档完毕')\n",
    "    \n",
    "print('文件总数', num_files)\n",
    "print('所有的词的数量', sum(num_words))\n",
    "print('词典大小', len(dict_words))\n",
    "print('平均文件词的长度', sum(num_words) / len(num_words))\n",
    "\n",
    "  #pdb.set_trace()\n",
    "name = ['file_contents']\n",
    "file_contents = pd.DataFrame(columns = name, data = all_files)  #保存文件内容\n",
    "file_contents.to_csv('file_contents.csv',encoding='utf-8')\n",
    "\n",
    "X_orig = np.array(all_files)    #建立x、y变量\n",
    "print(\"X_orig:\",X_orig.shape)\n",
    "np.save(\"X_orig_1.npy\",X_orig)"
   ]
  },
  {
   "cell_type": "code",
   "execution_count": null,
   "metadata": {
    "colab": {},
    "colab_type": "code",
    "id": "_Z9P2ehQ9nWI"
   },
   "outputs": [],
   "source": [
    "num_files = 0 #记录有多少文件\n",
    "for f in file_names_train:\n",
    "  if num_files < 12500:\n",
    "    num_files += 1\n",
    "    continue\n",
    "  with open(f, \"r\", encoding='utf-8') as f:\n",
    "    line = f.read()\n",
    "    line = line.replace(\"<br />\", \" \")    #替换掉换行符\n",
    "    line = line.replace(\".\", \". \")    #增加空格\n",
    "    line = line.replace(\"(\", \" \")    #替换掉左括号\n",
    "    line = line.replace(\")\", \" \")    #替换掉右括号\n",
    "    line = line.replace(\"\\\"\", \" \")    #替换掉引号\n",
    "    line = line.replace(\"\\'\", \" \")    #替换掉引号\n",
    "    line = line.replace(\"  \", \" \")    #替换为一个空格\n",
    "    all_files.append(line)    #记录内容\n",
    "    sent_tmp = line.split()   #记录每个词的数组\n",
    "    counter = len(sent_tmp)   #记录一共多少个词\n",
    "    num_words.append(counter)   #读入词数数组\n",
    "    for word in sent_tmp:    #读取进字典\n",
    "      dict_words.add(word)\n",
    "  num_files += 1\n",
    "  print(\"处理完第\" + str(num_files) +\"个文档\")\n",
    "        \n",
    "print('读取12500篇负向评价文档完毕')\n",
    "    \n",
    "print('文件总数', num_files)\n",
    "print('所有的词的数量', sum(num_words))\n",
    "print('词典大小', len(dict_words))\n",
    "print('平均文件词的长度', sum(num_words) / len(num_words))\n",
    "\n",
    "#pdb.set_trace()\n",
    "name = ['file_contents']\n",
    "file_contents = pd.DataFrame(columns = name, data = all_files)  #保存文件内容\n",
    "file_contents.to_csv('file_contents.csv',mode='a',encoding='utf-8')\n",
    "\n",
    "name = ['file_labels']\n",
    "file_labels = pd.DataFrame(columns = name, data = all_labels)  #保存文件标签\n",
    "file_labels.to_csv('file_labels.csv',encoding='utf-8')\n",
    "\n",
    "X_orig = np.array(all_files)    #建立x、y变量\n",
    "Y_orig = np.array(all_labels)\n",
    "print(\"X_orig:\",X_orig.shape)\n",
    "print(\"Y_orig:\",Y_orig.shape)\n",
    "np.save(\"X_orig.npy\",X_orig)\n",
    "np.save(\"Y_orig.npy\",Y_orig)"
   ]
  },
  {
   "cell_type": "code",
   "execution_count": null,
   "metadata": {
    "colab": {
     "base_uri": "https://localhost:8080/",
     "height": 34
    },
    "colab_type": "code",
    "id": "u4qXL_XqdmpM",
    "outputId": "73fc7dc5-6934-46fd-97d8-d7af0a7c9edd"
   },
   "outputs": [
    {
     "name": "stdout",
     "output_type": "stream",
     "text": [
      "<class 'list'>\n"
     ]
    }
   ],
   "source": [
    "print(type(num_words))\n",
    "name = ['num_words']\n",
    "file_num_words = pd.DataFrame(columns = name, data = num_words)  #保存文档词数统计\n",
    "file_num_words.to_csv('num_words.csv',encoding='utf-8')"
   ]
  },
  {
   "cell_type": "code",
   "execution_count": null,
   "metadata": {
    "colab": {
     "base_uri": "https://localhost:8080/",
     "height": 70
    },
    "colab_type": "code",
    "id": "7WiVTkk9gXQ5",
    "outputId": "a8cf15a5-435e-470e-906a-4b702485a6ae"
   },
   "outputs": [
    {
     "name": "stdout",
     "output_type": "stream",
     "text": [
      "文档 aclImdb_v1/train/pos/12334_7.txt 的内容是:\n",
      "Does anyone happen to know where this film was shot? The aviation scene on the cliff is beautiful. It appears to be England. However, Ivy s apartment building certainly looks like the Brill Building, with its fascinating elevators.  Charles Mendl is listed as playing Sir Charles Gage . Maybe I blinked, but I never saw him. Perhaps he was the husband s lawyer, but, again, I don t recall that character being in the film, other than being mentioned as having made a phone call. Perhaps he was in the aviation scene? Or the ballroom scene? Did anyone spot him? Herbert Marshall was 57 years old when he shot this film. \n"
     ]
    }
   ],
   "source": [
    "print(\"文档 \"+ file_names[0] + \" 的内容是:\\n\" + X_orig[0])"
   ]
  },
  {
   "cell_type": "code",
   "execution_count": null,
   "metadata": {
    "colab": {
     "base_uri": "https://localhost:8080/",
     "height": 70
    },
    "colab_type": "code",
    "id": "c2yush9Zgbk3",
    "outputId": "6b354eee-fdb2-4df8-fb89-f07687c32356"
   },
   "outputs": [
    {
     "name": "stdout",
     "output_type": "stream",
     "text": [
      "文档 aclImdb_v1/train/neg/319_1.txt 的内容是:\n",
      "A friend of mine bought this film for £1, and even then it was grossly overpriced. Despite featuring big names such as Adam Sandler, Billy Bob Thornton and the incredibly talented Burt Young, this film was about as funny as taking a chisel and hammering it straight through your earhole. It uses tired, bottom of the barrel comedic techniques - consistently breaking the fourth wall as Sandler talks to the audience, and seemingly pointless montages of hot girls .  Adam Sandler plays a waiter on a cruise ship who wants to make it as a successful comedian in order to become successful with women. When the ship s resident comedian - the shamelessly named Dickie due to his unfathomable success with the opposite gender - is presumed lost at sea, Sandler s character Shecker gets his big break. Dickie is not dead, he s rather locked in the bathroom, presumably sea sick.  Perhaps from his mouth he just vomited the worst film of all time. \n"
     ]
    }
   ],
   "source": [
    "print(\"文档 \"+ file_names[24999] + \" 的内容是:\\n\" + X_orig[24999])"
   ]
  },
  {
   "cell_type": "markdown",
   "metadata": {
    "colab_type": "text",
    "id": "td68O0bVlHwU"
   },
   "source": [
    "### 统计结果可视化（只有训练集）"
   ]
  },
  {
   "cell_type": "code",
   "execution_count": null,
   "metadata": {
    "colab": {
     "base_uri": "https://localhost:8080/",
     "height": 283
    },
    "colab_type": "code",
    "id": "Zo8geopMlJu8",
    "outputId": "34183f64-8e11-4174-c0ee-7cc6ee248981"
   },
   "outputs": [
    {
     "data": {
      "image/png": "[encoded data removed]",
      "text/plain": [
       "<Figure size 432x288 with 1 Axes>"
      ]
     },
     "metadata": {
      "needs_background": "light",
      "tags": []
     },
     "output_type": "display_data"
    }
   ],
   "source": [
    "import matplotlib.pyplot as plt\n",
    "%matplotlib inline\n",
    "plt.hist(num_words, 50, facecolor='b')\n",
    "plt.xlabel('Text Length')\n",
    "plt.ylabel('Frequency')\n",
    "plt.axis([0, 1200, 0, 8000])\n",
    "plt.show()"
   ]
  },
  {
   "cell_type": "markdown",
   "metadata": {
    "colab_type": "text",
    "id": "sO-ykVcFMdq4"
   },
   "source": [
    "###测试集"
   ]
  },
  {
   "cell_type": "code",
   "execution_count": null,
   "metadata": {
    "colab": {},
    "colab_type": "code",
    "id": "purOlukTMf_z"
   },
   "outputs": [],
   "source": [
    "import pdb\n",
    "import numpy as np\n",
    "import pandas as pd\n",
    "all_files = [] #记录所有内容\n",
    "all_labels = [1 for _ in range(12500)] + [0 for _ in range(12500)]\n",
    "    \n",
    "num_files = 0\n",
    "#pdb.set_trace()\n",
    "for f in file_names_test:\n",
    "  with open(f, \"r\", encoding='utf-8') as f:\n",
    "    line = f.read()\n",
    "    line = line.replace(\"<br />\", \" \")    #替换掉特殊符号\n",
    "    line = line.replace(\".\", \". \")    #增加空格\n",
    "    line = line.replace(\"(\", \" \")    #替换掉左括号\n",
    "    line = line.replace(\")\", \" \")    #替换掉右括号\n",
    "    line = line.replace(\"\\\"\", \" \")    #替换掉引号\n",
    "    line = line.replace(\"\\'\", \" \")    #替换掉引号\n",
    "    line = line.replace(\"  \", \" \")    #多个空格替换为一个空格\n",
    "    all_files.append(line)    #记录内容\n",
    "  num_files += 1\n",
    "  if num_files % 3000 == 0:\n",
    "    print(\"处理完第\" + str(num_files) +\"个文档\")\n",
    "  if num_files == 12500:\n",
    "    break\n",
    "        \n",
    "print('读取12500篇正向评价文档完毕')\n",
    "\n",
    "#pdb.set_trace()\n",
    "name = ['file_contents']\n",
    "file_contents = pd.DataFrame(columns = name, data = all_files)  #保存文件内容\n",
    "file_contents.to_csv('file_contents_test.csv',encoding='utf-8')\n",
    "\n",
    "X_Test_All = np.array(all_files)    #建立x、y变量\n",
    "print(\"X_Test_All:\",X_Test_All.shape)\n",
    "np.save(\"X_Test_All_1.npy\",X_Test_All)"
   ]
  },
  {
   "cell_type": "code",
   "execution_count": null,
   "metadata": {
    "colab": {
     "base_uri": "https://localhost:8080/",
     "height": 35
    },
    "colab_type": "code",
    "id": "KuNPXOvy4XY_",
    "outputId": "b752a381-fc48-4c1c-8ae9-98645b7ec5e4"
   },
   "outputs": [
    {
     "name": "stdout",
     "output_type": "stream",
     "text": [
      "(12500,)\n"
     ]
    }
   ],
   "source": [
    "import numpy as np\n",
    "all_files = np.load('X_Test_All_1.npy')\n",
    "print(all_files.shape)\n",
    "all_files = all_files.tolist()"
   ]
  },
  {
   "cell_type": "code",
   "execution_count": null,
   "metadata": {
    "colab": {},
    "colab_type": "code",
    "id": "FLbd14dTNcHB"
   },
   "outputs": [],
   "source": [
    "import pdb\n",
    "import numpy as np\n",
    "import pandas as pd\n",
    "if __name__ == \"__main__\":\n",
    "  num_files = 0\n",
    "  all_files = [] #记录所有内容\n",
    "  all_labels = [1 for _ in range(12500)] + [0 for _ in range(12500)]\n",
    "  #pdb.set_trace()\n",
    "  for f in file_names_test:\n",
    "    if num_files < 12500:\n",
    "      num_files += 1\n",
    "      continue\n",
    "    #pdb.set_trace()\n",
    "    with open(f, \"r\", encoding='utf-8') as f:\n",
    "      line = f.read()\n",
    "      line = line.replace(\"<br />\", \" \")    #替换掉换行符\n",
    "      line = line.replace(\".\", \". \")    #增加空格\n",
    "      line = line.replace(\"(\", \" \")    #替换掉左括号\n",
    "      line = line.replace(\")\", \" \")    #替换掉右括号\n",
    "      line = line.replace(\"\\\"\", \" \")    #替换掉引号\n",
    "      line = line.replace(\"\\'\", \" \")    #替换掉引号\n",
    "      line = line.replace(\"  \", \" \")    #替换为一个空格\n",
    "      all_files.append(line)    #记录内容\n",
    "    num_files += 1\n",
    "    if num_files % 3000 == 0:\n",
    "      print(\"处理完第\" + str(num_files) +\"个文档\")\n",
    "          \n",
    "  print('读取12500篇负向评价文档完毕')\n",
    "      \n",
    "  #pdb.set_trace()\n",
    "  name = ['file_contents']\n",
    "  file_contents = pd.DataFrame(columns = name, data = all_files)  #保存文件内容\n",
    "  file_contents.to_csv('file_contents_test.csv',mode='a',encoding='utf-8')\n",
    "\n",
    "  name = ['file_labels']\n",
    "  file_labels = pd.DataFrame(columns = name, data = all_labels)  #保存文件标签\n",
    "  file_labels.to_csv('file_labels_test.csv',encoding='utf-8')\n",
    "\n",
    "  X_Test_All = np.array(all_files)    #建立x、y变量\n",
    "  Y_Test_All = np.array(all_labels)\n",
    "  print(\"X_Test_All:\",X_Test_All.shape)\n",
    "  print(\"Y_Test_All:\",Y_Test_All.shape)\n",
    "  np.save(\"X_Test_All_2.npy\",X_Test_All)\n",
    "  np.save(\"Y_Test_All.npy\",Y_Test_All)"
   ]
  },
  {
   "cell_type": "code",
   "execution_count": null,
   "metadata": {
    "colab": {},
    "colab_type": "code",
    "id": "9z9wOM0IRgLZ"
   },
   "outputs": [],
   "source": [
    "X_Test_All_1 = np.load(\"X_Test_All_1.npy\")\n",
    "X_Test_All_2 = np.load(\"X_Test_All_2.npy\")\n",
    "print(X_Test_All_1[0])\n",
    "print(X_Test_All_1[0])\n",
    "X_Test_All = np.hstack((X_Test_All_1,X_Test_All_2))\n",
    "print(X_Test_All.shape)\n",
    "print(X_Test_All[12500])\n",
    "np.save(\"X_Test_All.npy\",X_Test_All)"
   ]
  },
  {
   "cell_type": "markdown",
   "metadata": {
    "colab_type": "text",
    "id": "uXnugk4to4o0"
   },
   "source": [
    "# 数据集预处理"
   ]
  },
  {
   "cell_type": "markdown",
   "metadata": {
    "colab_type": "text",
    "id": "kAtLNhZVu_8X"
   },
   "source": [
    "##数据集导入"
   ]
  },
  {
   "cell_type": "code",
   "execution_count": 5,
   "metadata": {
    "colab": {
     "base_uri": "https://localhost:8080/",
     "height": 203
    },
    "colab_type": "code",
    "id": "jfQ9uUKRvCWQ",
    "outputId": "5b109103-b778-4a5f-97b9-bd8d752f48d4"
   },
   "outputs": [
    {
     "name": "stdout",
     "output_type": "stream",
     "text": [
      "X_orig: (25000,)\n",
      "Y_orig: (25000,)\n",
      "文档的内容是:\n",
      "Does anyone happen to know where this film was shot? The aviation scene on the cliff is beautiful. It appears to be England. However, Ivy s apartment building certainly looks like the Brill Building, with its fascinating elevators.  Charles Mendl is listed as playing Sir Charles Gage . Maybe I blinked, but I never saw him. Perhaps he was the husband s lawyer, but, again, I don t recall that character being in the film, other than being mentioned as having made a phone call. Perhaps he was in the aviation scene? Or the ballroom scene? Did anyone spot him? Herbert Marshall was 57 years old when he shot this film. \n",
      "对应标签为:\n",
      "1\n",
      "文档的内容是:\n",
      "A friend of mine bought this film for £1, and even then it was grossly overpriced. Despite featuring big names such as Adam Sandler, Billy Bob Thornton and the incredibly talented Burt Young, this film was about as funny as taking a chisel and hammering it straight through your earhole. It uses tired, bottom of the barrel comedic techniques - consistently breaking the fourth wall as Sandler talks to the audience, and seemingly pointless montages of hot girls .  Adam Sandler plays a waiter on a cruise ship who wants to make it as a successful comedian in order to become successful with women. When the ship s resident comedian - the shamelessly named Dickie due to his unfathomable success with the opposite gender - is presumed lost at sea, Sandler s character Shecker gets his big break. Dickie is not dead, he s rather locked in the bathroom, presumably sea sick.  Perhaps from his mouth he just vomited the worst film of all time. \n",
      "对应标签为:\n",
      "0\n"
     ]
    }
   ],
   "source": [
    "import numpy as np\n",
    "import pandas as pd\n",
    "X_orig = np.load(\"X_orig.npy\")\n",
    "Y_orig = np.load(\"Y_orig.npy\")\n",
    "print(\"X_orig:\",X_orig.shape)\n",
    "print(\"Y_orig:\",Y_orig.shape)\n",
    "print(\"文档的内容是:\\n\" + X_orig[0])\n",
    "print(\"对应标签为:\\n\" + str(Y_orig[0]))\n",
    "print(\"文档的内容是:\\n\" + X_orig[24999])\n",
    "print(\"对应标签为:\\n\" + str(Y_orig[24999]))"
   ]
  },
  {
   "cell_type": "code",
   "execution_count": null,
   "metadata": {
    "colab": {
     "base_uri": "https://localhost:8080/",
     "height": 150
    },
    "colab_type": "code",
    "id": "hH17ICTtqjqL",
    "outputId": "016a15ae-e3bb-4420-a232-86b3317a7cff"
   },
   "outputs": [
    {
     "name": "stdout",
     "output_type": "stream",
     "text": [
      "处理到第3000个文档\n",
      "处理到第6000个文档\n",
      "处理到第9000个文档\n",
      "处理到第12000个文档\n",
      "处理到第15000个文档\n",
      "处理到第18000个文档\n",
      "处理到第21000个文档\n",
      "处理到第24000个文档\n"
     ]
    }
   ],
   "source": [
    "f = open('train_input.txt','w')\n",
    "[rows, ] = X_orig.shape\n",
    "for i in range(rows):\n",
    "  if i != 0:\n",
    "    f.write('\\n')\n",
    "  X_orig[i] = X_orig[i].replace('\\t', ' ')\n",
    "  f.write(str(Y_orig[i]) + '\\t' + str(X_orig[i]))\n",
    "  if (i + 1) % 3000 == 0:\n",
    "    print(\"处理到第\" + str(i + 1) + \"个文档\")\n",
    "\n",
    "f.close()"
   ]
  },
  {
   "cell_type": "code",
   "execution_count": null,
   "metadata": {
    "colab": {
     "base_uri": "https://localhost:8080/",
     "height": 203
    },
    "colab_type": "code",
    "id": "W-KqrjmnPbYw",
    "outputId": "b4faea99-5a45-4ff2-dde6-16b78818e01b"
   },
   "outputs": [
    {
     "name": "stdout",
     "output_type": "stream",
     "text": [
      "X_Test_All: (25000,)\n",
      "Y_Test_All: (25000,)\n",
      "文档的内容是:\n",
      "This is my favorite game for the Nintendo 64 platform. I ve played many different first-person shooters, and I ve never really liked any of them much, but this game has a certain something that I can t put my finger on that makes it an amazing amount of fun. Maybe it s the extraordinary detail put into the game. Maybe it s the fluid movement of the characters. Maybe it s the gadgets and weapons. Maybe it s the suave character of James Bond. Whatever it is, this game never seems to get old no matter how many times I ve played it. \n",
      "对应标签为:\n",
      "1\n",
      "文档的内容是:\n",
      "First of all, Blythe Danner doesn t look anywhere NEAR old enough to play Capshaw s daughter and in fact she isn t -- only ten years apart .  I understand this is supposed to be one of those magical, Moonstruck type supernatural romances but this is beyond the pale. Very, very weak in terms of acting, script and direction.  The only one who really shines here is Ellen DeGeneres, who makes this film watchable -- if not really believable herself as she s cast as a bit of a heterosexual sex hound. But endearing nonetheless. Actually, DeGeneres and the skin shots of the young guy Capshaw dallies with together make this watchable. But no one can really tell if Capshaw is really in love with the young guy or not; neither the script nor her acting pull it together for us and we re left to wonder how she really feels. \n",
      "对应标签为:\n",
      "0\n"
     ]
    }
   ],
   "source": [
    "import numpy as np\n",
    "\n",
    "X_Test_All = np.load(\"X_Test_All.npy\")\n",
    "Y_Test_All = np.load(\"Y_Test_All.npy\")\n",
    "print(\"X_Test_All:\",X_Test_All.shape)\n",
    "print(\"Y_Test_All:\",Y_Test_All.shape)\n",
    "print(\"文档的内容是:\\n\" + X_Test_All[0])\n",
    "print(\"对应标签为:\\n\" + str(Y_Test_All[0]))\n",
    "print(\"文档的内容是:\\n\" + X_Test_All[24999])\n",
    "print(\"对应标签为:\\n\" + str(Y_Test_All[24999]))"
   ]
  },
  {
   "cell_type": "code",
   "execution_count": null,
   "metadata": {
    "colab": {
     "base_uri": "https://localhost:8080/",
     "height": 150
    },
    "colab_type": "code",
    "id": "FaBoGWYMTVMc",
    "outputId": "a4cb9e91-c5d7-420d-c13a-f8c038bfb51e"
   },
   "outputs": [
    {
     "name": "stdout",
     "output_type": "stream",
     "text": [
      "处理到第3000个文档\n",
      "处理到第6000个文档\n",
      "处理到第9000个文档\n",
      "处理到第12000个文档\n",
      "处理到第15000个文档\n",
      "处理到第18000个文档\n",
      "处理到第21000个文档\n",
      "处理到第24000个文档\n"
     ]
    }
   ],
   "source": [
    "f = open('test_input.txt','w')\n",
    "[rows, ] = X_Test_All.shape\n",
    "for i in range(rows):\n",
    "  if i != 0:\n",
    "    f.write('\\n')\n",
    "  X_Test_All[i] = X_Test_All[i].replace('\\t', ' ')\n",
    "  f.write(str(Y_Test_All[i]) + '\\t' + str(X_Test_All[i]))\n",
    "  if (i + 1) % 3000 == 0:\n",
    "    print(\"处理到第\" + str(i + 1) + \"个文档\")\n",
    "\n",
    "f.close()"
   ]
  },
  {
   "cell_type": "markdown",
   "metadata": {
    "colab_type": "text",
    "id": "__IA3a5bnVsH"
   },
   "source": [
    "## 创建字典准备"
   ]
  },
  {
   "cell_type": "code",
   "execution_count": 6,
   "metadata": {
    "colab": {
     "base_uri": "https://localhost:8080/",
     "height": 50
    },
    "colab_type": "code",
    "id": "G4HH2eS9bvGQ",
    "outputId": "089d0603-0764-4cc6-fee7-e9317f7b151c"
   },
   "outputs": [
    {
     "name": "stdout",
     "output_type": "stream",
     "text": [
      "[nltk_data] Downloading package punkt to /root/nltk_data...\n",
      "[nltk_data]   Package punkt is already up-to-date!\n"
     ]
    }
   ],
   "source": [
    "from gensim.models import KeyedVectors\n",
    "from keras.layers.core import Dense, Dropout, SpatialDropout1D\n",
    "from keras.layers.convolutional import Conv1D\n",
    "from keras.layers.embeddings import Embedding\n",
    "from keras.layers.pooling import GlobalMaxPooling1D\n",
    "from keras.models import Sequential\n",
    "from keras.preprocessing.sequence import pad_sequences\n",
    "from keras.utils import np_utils\n",
    "from sklearn.model_selection import train_test_split\n",
    "import collections\n",
    "import matplotlib.pyplot as plt\n",
    "import nltk\n",
    "import numpy as np\n",
    "nltk.download('punkt')\n",
    "\n",
    "np.random.seed(42)"
   ]
  },
  {
   "cell_type": "code",
   "execution_count": 51,
   "metadata": {
    "colab": {},
    "colab_type": "code",
    "id": "ECxOkfK16p3H"
   },
   "outputs": [],
   "source": [
    "EMBED_SIZE = 300    #嵌入层输出向量大小\n",
    "NUM_FILTERS = 256 \n",
    "NUM_WORDS = 12    #卷积的词数\n",
    "BATCH_SIZE = 64  #送入网络的记录的数量  \n",
    "NUM_EPOCHS = 5   #重复次数\n",
    "VOCAB_SIZE = 20000 #考虑文档中前20000个高频词"
   ]
  },
  {
   "cell_type": "code",
   "execution_count": 52,
   "metadata": {
    "colab": {
     "base_uri": "https://localhost:8080/",
     "height": 150
    },
    "colab_type": "code",
    "id": "vp2UX0Y1G0tp",
    "outputId": "b5b8c63e-e9d8-438b-b1d2-6c537aada626"
   },
   "outputs": [
    {
     "name": "stdout",
     "output_type": "stream",
     "text": [
      "处理到完第3000个文档\n",
      "处理到完第6000个文档\n",
      "处理到完第9000个文档\n",
      "处理到完第12000个文档\n",
      "处理到完第15000个文档\n",
      "处理到完第18000个文档\n",
      "处理到完第21000个文档\n",
      "处理到完第24000个文档\n"
     ]
    }
   ],
   "source": [
    "counter = collections.Counter()   #构造词索引列表\n",
    "\n",
    "fin = open('train_input.txt', \"rb\")\n",
    "maxlen = 0\n",
    "i = 0\n",
    "\n",
    "for line in fin:    #读取文件，词典计数\n",
    "    _, content = line.decode().strip().split(\"\\t\")\n",
    "    words = [x.lower() for x in nltk.word_tokenize(content)] #分词\n",
    "    if len(words) > maxlen:   #输入最长的一条到嵌入层\n",
    "        maxlen = len(words)\n",
    "    for word in words:\n",
    "        counter[word] += 1    #词典进行计数\n",
    "    i += 1\n",
    "    if i % 3000 == 0:\n",
    "      print(\"处理到完第\" + str(i) + \"个文档\")\n",
    "\n",
    "fin.close()\n",
    "\n",
    "word2index = collections.defaultdict(int)\n",
    "for wid, word in enumerate(counter.most_common(VOCAB_SIZE)):\n",
    "    word2index[word[0]] = wid + 1   #词典相对应word2index里面保存着词典从高频到低频的次的顺序\n",
    "VOCAB_SIZE = len(word2index) + 1  #词典大小，加上一个不属于词典的词的索引"
   ]
  },
  {
   "cell_type": "markdown",
   "metadata": {
    "colab_type": "text",
    "id": "IXlMNRKjrKXz"
   },
   "source": [
    "## 读取文件，根据词典数字化"
   ]
  },
  {
   "cell_type": "code",
   "execution_count": null,
   "metadata": {
    "colab": {
     "base_uri": "https://localhost:8080/",
     "height": 283
    },
    "colab_type": "code",
    "id": "HGLhNroDmQcy",
    "outputId": "8f13938e-885c-452f-f82d-60aa44cb3e4c"
   },
   "outputs": [
    {
     "name": "stdout",
     "output_type": "stream",
     "text": [
      "处理到第3000个文档\n",
      "处理到第6000个文档\n",
      "处理到第9000个文档\n",
      "处理到第12000个文档\n",
      "处理到第15000个文档\n",
      "处理到第18000个文档\n",
      "处理到第21000个文档\n",
      "处理到第24000个文档\n",
      "处理到第3000个文档\n",
      "处理到第6000个文档\n",
      "处理到第9000个文档\n",
      "处理到第12000个文档\n",
      "处理到第15000个文档\n",
      "处理到第18000个文档\n",
      "处理到第21000个文档\n",
      "处理到第24000个文档\n"
     ]
    }
   ],
   "source": [
    "xs, ys, xt, yt = [], [], [], [] #对应训练集和测试集的数据\n",
    "\n",
    "#训练集\n",
    "fin = open('train_input.txt', \"rb\")\n",
    "i = 0\n",
    "for line in fin:\n",
    "  label, content = line.decode().strip().split(\"\\t\")\n",
    "  ys.append(int(label))\n",
    "  words = [x.lower() for x in nltk.word_tokenize(content)] \n",
    "  wids = [word2index[word] for word in words] #从词典中得到每个词的\n",
    "  xs.append(wids)\n",
    "  i += 1\n",
    "  if i % 3000 == 0:\n",
    "    print(\"处理到第\" + str(i) + \"个文档\")\n",
    "fin.close()\n",
    "\n",
    "#测试集\n",
    "fin = open('test_input.txt', \"rb\")\n",
    "i = 0\n",
    "for line in fin:\n",
    "  label, content = line.decode().strip().split(\"\\t\")\n",
    "  yt.append(int(label))\n",
    "  words = [x.lower() for x in nltk.word_tokenize(content)] \n",
    "  wids = [word2index[word] for word in words] #从词典中得到每个词的\n",
    "  xt.append(wids)\n",
    "  i += 1\n",
    "  if i % 3000 == 0:\n",
    "    print(\"处理到第\" + str(i) + \"个文档\")\n",
    "fin.close()\n",
    "\n",
    "X = pad_sequences(xs, maxlen=maxlen)\n",
    "Y = np_utils.to_categorical(ys)\n",
    "X_Test = pad_sequences(xt, maxlen=maxlen)\n",
    "Y_Test = np_utils.to_categorical(yt)"
   ]
  },
  {
   "cell_type": "code",
   "execution_count": null,
   "metadata": {
    "colab": {},
    "colab_type": "code",
    "id": "3LcePz_roarC"
   },
   "outputs": [],
   "source": [
    "np.save('X.npy', X)\n",
    "np.save('Y.npy', Y)\n",
    "np.save('X_Test.npy', X_Test)\n",
    "np.save('Y_Test.npy', Y_Test)"
   ]
  },
  {
   "cell_type": "code",
   "execution_count": 8,
   "metadata": {
    "colab": {},
    "colab_type": "code",
    "id": "V-T2Ef7Epgda"
   },
   "outputs": [],
   "source": [
    "X = np.load('X.npy')\n",
    "Y = np.load('Y.npy')\n",
    "X_Test = np.load('X_Test.npy')\n",
    "Y_Test = np.load('Y_Test.npy')"
   ]
  },
  {
   "cell_type": "markdown",
   "metadata": {
    "colab_type": "text",
    "id": "MjAOZITprNdn"
   },
   "source": [
    "## 导入词向量"
   ]
  },
  {
   "cell_type": "code",
   "execution_count": null,
   "metadata": {
    "colab": {
     "base_uri": "https://localhost:8080/",
     "height": 70
    },
    "colab_type": "code",
    "id": "SUt47tcFrQ_I",
    "outputId": "3f1395ab-d7c8-4456-a8af-1b59a6aa5efe"
   },
   "outputs": [
    {
     "name": "stderr",
     "output_type": "stream",
     "text": [
      "/usr/local/lib/python3.6/dist-packages/smart_open/smart_open_lib.py:254: UserWarning: This function is deprecated, use smart_open.open instead. See the migration notes for details: https://github.com/RaRe-Technologies/smart_open/blob/master/README.rst#migrating-to-the-new-open-function\n",
      "  'See the migration notes for details: %s' % _MIGRATION_NOTES_URL\n"
     ]
    }
   ],
   "source": [
    "# load word2vec model\n",
    "word2vec = KeyedVectors.load_word2vec_format('GoogleNews-vectors-negative300.bin.gz', binary=True)\n",
    "embedding_weights = np.zeros((VOCAB_SIZE, EMBED_SIZE))\n",
    "for word, index in word2index.items():\n",
    "    try:\n",
    "        embedding_weights[index, :] = word2vec[word]\n",
    "    except KeyError:\n",
    "        pass\n",
    "np.save(\"embedding_weights.npy\",embedding_weights)"
   ]
  },
  {
   "cell_type": "code",
   "execution_count": 9,
   "metadata": {
    "colab": {},
    "colab_type": "code",
    "id": "4-wRycEBn3zU"
   },
   "outputs": [],
   "source": [
    "embedding_weights = np.load(\"embedding_weights.npy\")"
   ]
  },
  {
   "cell_type": "markdown",
   "metadata": {
    "colab_type": "text",
    "id": "0RHoN_asvQZk"
   },
   "source": [
    "## 独热编码（简单神经网络输入）"
   ]
  },
  {
   "cell_type": "code",
   "execution_count": 10,
   "metadata": {
    "colab": {},
    "colab_type": "code",
    "id": "Wk3ssKVtuvp_"
   },
   "outputs": [],
   "source": [
    "import numpy as np\n",
    "\n",
    "def vectorize_sequences(sequences, dimension):\n",
    "    results = np.zeros((len(sequences), dimension))\n",
    "    for i, sequence in enumerate(sequences):\n",
    "        results[i, sequence] = 1.  # set specific indices of results[i] to 1s\n",
    "    return results\n",
    "\n",
    "# Our vectorized training data\n",
    "onehot_x = vectorize_sequences(X, VOCAB_SIZE)\n",
    "onehot_test = vectorize_sequences(X_Test, VOCAB_SIZE)"
   ]
  },
  {
   "cell_type": "code",
   "execution_count": 11,
   "metadata": {
    "colab": {
     "base_uri": "https://localhost:8080/",
     "height": 83
    },
    "colab_type": "code",
    "id": "EKKPbS5xNtA3",
    "outputId": "9bc02bf0-a466-43f5-ce6a-ee9d14dca49a"
   },
   "outputs": [
    {
     "name": "stdout",
     "output_type": "stream",
     "text": [
      "(25000, 20001)\n",
      "(25000, 20001)\n",
      "[1. 1. 1. ... 0. 0. 0.]\n",
      "(25000, 2)\n"
     ]
    }
   ],
   "source": [
    "print(onehot_x.shape)\n",
    "print(onehot_test.shape)\n",
    "print(onehot_x[0])\n",
    "print(Y.shape)"
   ]
  },
  {
   "cell_type": "markdown",
   "metadata": {
    "colab_type": "text",
    "id": "RwANsvWxy2vJ"
   },
   "source": [
    "##TF-IDF表示（表示方法）"
   ]
  },
  {
   "cell_type": "code",
   "execution_count": 6,
   "metadata": {
    "colab": {
     "base_uri": "https://localhost:8080/",
     "height": 66
    },
    "colab_type": "code",
    "id": "Cv6AjvqxFhlE",
    "outputId": "b61fda2c-78de-4b81-bf8e-f0c14422f2da"
   },
   "outputs": [
    {
     "name": "stdout",
     "output_type": "stream",
     "text": [
      "3258\n",
      "(25000, 74849)\n",
      "[0. 0. 0. ... 0. 0. 0.]\n"
     ]
    }
   ],
   "source": [
    "from sklearn.feature_extraction.text import TfidfVectorizer\n",
    "tfidf_vec = TfidfVectorizer()\n",
    "tfidf_matrix = tfidf_vec.fit_transform(X_orig)\n",
    "tfidf = tfidf_matrix.toarray()\n",
    "print(tfidf_vec.vocabulary_['and'])\n",
    "print(tfidf_matrix.shape)\n",
    "print(tfidf[0])"
   ]
  },
  {
   "cell_type": "code",
   "execution_count": null,
   "metadata": {
    "colab": {},
    "colab_type": "code",
    "id": "KogFN54eUunl"
   },
   "outputs": [],
   "source": [
    "i = 0\n",
    "for item in tfidf[1]:\n",
    "  if item != 0:\n",
    "    print(\"第\"+ str(i + 1) + \"个数字不为0，是\" +str(item))\n",
    "  i += 1"
   ]
  },
  {
   "cell_type": "code",
   "execution_count": 8,
   "metadata": {
    "colab": {},
    "colab_type": "code",
    "id": "pmHl60zTVz6f"
   },
   "outputs": [],
   "source": [
    "#转化为稠密矩阵\n",
    "deleK = 0\n",
    "tfidf_del_zero = []\n",
    "for row in tfidf:\n",
    "  row = filter(lambda x: x != deleK, row)\n",
    "  row = [i for i in row]\n",
    "  tfidf_del_zero.append(row)"
   ]
  },
  {
   "cell_type": "code",
   "execution_count": 10,
   "metadata": {
    "colab": {
     "base_uri": "https://localhost:8080/",
     "height": 70
    },
    "colab_type": "code",
    "id": "YD3sc5WnTw-g",
    "outputId": "8c7e3831-f68f-4920-873f-7e9125aaf98c"
   },
   "outputs": [
    {
     "name": "stdout",
     "output_type": "stream",
     "text": [
      "[0.17764154191109852, 0.06248345924262586, 0.13862094858494095, 0.11425788250574999, 0.09199088121713944, 0.0591572376013053, 0.35886032438593646, 0.1595030037243799, 0.03226983861248099, 0.07455093430699969, 0.1069949368618109, 0.19188999019870673, 0.19563782232809127, 0.21684570183968, 0.05466067678908415, 0.08975349022712813, 0.08125261887818565, 0.05428818767288333, 0.21915394254336928, 0.13468317788101403, 0.05465202311229119, 0.05556146284004292, 0.04828881051103579, 0.1759961707502937, 0.1133373033501834, 0.10755537344097449, 0.09767466756774168, 0.16613798705441485, 0.08780077561372464, 0.07046108659483605, 0.11599024516912486, 0.1500195078213602, 0.10624249101998916, 0.06448696636964603, 0.09177950490028472, 0.04629482193839849, 0.04557919579028193, 0.022920166214210825, 0.05282277691805431, 0.1617477224626855, 0.05455293629971536, 0.12314937111940762, 0.036203705946260684, 0.13013862967029804, 0.0724660088883863, 0.048659720437030526, 0.14323100498998934, 0.07268288077155763, 0.21447324642803026, 0.09946743234976645, 0.05355061157552945, 0.06107871974985536, 0.03010432112945765, 0.03870114555511086, 0.04757566439718297, 0.15791923001163066, 0.11379244000216553, 0.07969102417971097, 0.11861081974804519, 0.06586293186497157, 0.17739395519150938, 0.15158576186897943, 0.12491601794575379, 0.10749882274317726, 0.0463691028691861, 0.024811599694161683, 0.14508950704422902, 0.045190574768853506, 0.04369982644808872, 0.11807507226757402, 0.04148070992195778, 0.05458734713124527, 0.027926479984090646, 0.0601326461739814]\n",
      "671\n"
     ]
    }
   ],
   "source": [
    "#获得最长的长度\n",
    "print(tfidf_del_zero[0])\n",
    "maxlen = 0\n",
    "num_len = []\n",
    "row_length = len(tfidf_del_zero)\n",
    "for i in range(row_length):\n",
    "  col_length = len(tfidf_del_zero[i])\n",
    "  num_len.append(col_length)\n",
    "  if col_length > maxlen:\n",
    "    maxlen = col_length\n",
    "print(maxlen)"
   ]
  },
  {
   "cell_type": "code",
   "execution_count": 11,
   "metadata": {
    "colab": {
     "base_uri": "https://localhost:8080/",
     "height": 283
    },
    "colab_type": "code",
    "id": "--hgCz_Xjly9",
    "outputId": "94971aba-207f-4b43-e9ee-edc86ad64749"
   },
   "outputs": [
    {
     "data": {
      "image/png": "[encoded data removed]",
      "text/plain": [
       "<Figure size 432x288 with 1 Axes>"
      ]
     },
     "metadata": {
      "needs_background": "light",
      "tags": []
     },
     "output_type": "display_data"
    }
   ],
   "source": [
    "import matplotlib.pyplot as plt\n",
    "%matplotlib inline\n",
    "plt.hist(num_len, 50, facecolor='b')\n",
    "plt.xlabel('len of tfidf')\n",
    "plt.ylabel('Frequency')\n",
    "plt.axis([0, 600, 0, 4000])\n",
    "plt.show()"
   ]
  },
  {
   "cell_type": "code",
   "execution_count": 12,
   "metadata": {
    "colab": {
     "base_uri": "https://localhost:8080/",
     "height": 50
    },
    "colab_type": "code",
    "id": "bN-T6lEZhTQd",
    "outputId": "9ca80898-78a0-4269-983c-4a6b7cfd6bce"
   },
   "outputs": [
    {
     "name": "stdout",
     "output_type": "stream",
     "text": [
      "Start padding......\n",
      "Finished!\n"
     ]
    }
   ],
   "source": [
    "from keras.preprocessing.sequence import pad_sequences\n",
    "maxlen = 300\n",
    "print(\"Start padding......\")\n",
    "tfidf_pad = pad_sequences(tfidf_del_zero, maxlen = maxlen, dtype='float', padding = 'post')\n",
    "print(\"Finished!\")"
   ]
  },
  {
   "cell_type": "code",
   "execution_count": 13,
   "metadata": {
    "colab": {
     "base_uri": "https://localhost:8080/",
     "height": 33
    },
    "colab_type": "code",
    "id": "6V96S1lWiV9-",
    "outputId": "71f50003-e9cf-477f-ee92-1f5bb3f13cf3"
   },
   "outputs": [
    {
     "data": {
      "text/plain": [
       "(25000, 300)"
      ]
     },
     "execution_count": 13,
     "metadata": {
      "tags": []
     },
     "output_type": "execute_result"
    }
   ],
   "source": [
    "tfidf_pad.shape"
   ]
  },
  {
   "cell_type": "code",
   "execution_count": 14,
   "metadata": {
    "colab": {},
    "colab_type": "code",
    "id": "5w98etl3howm"
   },
   "outputs": [],
   "source": [
    "np.save('tfidf_pad.npy', tfidf_pad)"
   ]
  },
  {
   "cell_type": "markdown",
   "metadata": {
    "colab_type": "text",
    "id": "T9oPGk6kvtUH"
   },
   "source": [
    "#各种数据进行callback记录"
   ]
  },
  {
   "cell_type": "code",
   "execution_count": 12,
   "metadata": {
    "colab": {},
    "colab_type": "code",
    "id": "hTAJci9ovxsF"
   },
   "outputs": [],
   "source": [
    "from keras.callbacks import Callback\n",
    "from sklearn.metrics import f1_score, recall_score, precision_score\n",
    "\n",
    "class Metrics(Callback):\n",
    "    def __init__(self, val_data, val_label):\n",
    "        super().__init__()\n",
    "        self.validation_data = val_data #记录验证集\n",
    "        self.validation_label = val_label #记录验证集\n",
    "        \n",
    "    def on_train_begin(self, logs={}):    #在训练前记录\n",
    "        print(\"on train begin\", len(self.validation_data))    #输出验证集大小\n",
    "        print()\n",
    "        self.val_f1s = [] #记录验证机的F1参数\n",
    "        self.val_recalls = []   #记录验证机的召回率\n",
    "        self.val_precisions = []    #记录验证机的精确度\n",
    "\n",
    "    def on_epoch_end(self, epoch, logs={}):   #在每一个epoch结束的时候\n",
    "        print()\n",
    "        print(\"on epoch end :\", len(self.validation_data))    #结束的时候输出此时验证集的大小\n",
    "        print()\n",
    "        data_num = len(self.validation_data) ## 等于所有数据 / batchsize，所以所有数据需要能够整除\n",
    "\n",
    "        val_pred = model.predict(self.validation_data)    #验证集正确\n",
    "        val_true = self.validation_label\n",
    "        val_pred_flat = np.zeros(data_num)    #验证集预测\n",
    "        val_true_flat = np.zeros(data_num)    #验证集正确\n",
    "\n",
    "        for data_count in range(data_num):\n",
    "            val_pred_flat[data_count] = np.argmax(val_pred[data_count])\n",
    "            val_true_flat[data_count] = np.argmax(Y_Test[data_count])\n",
    "            if data_count % 1000 == 0:\n",
    "              print(\"处理完第\" + str(data_count+1) + \"个验证集\")\n",
    "        print()\n",
    "        \n",
    "        _val_f1 = f1_score(val_true_flat, val_pred_flat, average='macro')\n",
    "        _val_recall = recall_score(val_true_flat, val_pred_flat, average='macro')\n",
    "        _val_precision = precision_score(val_true_flat, val_pred_flat, average='macro')\n",
    "        self.val_f1s.append(_val_f1)\n",
    "        self.val_recalls.append(_val_recall)\n",
    "        self.val_precisions.append(_val_precision)\n",
    "        print('— val_f1: %f — val_precision: %f — val_recall %f' %(_val_f1, _val_precision, _val_recall))\n",
    "        print(' — val_f1:' ,_val_f1)\n",
    "        return"
   ]
  },
  {
   "cell_type": "markdown",
   "metadata": {
    "colab_type": "text",
    "id": "LC0z0E4H6hQt"
   },
   "source": [
    "# 画混淆矩阵"
   ]
  },
  {
   "cell_type": "code",
   "execution_count": 13,
   "metadata": {
    "colab": {},
    "colab_type": "code",
    "id": "c4UNwGiH6lJR"
   },
   "outputs": [],
   "source": [
    "import itertools\n",
    "def paintConfusionMatrix(cfmatrix, classes, filename):\n",
    "    plt.figure(figsize=(15,10))   #大小\n",
    "    plt.imshow(cfmatrix,interpolation='nearest',cmap=plt.cm.Blues)\n",
    "    plt.title('confusion matrix')\n",
    "\n",
    "    tick_marks=np.arange(len(classes))    \n",
    "    plt.xticks(tick_marks,classes,rotation=90,size=18)\n",
    "    plt.yticks(tick_marks,classes,size=18)\n",
    "    plt.xlabel('Pred label',size=20)\n",
    "    plt.ylabel('True label',size=20)\n",
    "    fmt='.2f' \n",
    "    thresh=cfmatrix.max()/2.\n",
    "    for i,j in itertools.product(range(cfmatrix.shape[0]),range(cfmatrix.shape[1])):\n",
    "        plt.text(j, i, format(cfmatrix[i, j], fmt), horizontalalignment=\"center\", color=\"white\" if cfmatrix[i, j] > thresh else \"black\",size = 22)\n",
    "    plt.tight_layout()\n",
    "    plt.savefig(filename)\n",
    "    plt.show()"
   ]
  },
  {
   "cell_type": "markdown",
   "metadata": {
    "colab_type": "text",
    "id": "BQeeqX1JxGzf"
   },
   "source": [
    "#测试结果"
   ]
  },
  {
   "cell_type": "markdown",
   "metadata": {
    "colab_type": "text",
    "id": "-9hS2zBkGVWf"
   },
   "source": [
    "##预处理"
   ]
  },
  {
   "cell_type": "code",
   "execution_count": 66,
   "metadata": {
    "colab": {
     "base_uri": "https://localhost:8080/",
     "height": 70
    },
    "colab_type": "code",
    "id": "Z70iwXqQxiG2",
    "outputId": "f742298e-f6d2-4761-bd21-fd284a90839f"
   },
   "outputs": [
    {
     "name": "stdout",
     "output_type": "stream",
     "text": [
      "[130, 14, 31, 6, 1, 55, 0, 0, 1337, 14, 10030, 11522, 5293, 112, 9, 14, 5, 0, 11830, 11065, 10100, 65, 268, 627, 41, 5, 0, 315, 6, 1, 8141, 2, 303, 5448, 3, 1, 0, 12147, 19985, 619, 575, 4302, 10, 1, 6457, 334, 0, 3, 401, 37, 322, 18545, 1111, 6, 1, 7274, 3, 5, 4268, 3, 963, 12670, 3, 1402, 23, 1, 102, 0, 2350, 0, 38, 79, 7, 1, 13507, 6, 28, 3069, 3, 1728, 1140, 8065, 0, 7446, 135, 1, 7619, 3521, 2, 56, 25, 18837, 12249, 18, 28, 1470, 0, 1644, 9220, 44, 395, 28, 122, 7, 773, 116, 10441, 36, 1, 699, 5409, 1760, 3, 5448, 8, 952, 5, 13245, 860, 2034, 16, 133, 1278, 0, 0, 2668, 584, 18, 2859, 323, 4, 1898, 351, 32, 10, 52, 3423, 12722, 2547, 398, 505, 2, 1, 18056, 1710, 844, 577, 4901, 0, 4340, 5041, 6, 5, 6478, 1464, 1001, 5721, 433, 2515, 708, 0, 983, 3476, 17, 28, 4816, 2750, 232, 2, 2213, 0, 14, 0, 0, 4, 5433, 460, 1501, 1, 0, 6607, 36, 1, 5716, 0, 3, 1308, 256, 12, 21, 5, 6135, 722, 5906, 6, 4185, 0, 2, 769, 1, 10862, 0, 12435, 7, 30, 0, 11468, 27, 12084, 2130, 659, 991, 3, 9984, 414, 3, 1272, 16796, 74, 2029, 8684, 0, 6054, 3, 416, 6173, 3, 12691, 0, 8508, 3, 1373, 0, 3642, 3, 37, 7151, 8569, 2333, 182, 1001, 589, 36, 3840, 3, 52, 5437, 1190, 118, 1, 120, 174, 724, 38, 456, 374, 1324, 7, 5448, 8, 6557, 8758, 3, 5, 12651, 1563, 475, 36, 2245, 7081, 16, 5, 3933, 15102, 3, 5, 372, 6, 644, 224, 292, 1398, 1, 4932, 600, 1448, 0, 3266, 604, 15632, 3, 55, 8410, 17124, 904, 6, 1, 7619, 3521, 76, 22, 53, 4589, 5, 14081, 0, 34, 305, 904, 9745, 1640, 1, 759, 14292, 4, 14694, 6, 1, 7619, 3521, 10, 344, 3, 2569, 466, 2410, 0, 614, 36, 3593, 0, 3, 5, 175, 19549, 862, 7828, 0, 3, 52, 2728, 3761, 567, 5, 4119, 48, 31, 6, 43, 3470, 655, 137, 32, 3, 4, 1118, 683, 353, 36, 1083, 5721, 816, 0, 718, 4015, 4, 708, 2812, 7179, 16, 5, 2102, 6, 2759, 3, 3411, 3, 0, 556, 5873, 2, 252, 3, 12, 19, 2738, 24, 523, 3, 20, 9, 14, 437, 0, 199, 7, 7440, 16, 5, 6874, 18634, 13238, 6, 0, 10127, 1321, 0, 2]\n",
      "[2484, 1, 5225, 5754, 15, 1, 91, 6, 451, 5225, 111, 1120, 36, 5590, 1188, 44, 16252, 859, 8616, 7342, 0, 2, 20, 1, 337, 6, 1, 91, 5225, 21, 15, 2554, 1249, 233, 4480, 0, 2, 1014, 25, 59, 575, 0, 44, 7342, 0, 423, 24, 102, 12, 21, 1738, 2, 56, 22, 29, 113, 86, 12074, 10, 37, 224, 21, 4, 9, 14, 1055, 1738, 44, 254, 3, 10992, 0, 2, 20, 11, 10212, 2, 1729, 12, 4984, 4, 110, 1, 374, 111, 10, 1, 209, 2, 35, 183, 55, 223, 4, 5, 228, 179, 6, 254, 2, 374, 8, 1065, 6, 1, 5225, 2, 306, 6, 391, 1, 448, 9790, 11, 362, 13, 2987, 4334, 10, 6561, 347, 22, 2, 26, 14, 1, 337, 32, 663, 17, 5, 1013, 21, 2, 110, 13, 31, 306, 2, 25, 1146, 541, 17, 833, 272, 7342, 0, 453, 44, 5590, 21, 4444, 2]\n"
     ]
    }
   ],
   "source": [
    "x_pos = 'Here\\'s one of the more pleasingly scuzzy 70\\'s blaxploitation grindhouse items; it\\'s a pervasively low-rent pimp opus which comes across like a sleazier version of \"The Mack.\" John Daniels, the studly womanizing hairdresser hero Mr. Jonathan in the immortal \"Black Shampoo,\" gives an excellent steely portrayal of the Baron, a ruthless, business savvy, forever on the make all-powerful flesh peddler who much to the dismay of his bitter, brutal Italian rivals reigns supreme over the Sunset Strip. When not locking horns with his fellow no-count criminal pals or doing his best to avoid being busted by the local vice cops, Daniels is leading a sweetly average existence as your standard garden-variety suburbanite dude (complete with caring wife and loving kids!) in some typically humdrum California small town.<br /><br />The glaringly absurd premise alone promises top-rate trashy greatness of a decidedly Grade B schlock picture variety (George Theakos deserves kudos for his hilariously ludicrous script). Matt Cimber\\'s commendably tactless and tasteless direction delivers the junky goods by the slimy bucketful, thus making this film a hugely enjoyable serving of celluloid grime. Among the assorted squalid delights to be savored herein are plentiful gratuitous female nudity, coarse dialogue, beautifully gaudy Me Decade threads (halter tops, felt hats, sparkling Day-Glo jewelry, loud seersucker suits), an intensely funky R&B score by Smoke, some hopelessly pathetic acting (the little old lady who lives next door to Daniels is excruciatingly shrill), a memorably nasty turn by Patrick Wright as a sadistic goon, a couple of cool action set pieces (the climactic slow motion barroom massacre seriously cooks), more lurid travelogue footage of the Sunset Strip than you can shake a feather boa at (said footage allegedly includes \"the actual hookers and blades of the Sunset Strip in Hollywood\"), effectively dark\\'n\\'dingy cinematography by Ken Gibb, a few sicko sexual fetish tableaux, some raw explicit violence (a prostitute has one of her breasts cut off!), and amusing supporting performances by familiar schlock feature perennials Richard Kennedy and George \"Buck\" Flower as a pair of racist, corrupt, browbeating police detectives. Sure, this movie ain\\'t art, but it\\'s certainly artless enough to qualify as a deliciously grungy chunk of entertainingly sordid cinematic swill.'\n",
    "y_pos = 1\n",
    "x_neg = 'Enter the Ninja (1981) was the first of several \"Ninja\" films produced by Cannon starring or co-starring Japanese sensation Sho Kosugi. But the star of the first \"Ninja\" film was legendary tough guy Franco Nero. Sadly not even Mr. Nero or Sho Kosugi couldn\\'t make this film watchable. When you have two bad dudes in an action film and it\\'s neither watchable or fun, somethings amiss. But I digress. Skip this chapter and watch the next films in the series. They\\'re more interesting and a whole lot of fun.<br /><br />Next is Revenge of the Ninja. Instead of playing the \"evil oriental\" (I use that term tongue in cheek mind you). He\\'s the star! Strange for a western film. Watch that one instead.<br /><br />Not recommended except for die hard Sho Kosugi fans or Cannon film buffs.'\n",
    "y_neg = 0\n",
    "\n",
    "def deal_with_test(line):\n",
    "  line = line.replace(\"<br />\", \" \")    #替换掉特殊符号\n",
    "  line = line.replace(\".\", \". \")    #增加空格\n",
    "  line = line.replace(\"(\", \" \")    #替换掉左括号\n",
    "  line = line.replace(\")\", \" \")    #替换掉右括号\n",
    "  line = line.replace(\"\\\"\", \" \")    #替换掉引号\n",
    "  line = line.replace(\"\\'\", \" \")    #替换掉引号\n",
    "  line = line.replace(\"  \", \" \")    #多个空格替换为一个空格\n",
    "  return line\n",
    "\n",
    "def encode(line):\n",
    "  words = [x.lower() for x in nltk.word_tokenize(line)] \n",
    "  wids = [word2index[word] for word in words] #从词典中得到每个词的\n",
    "  return wids\n",
    "\n",
    "\n",
    "x_pos = deal_with_test(x_pos)\n",
    "x_pos = encode(x_pos)\n",
    "print(x_pos)\n",
    "y_pos = np_utils.to_categorical(y_pos)\n",
    "\n",
    "x_neg = deal_with_test(x_neg)\n",
    "x_neg = encode(x_neg)\n",
    "print(x_neg)\n",
    "y_neg = np_utils.to_categorical(y_neg)"
   ]
  },
  {
   "cell_type": "markdown",
   "metadata": {
    "colab_type": "text",
    "id": "CywGPyt6Gnjs"
   },
   "source": [
    "##简单神经网络"
   ]
  },
  {
   "cell_type": "code",
   "execution_count": 64,
   "metadata": {
    "colab": {
     "base_uri": "https://localhost:8080/",
     "height": 50
    },
    "colab_type": "code",
    "id": "ayzZ5eaBGvPZ",
    "outputId": "125c9572-81cb-4f4b-96a3-2f4738613102"
   },
   "outputs": [
    {
     "name": "stdout",
     "output_type": "stream",
     "text": [
      "(1, 20001)\n",
      "(1, 20001)\n"
     ]
    }
   ],
   "source": [
    "x_pos = np.asarray(x_pos)\n",
    "x_pos = x_pos[np.newaxis, :]\n",
    "onehot_x_pos = vectorize_sequences(x_pos, VOCAB_SIZE)\n",
    "print(onehot_x_pos.shape)\n",
    "x_neg = np.asarray(x_neg)\n",
    "x_neg = x_neg[np.newaxis, :]\n",
    "onehot_x_neg = vectorize_sequences(x_neg, VOCAB_SIZE)\n",
    "print(onehot_x_neg.shape)"
   ]
  },
  {
   "cell_type": "code",
   "execution_count": 45,
   "metadata": {
    "colab": {},
    "colab_type": "code",
    "id": "tdLLZLatHLz6"
   },
   "outputs": [],
   "source": [
    "from keras.models import load_model\n",
    "model = load_model('model1.h5')"
   ]
  },
  {
   "cell_type": "code",
   "execution_count": 65,
   "metadata": {
    "colab": {
     "base_uri": "https://localhost:8080/",
     "height": 50
    },
    "colab_type": "code",
    "id": "0PBan74hHggz",
    "outputId": "ef9a20d7-78fd-4668-bd87-d17f699fae8a"
   },
   "outputs": [
    {
     "name": "stdout",
     "output_type": "stream",
     "text": [
      "x_pos: [[0.32274503 0.677255  ]]\n",
      "x_neg: [[0.6020305  0.39796945]]\n"
     ]
    }
   ],
   "source": [
    "val_x_pos = model.predict(onehot_x_pos)\n",
    "val_x_neg = model.predict(onehot_x_neg)\n",
    "print(\"x_pos:\", end = \" \")\n",
    "print(val_x_pos)\n",
    "print(\"x_neg:\", end = \" \")\n",
    "print(val_x_neg)"
   ]
  },
  {
   "cell_type": "markdown",
   "metadata": {
    "colab_type": "text",
    "id": "ap94WV_0MZzU"
   },
   "source": [
    "##卷积神经网络"
   ]
  },
  {
   "cell_type": "code",
   "execution_count": 70,
   "metadata": {
    "colab": {
     "base_uri": "https://localhost:8080/",
     "height": 50
    },
    "colab_type": "code",
    "id": "6smnO2CWM8WZ",
    "outputId": "42a53354-64ec-4b92-ac57-c2f94caf5922"
   },
   "outputs": [
    {
     "name": "stdout",
     "output_type": "stream",
     "text": [
      "(408,)\n",
      "(153,)\n"
     ]
    }
   ],
   "source": [
    "print(x_pos.shape)\n",
    "print(x_neg.shape)"
   ]
  },
  {
   "cell_type": "code",
   "execution_count": 78,
   "metadata": {
    "colab": {
     "base_uri": "https://localhost:8080/",
     "height": 50
    },
    "colab_type": "code",
    "id": "IADRwiMFMb9x",
    "outputId": "a472845c-a176-4e35-8c39-79d59c88b708"
   },
   "outputs": [
    {
     "name": "stdout",
     "output_type": "stream",
     "text": [
      "[[   0.    0.    0. ... 1321.    0.    2.]]\n",
      "[[0.000e+00 0.000e+00 0.000e+00 ... 2.100e+01 4.444e+03 2.000e+00]]\n"
     ]
    }
   ],
   "source": [
    "x_pos = np.asarray(x_pos)\n",
    "x_neg = np.asarray(x_neg)\n",
    "x_zero_pos = np.zeros(2732 - len(x_pos))\n",
    "x_zero_neg = np.zeros(2732 - len(x_neg))\n",
    "x_pos = np.hstack((x_zero_pos,x_pos))\n",
    "x_neg = np.hstack((x_zero_neg,x_neg))\n",
    "x_pos = x_pos[np.newaxis, :]\n",
    "x_neg = x_neg[np.newaxis, :]\n",
    "print(x_pos)\n",
    "print(x_neg)"
   ]
  },
  {
   "cell_type": "code",
   "execution_count": 79,
   "metadata": {
    "colab": {},
    "colab_type": "code",
    "id": "qzBSQvkrO3AR"
   },
   "outputs": [],
   "source": [
    "from keras.models import load_model\n",
    "model = load_model('model2.h5')"
   ]
  },
  {
   "cell_type": "code",
   "execution_count": 80,
   "metadata": {
    "colab": {
     "base_uri": "https://localhost:8080/",
     "height": 50
    },
    "colab_type": "code",
    "id": "UnteChd7O5mh",
    "outputId": "117a191e-bae2-4b34-87a7-84f893713c26"
   },
   "outputs": [
    {
     "name": "stdout",
     "output_type": "stream",
     "text": [
      "x_pos: [[0.10579075 0.8942092 ]]\n",
      "x_neg: [[0.9141326  0.08586746]]\n"
     ]
    }
   ],
   "source": [
    "val_x_pos = model.predict(x_pos)\n",
    "val_x_neg = model.predict(x_neg)\n",
    "print(\"x_pos:\", end = \" \")\n",
    "print(val_x_pos)\n",
    "print(\"x_neg:\", end = \" \")\n",
    "print(val_x_neg)"
   ]
  },
  {
   "cell_type": "markdown",
   "metadata": {
    "colab_type": "text",
    "id": "Nv2qtfMePPbk"
   },
   "source": [
    "##LSTM"
   ]
  },
  {
   "cell_type": "code",
   "execution_count": 81,
   "metadata": {
    "colab": {},
    "colab_type": "code",
    "id": "lpqzSkssPSNo"
   },
   "outputs": [],
   "source": [
    "from keras.models import load_model\n",
    "model = load_model('model3.h5')"
   ]
  },
  {
   "cell_type": "code",
   "execution_count": 83,
   "metadata": {
    "colab": {
     "base_uri": "https://localhost:8080/",
     "height": 50
    },
    "colab_type": "code",
    "id": "_c0UAC5SPUPa",
    "outputId": "4b415e34-3126-45de-fbd6-262e7ea1dac8"
   },
   "outputs": [
    {
     "name": "stdout",
     "output_type": "stream",
     "text": [
      "x_pos: [[0.97034657 0.02965348]]\n",
      "x_neg: [[0.54922986 0.45077014]]\n"
     ]
    }
   ],
   "source": [
    "val_x_pos = model.predict(x_pos)\n",
    "val_x_neg = model.predict(x_neg)\n",
    "print(\"x_pos:\", end = \" \")\n",
    "print(val_x_pos)\n",
    "print(\"x_neg:\", end = \" \")\n",
    "print(val_x_neg)"
   ]
  },
  {
   "cell_type": "markdown",
   "metadata": {
    "colab_type": "text",
    "id": "jj0WRbfSVmlt"
   },
   "source": [
    "# 简单神经网络"
   ]
  },
  {
   "cell_type": "markdown",
   "metadata": {
    "colab_type": "text",
    "id": "pMf-rlNjWl6l"
   },
   "source": [
    "##划分数据集"
   ]
  },
  {
   "cell_type": "code",
   "execution_count": 14,
   "metadata": {
    "colab": {
     "base_uri": "https://localhost:8080/",
     "height": 33
    },
    "colab_type": "code",
    "id": "uVCpIutmWncQ",
    "outputId": "0b251a0e-49be-4b27-91ce-a5e771b658e7"
   },
   "outputs": [
    {
     "name": "stdout",
     "output_type": "stream",
     "text": [
      "(17320, 20001) (7680, 20001) (17320, 2) (7680, 2)\n"
     ]
    }
   ],
   "source": [
    "from sklearn.model_selection import train_test_split\n",
    "Xtrain, Xtest, Ytrain, Ytest = train_test_split(onehot_x, Y, test_size=0.3072, random_state=42)\n",
    "print(Xtrain.shape, Xtest.shape, Ytrain.shape, Ytest.shape)"
   ]
  },
  {
   "cell_type": "markdown",
   "metadata": {
    "colab_type": "text",
    "id": "SaK8bkshWoSa"
   },
   "source": [
    "##搭建模型"
   ]
  },
  {
   "cell_type": "code",
   "execution_count": 15,
   "metadata": {
    "colab": {},
    "colab_type": "code",
    "id": "91vR01K4WqQo"
   },
   "outputs": [],
   "source": [
    "from keras import models\n",
    "from keras.layers import Dense, Dropout\n",
    "from keras import regularizers\n",
    "\n",
    "model = models.Sequential()\n",
    "model.add(Dense(16, kernel_regularizer=regularizers.l2(0.001),\n",
    "                          activation='relu', input_shape=(VOCAB_SIZE,)))\n",
    "model.add(Dropout(0.4))\n",
    "model.add(Dense(16, kernel_regularizer=regularizers.l2(0.001),\n",
    "                          activation='relu'))\n",
    "model.add(Dropout(0.4))\n",
    "\n",
    "model.add(Dense(2, activation=\"softmax\"))"
   ]
  },
  {
   "cell_type": "code",
   "execution_count": 16,
   "metadata": {
    "colab": {
     "base_uri": "https://localhost:8080/",
     "height": 316
    },
    "colab_type": "code",
    "id": "xWU7ZnNnWyT6",
    "outputId": "56b5aec8-a205-456d-8c04-ec7ec05cf86e"
   },
   "outputs": [
    {
     "name": "stdout",
     "output_type": "stream",
     "text": [
      "Model: \"sequential\"\n",
      "_________________________________________________________________\n",
      "Layer (type)                 Output Shape              Param #   \n",
      "=================================================================\n",
      "dense (Dense)                (None, 16)                320032    \n",
      "_________________________________________________________________\n",
      "dropout (Dropout)            (None, 16)                0         \n",
      "_________________________________________________________________\n",
      "dense_1 (Dense)              (None, 16)                272       \n",
      "_________________________________________________________________\n",
      "dropout_1 (Dropout)          (None, 16)                0         \n",
      "_________________________________________________________________\n",
      "dense_2 (Dense)              (None, 2)                 34        \n",
      "=================================================================\n",
      "Total params: 320,338\n",
      "Trainable params: 320,338\n",
      "Non-trainable params: 0\n",
      "_________________________________________________________________\n"
     ]
    }
   ],
   "source": [
    "from keras import losses\n",
    "from keras import metrics\n",
    "from keras import optimizers\n",
    "\n",
    "model.compile(optimizer=optimizers.RMSprop(lr=0.001),\n",
    "              loss=losses.binary_crossentropy,\n",
    "              metrics=[metrics.binary_accuracy])\n",
    "model.summary()"
   ]
  },
  {
   "cell_type": "code",
   "execution_count": null,
   "metadata": {
    "colab": {
     "base_uri": "https://localhost:8080/",
     "height": 643
    },
    "colab_type": "code",
    "id": "7kJZBkIfZa3O",
    "outputId": "a08ce56d-d929-4ec7-abfb-3d11dcd3c993"
   },
   "outputs": [
    {
     "data": {
      "image/png": "[encoded data removed]",
      "text/plain": [
       "<IPython.core.display.Image object>"
      ]
     },
     "execution_count": 51,
     "metadata": {
      "tags": []
     },
     "output_type": "execute_result"
    }
   ],
   "source": [
    "import keras\n",
    "keras.utils.plot_model(\n",
    "    model,\n",
    "    to_file='model1.png',\n",
    "    show_shapes=True,\n",
    "    show_layer_names=True,\n",
    "    rankdir='TB',\n",
    ")"
   ]
  },
  {
   "cell_type": "code",
   "execution_count": 17,
   "metadata": {
    "colab": {
     "base_uri": "https://localhost:8080/",
     "height": 2820
    },
    "colab_type": "code",
    "id": "RWFSC6yFW0oG",
    "outputId": "eb2a5f76-1d15-44e3-9d67-3f388f79f9b5"
   },
   "outputs": [
    {
     "name": "stdout",
     "output_type": "stream",
     "text": [
      "on train begin 25000\n",
      "\n",
      "Epoch 1/5\n",
      "31/34 [==========================>...] - ETA: 0s - loss: 0.6363 - binary_accuracy: 0.6719\n",
      "on epoch end : 25000\n",
      "\n",
      "处理完第1个验证集\n",
      "处理完第1001个验证集\n",
      "处理完第2001个验证集\n",
      "处理完第3001个验证集\n",
      "处理完第4001个验证集\n",
      "处理完第5001个验证集\n",
      "处理完第6001个验证集\n",
      "处理完第7001个验证集\n",
      "处理完第8001个验证集\n",
      "处理完第9001个验证集\n",
      "处理完第10001个验证集\n",
      "处理完第11001个验证集\n",
      "处理完第12001个验证集\n",
      "处理完第13001个验证集\n",
      "处理完第14001个验证集\n",
      "处理完第15001个验证集\n",
      "处理完第16001个验证集\n",
      "处理完第17001个验证集\n",
      "处理完第18001个验证集\n",
      "处理完第19001个验证集\n",
      "处理完第20001个验证集\n",
      "处理完第21001个验证集\n",
      "处理完第22001个验证集\n",
      "处理完第23001个验证集\n",
      "处理完第24001个验证集\n",
      "\n",
      "— val_f1: 0.862024 — val_precision: 0.862665 — val_recall 0.862080\n",
      " — val_f1: 0.8620243673418683\n",
      "34/34 [==============================] - 3s 97ms/step - loss: 0.6278 - binary_accuracy: 0.6806 - val_loss: 0.4712 - val_binary_accuracy: 0.8699\n",
      "Epoch 2/5\n",
      "33/34 [============================>.] - ETA: 0s - loss: 0.4697 - binary_accuracy: 0.8224\n",
      "on epoch end : 25000\n",
      "\n",
      "处理完第1个验证集\n",
      "处理完第1001个验证集\n",
      "处理完第2001个验证集\n",
      "处理完第3001个验证集\n",
      "处理完第4001个验证集\n",
      "处理完第5001个验证集\n",
      "处理完第6001个验证集\n",
      "处理完第7001个验证集\n",
      "处理完第8001个验证集\n",
      "处理完第9001个验证集\n",
      "处理完第10001个验证集\n",
      "处理完第11001个验证集\n",
      "处理完第12001个验证集\n",
      "处理完第13001个验证集\n",
      "处理完第14001个验证集\n",
      "处理完第15001个验证集\n",
      "处理完第16001个验证集\n",
      "处理完第17001个验证集\n",
      "处理完第18001个验证集\n",
      "处理完第19001个验证集\n",
      "处理完第20001个验证集\n",
      "处理完第21001个验证集\n",
      "处理完第22001个验证集\n",
      "处理完第23001个验证集\n",
      "处理完第24001个验证集\n",
      "\n",
      "— val_f1: 0.877932 — val_precision: 0.879380 — val_recall 0.878040\n",
      " — val_f1: 0.8779321801313749\n",
      "34/34 [==============================] - 3s 83ms/step - loss: 0.4691 - binary_accuracy: 0.8229 - val_loss: 0.3658 - val_binary_accuracy: 0.8836\n",
      "Epoch 3/5\n",
      "33/34 [============================>.] - ETA: 0s - loss: 0.3811 - binary_accuracy: 0.8729\n",
      "on epoch end : 25000\n",
      "\n",
      "处理完第1个验证集\n",
      "处理完第1001个验证集\n",
      "处理完第2001个验证集\n",
      "处理完第3001个验证集\n",
      "处理完第4001个验证集\n",
      "处理完第5001个验证集\n",
      "处理完第6001个验证集\n",
      "处理完第7001个验证集\n",
      "处理完第8001个验证集\n",
      "处理完第9001个验证集\n",
      "处理完第10001个验证集\n",
      "处理完第11001个验证集\n",
      "处理完第12001个验证集\n",
      "处理完第13001个验证集\n",
      "处理完第14001个验证集\n",
      "处理完第15001个验证集\n",
      "处理完第16001个验证集\n",
      "处理完第17001个验证集\n",
      "处理完第18001个验证集\n",
      "处理完第19001个验证集\n",
      "处理完第20001个验证集\n",
      "处理完第21001个验证集\n",
      "处理完第22001个验证集\n",
      "处理完第23001个验证集\n",
      "处理完第24001个验证集\n",
      "\n",
      "— val_f1: 0.884130 — val_precision: 0.886278 — val_recall 0.884280\n",
      " — val_f1: 0.8841301662151444\n",
      "34/34 [==============================] - 3s 87ms/step - loss: 0.3805 - binary_accuracy: 0.8732 - val_loss: 0.3267 - val_binary_accuracy: 0.8922\n",
      "Epoch 4/5\n",
      "33/34 [============================>.] - ETA: 0s - loss: 0.3140 - binary_accuracy: 0.9058\n",
      "on epoch end : 25000\n",
      "\n",
      "处理完第1个验证集\n",
      "处理完第1001个验证集\n",
      "处理完第2001个验证集\n",
      "处理完第3001个验证集\n",
      "处理完第4001个验证集\n",
      "处理完第5001个验证集\n",
      "处理完第6001个验证集\n",
      "处理完第7001个验证集\n",
      "处理完第8001个验证集\n",
      "处理完第9001个验证集\n",
      "处理完第10001个验证集\n",
      "处理完第11001个验证集\n",
      "处理完第12001个验证集\n",
      "处理完第13001个验证集\n",
      "处理完第14001个验证集\n",
      "处理完第15001个验证集\n",
      "处理完第16001个验证集\n",
      "处理完第17001个验证集\n",
      "处理完第18001个验证集\n",
      "处理完第19001个验证集\n",
      "处理完第20001个验证集\n",
      "处理完第21001个验证集\n",
      "处理完第22001个验证集\n",
      "处理完第23001个验证集\n",
      "处理完第24001个验证集\n",
      "\n",
      "— val_f1: 0.889035 — val_precision: 0.889706 — val_recall 0.889080\n",
      " — val_f1: 0.8890354364537365\n",
      "34/34 [==============================] - 3s 74ms/step - loss: 0.3147 - binary_accuracy: 0.9054 - val_loss: 0.3082 - val_binary_accuracy: 0.8953\n",
      "Epoch 5/5\n",
      "33/34 [============================>.] - ETA: 0s - loss: 0.2776 - binary_accuracy: 0.9224\n",
      "on epoch end : 25000\n",
      "\n",
      "处理完第1个验证集\n",
      "处理完第1001个验证集\n",
      "处理完第2001个验证集\n",
      "处理完第3001个验证集\n",
      "处理完第4001个验证集\n",
      "处理完第5001个验证集\n",
      "处理完第6001个验证集\n",
      "处理完第7001个验证集\n",
      "处理完第8001个验证集\n",
      "处理完第9001个验证集\n",
      "处理完第10001个验证集\n",
      "处理完第11001个验证集\n",
      "处理完第12001个验证集\n",
      "处理完第13001个验证集\n",
      "处理完第14001个验证集\n",
      "处理完第15001个验证集\n",
      "处理完第16001个验证集\n",
      "处理完第17001个验证集\n",
      "处理完第18001个验证集\n",
      "处理完第19001个验证集\n",
      "处理完第20001个验证集\n",
      "处理完第21001个验证集\n",
      "处理完第22001个验证集\n",
      "处理完第23001个验证集\n",
      "处理完第24001个验证集\n",
      "\n",
      "— val_f1: 0.886730 — val_precision: 0.888941 — val_recall 0.886880\n",
      " — val_f1: 0.8867299216770252\n",
      "34/34 [==============================] - 5s 134ms/step - loss: 0.2783 - binary_accuracy: 0.9223 - val_loss: 0.3160 - val_binary_accuracy: 0.8923\n"
     ]
    }
   ],
   "source": [
    "myMetrics = Metrics(onehot_test, Y_Test)\n",
    "history = model.fit(Xtrain, Ytrain, callbacks = [myMetrics], epochs=5, batch_size=512, validation_data=(Xtest, Ytest))"
   ]
  },
  {
   "cell_type": "markdown",
   "metadata": {
    "colab_type": "text",
    "id": "AXxZ4CnEXRp0"
   },
   "source": [
    "##准确率和loss值"
   ]
  },
  {
   "cell_type": "code",
   "execution_count": 18,
   "metadata": {
    "colab": {
     "base_uri": "https://localhost:8080/",
     "height": 330
    },
    "colab_type": "code",
    "id": "CCapGmDIXRID",
    "outputId": "5e885d01-703d-4935-8ede-4b9e2f8d8faf"
   },
   "outputs": [
    {
     "data": {
      "image/png": "[encoded data removed]",
      "text/plain": [
       "<Figure size 432x288 with 2 Axes>"
      ]
     },
     "metadata": {
      "needs_background": "light",
      "tags": []
     },
     "output_type": "display_data"
    },
    {
     "name": "stdout",
     "output_type": "stream",
     "text": [
      "240/240 [==============================] - 1s 3ms/step - loss: 0.3160 - binary_accuracy: 0.8923\n",
      "Test loss: 0.316, accuracy: 0.892\n"
     ]
    }
   ],
   "source": [
    "# plot loss function\n",
    "plt.subplot(211)\n",
    "plt.title(\"accuracy\")\n",
    "plt.plot(history.history[\"binary_accuracy\"], color=\"r\", label=\"train\")\n",
    "plt.plot(history.history[\"val_binary_accuracy\"], color=\"b\", label=\"validation\")\n",
    "plt.legend(loc=\"best\")\n",
    "\n",
    "plt.subplot(212)\n",
    "plt.title(\"loss\")\n",
    "plt.plot(history.history[\"loss\"], color=\"r\", label=\"train\")\n",
    "plt.plot(history.history[\"val_loss\"], color=\"b\", label=\"validation\")\n",
    "plt.legend(loc=\"best\")\n",
    "\n",
    "plt.tight_layout()\n",
    "plt.show()\n",
    "\n",
    "# evaluate model\n",
    "score = model.evaluate(Xtest, Ytest, verbose=1)\n",
    "print(\"Test loss: {:.3f}, accuracy: {:.3f}\".format(score[0], score[1]))"
   ]
  },
  {
   "cell_type": "markdown",
   "metadata": {
    "colab_type": "text",
    "id": "awp_PMeCXwnS"
   },
   "source": [
    "##精确度、召回率、f1分数"
   ]
  },
  {
   "cell_type": "code",
   "execution_count": 19,
   "metadata": {
    "colab": {
     "base_uri": "https://localhost:8080/",
     "height": 174
    },
    "colab_type": "code",
    "id": "RD-zYAt8X1Pl",
    "outputId": "3935a7fc-e579-405d-ef86-5b2082b700ee"
   },
   "outputs": [
    {
     "data": {
      "image/png": "[encoded data removed]",
      "text/plain": [
       "<Figure size 432x288 with 1 Axes>"
      ]
     },
     "metadata": {
      "needs_background": "light",
      "tags": []
     },
     "output_type": "display_data"
    }
   ],
   "source": [
    "# plot loss function\n",
    "plt.subplot(211)\n",
    "plt.title(\"precision, recall and f1 score\")\n",
    "plt.plot(myMetrics.val_precisions, color=\"r\", label=\"precision\")\n",
    "plt.plot(myMetrics.val_recalls, color=\"b\", label=\"recall\")\n",
    "plt.plot(myMetrics.val_f1s, color=\"g\", label=\"f1 score\")\n",
    "plt.legend(loc=\"best\")\n",
    "\n",
    "plt.tight_layout()\n",
    "plt.show()"
   ]
  },
  {
   "cell_type": "markdown",
   "metadata": {
    "colab_type": "text",
    "id": "9gtmj-r2YUn7"
   },
   "source": [
    "##混淆矩阵"
   ]
  },
  {
   "cell_type": "code",
   "execution_count": 20,
   "metadata": {
    "colab": {},
    "colab_type": "code",
    "id": "WKztAxTiYZHJ"
   },
   "outputs": [],
   "source": [
    "classes=['positive', 'negtive']\n",
    "filename1 = \"nn_confusion_matrix_1.jpg\"\n",
    "filename2 = \"nn_confusion_matrix_2.jpg\""
   ]
  },
  {
   "cell_type": "code",
   "execution_count": 21,
   "metadata": {
    "colab": {
     "base_uri": "https://localhost:8080/",
     "height": 1457
    },
    "colab_type": "code",
    "id": "Q7YVTmd-YcTk",
    "outputId": "49d6d61a-db27-4c01-e883-186ea91f4d32"
   },
   "outputs": [
    {
     "name": "stdout",
     "output_type": "stream",
     "text": [
      "— val_f1: 0.886730 — val_precision: 0.888941 — val_recall 0.886880\n"
     ]
    },
    {
     "data": {
      "image/png": "[encoded data removed]",
      "text/plain": [
       "<Figure size 1080x720 with 1 Axes>"
      ]
     },
     "metadata": {
      "needs_background": "light",
      "tags": []
     },
     "output_type": "display_data"
    },
    {
     "data": {
      "image/png": "[encoded data removed]",
      "text/plain": [
       "<Figure size 1080x720 with 1 Axes>"
      ]
     },
     "metadata": {
      "needs_background": "light",
      "tags": []
     },
     "output_type": "display_data"
    }
   ],
   "source": [
    "from sklearn.metrics import confusion_matrix\n",
    "\n",
    "data_num = len(onehot_test) ## 等于所有数据 / batchsize，所以所有数据需要能够整除\n",
    "val_pred = model.predict(onehot_test)    #验证集正确\n",
    "val_true = Y_Test\n",
    "val_pred_flat = np.zeros(data_num)    #验证集预测\n",
    "val_true_flat = np.zeros(data_num)    #验证集正确\n",
    "for data_count in range(data_num):\n",
    "    val_pred_flat[data_count] = np.argmax(val_pred[data_count])\n",
    "    val_true_flat[data_count] = np.argmax(Y_Test[data_count])\n",
    "\n",
    "val_f1 = f1_score(val_true_flat, val_pred_flat, average='macro')  #3个数值\n",
    "val_recall = recall_score(val_true_flat, val_pred_flat, average='macro')  #3个数值\n",
    "val_precision = precision_score(val_true_flat, val_pred_flat, average='macro')  #3个数值\n",
    "print('— val_f1: %f — val_precision: %f — val_recall %f' %(val_f1, val_precision, val_recall))\n",
    "\n",
    "conf_matrix_1 = [[0,0],[0,0]]\n",
    "tn, fp, fn, tp = confusion_matrix(val_true_flat, val_pred_flat).ravel()\n",
    "conf_matrix_1[0][0] = tp.item()\n",
    "conf_matrix_1[0][1] = fn.item()\n",
    "conf_matrix_1[1][0] = fp.item()\n",
    "conf_matrix_1[1][1] = tn.item()\n",
    "conf_matrix_1 = np.asarray(conf_matrix_1)\n",
    "paintConfusionMatrix(conf_matrix_1, classes, filename1)\n",
    "conf_matrix_2 = [[0,0],[0,0]]\n",
    "nn, npp, pn, pp = 0, 0, 0, 0\n",
    "n_num, p_num = 0, 0\n",
    "for data_count in range(data_num):\n",
    "    if val_pred_flat[data_count] == 0 and val_true_flat[data_count] == 0:\n",
    "      nn += 1\n",
    "      n_num += 1\n",
    "    elif val_pred_flat[data_count] == 0 and val_true_flat[data_count] == 1:\n",
    "      npp += 1\n",
    "      n_num += 1\n",
    "    elif val_pred_flat[data_count] == 1 and val_true_flat[data_count] == 0:\n",
    "      pn += 1\n",
    "      p_num += 1\n",
    "    elif val_pred_flat[data_count] == 1 and val_true_flat[data_count] == 1:\n",
    "      pp += 1\n",
    "      p_num += 1\n",
    "nn, npp, pn, pp = nn / n_num, npp / n_num, pn / p_num, pp / p_num\n",
    "#pdb.set_trace()\n",
    "conf_matrix_2[0][0] = pp\n",
    "conf_matrix_2[0][1] = pn\n",
    "conf_matrix_2[1][0] = npp\n",
    "conf_matrix_2[1][1] = nn\n",
    "conf_matrix_2 = np.asarray(conf_matrix_2)\n",
    "paintConfusionMatrix(conf_matrix_2, classes, filename2)"
   ]
  },
  {
   "cell_type": "code",
   "execution_count": 22,
   "metadata": {
    "colab": {},
    "colab_type": "code",
    "id": "4lR7pQM11Pga"
   },
   "outputs": [],
   "source": [
    "model.save('model1.h5')"
   ]
  },
  {
   "cell_type": "markdown",
   "metadata": {
    "colab_type": "text",
    "id": "zdmgpTy4XN2U"
   },
   "source": [
    "#卷积神经网络"
   ]
  },
  {
   "cell_type": "markdown",
   "metadata": {
    "colab_type": "text",
    "id": "r3xOA7dR3CTu"
   },
   "source": [
    "##划分数据集"
   ]
  },
  {
   "cell_type": "code",
   "execution_count": 23,
   "metadata": {
    "colab": {
     "base_uri": "https://localhost:8080/",
     "height": 33
    },
    "colab_type": "code",
    "id": "Cc9x6z36wFFU",
    "outputId": "8298f76f-4110-48c9-a193-2ad9fc73304c"
   },
   "outputs": [
    {
     "name": "stdout",
     "output_type": "stream",
     "text": [
      "(17320, 2732) (7680, 2732) (17320, 2) (7680, 2)\n"
     ]
    }
   ],
   "source": [
    "Xtrain, Xtest, Ytrain, Ytest = train_test_split(X, Y, test_size=0.3072, random_state=42)\n",
    "print(Xtrain.shape, Xtest.shape, Ytrain.shape, Ytest.shape)\n",
    "maxlen = Xtrain.shape[1]"
   ]
  },
  {
   "cell_type": "code",
   "execution_count": null,
   "metadata": {
    "colab": {
     "base_uri": "https://localhost:8080/",
     "height": 138
    },
    "colab_type": "code",
    "id": "unMG3vcooilD",
    "outputId": "65de3a32-5f12-48c7-90b5-5e74a57245f1"
   },
   "outputs": [
    {
     "data": {
      "text/plain": [
       "array([[   0,    0,    0, ...,    1,  206,  290],\n",
       "       [   0,    0,    0, ...,   81,  766,   51],\n",
       "       [   0,    0,    0, ...,   16,   78,    2],\n",
       "       ...,\n",
       "       [   0,    0,    0, ...,  155, 1359,    2],\n",
       "       [   0,    0,    0, ...,    1,  186,    2],\n",
       "       [   0,    0,    0, ...,   14,    0,   32]], dtype=int32)"
      ]
     },
     "execution_count": 36,
     "metadata": {
      "tags": []
     },
     "output_type": "execute_result"
    }
   ],
   "source": [
    "Xtest"
   ]
  },
  {
   "cell_type": "code",
   "execution_count": null,
   "metadata": {
    "colab": {
     "base_uri": "https://localhost:8080/",
     "height": 138
    },
    "colab_type": "code",
    "id": "N_N6vz0hojmw",
    "outputId": "f9eb3597-24b5-4390-fb30-b1a64cab9611"
   },
   "outputs": [
    {
     "data": {
      "text/plain": [
       "array([[0., 1.],\n",
       "       [1., 0.],\n",
       "       [0., 1.],\n",
       "       ...,\n",
       "       [1., 0.],\n",
       "       [1., 0.],\n",
       "       [0., 1.]], dtype=float32)"
      ]
     },
     "execution_count": 37,
     "metadata": {
      "tags": []
     },
     "output_type": "execute_result"
    }
   ],
   "source": [
    "Ytest"
   ]
  },
  {
   "cell_type": "markdown",
   "metadata": {
    "colab_type": "text",
    "id": "NQGsFMiJ3JJN"
   },
   "source": [
    "##建立模型"
   ]
  },
  {
   "cell_type": "code",
   "execution_count": 24,
   "metadata": {
    "colab": {
     "base_uri": "https://localhost:8080/",
     "height": 350
    },
    "colab_type": "code",
    "id": "B1QVLniewdAv",
    "outputId": "be002f93-0b48-4548-95e5-b9c2d453028f"
   },
   "outputs": [
    {
     "name": "stdout",
     "output_type": "stream",
     "text": [
      "Model: \"sequential_1\"\n",
      "_________________________________________________________________\n",
      "Layer (type)                 Output Shape              Param #   \n",
      "=================================================================\n",
      "embedding (Embedding)        (None, 2732, 300)         6000300   \n",
      "_________________________________________________________________\n",
      "spatial_dropout1d (SpatialDr (None, 2732, 300)         0         \n",
      "_________________________________________________________________\n",
      "conv1d (Conv1D)              (None, 2721, 256)         921856    \n",
      "_________________________________________________________________\n",
      "global_max_pooling1d (Global (None, 256)               0         \n",
      "_________________________________________________________________\n",
      "dropout_2 (Dropout)          (None, 256)               0         \n",
      "_________________________________________________________________\n",
      "dense_3 (Dense)              (None, 2)                 514       \n",
      "=================================================================\n",
      "Total params: 6,922,670\n",
      "Trainable params: 6,922,670\n",
      "Non-trainable params: 0\n",
      "_________________________________________________________________\n"
     ]
    }
   ],
   "source": [
    "model = Sequential()\n",
    "model.add(Embedding(VOCAB_SIZE, EMBED_SIZE, input_length=maxlen, weights=[embedding_weights], trainable=True))\n",
    "model.add(SpatialDropout1D(0.4))\n",
    "model.add(Conv1D(filters=NUM_FILTERS, kernel_size=NUM_WORDS, activation=\"relu\"))\n",
    "model.add(GlobalMaxPooling1D())\n",
    "model.add(Dropout(0.2))\n",
    "model.add(Dense(2, activation=\"softmax\"))\n",
    "model.compile(optimizer=\"adam\", loss=\"categorical_crossentropy\", metrics=[\"accuracy\"])\n",
    "model.summary()"
   ]
  },
  {
   "cell_type": "code",
   "execution_count": 36,
   "metadata": {
    "colab": {
     "base_uri": "https://localhost:8080/",
     "height": 754
    },
    "colab_type": "code",
    "id": "4erNGiSNwk58",
    "outputId": "d50588e7-9f37-465e-aeff-e9890c651955"
   },
   "outputs": [
    {
     "data": {
      "image/png": "[encoded data removed]",
      "text/plain": [
       "<IPython.core.display.Image object>"
      ]
     },
     "execution_count": 36,
     "metadata": {
      "tags": []
     },
     "output_type": "execute_result"
    }
   ],
   "source": [
    "import keras\n",
    "keras.utils.plot_model(\n",
    "    model,\n",
    "    to_file='model2.png',\n",
    "    show_shapes=True,\n",
    "    show_layer_names=True,\n",
    "    rankdir='TB',\n",
    ")"
   ]
  },
  {
   "cell_type": "code",
   "execution_count": 25,
   "metadata": {
    "colab": {
     "base_uri": "https://localhost:8080/",
     "height": 2800
    },
    "colab_type": "code",
    "id": "MNk9tsgsIviw",
    "outputId": "00945d0d-80fa-4d29-cc28-2c8bb3f1d487"
   },
   "outputs": [
    {
     "name": "stdout",
     "output_type": "stream",
     "text": [
      "on train begin 25000\n",
      "\n",
      "Epoch 1/5\n",
      "271/271 [==============================] - ETA: 0s - loss: 0.4267 - accuracy: 0.7904\n",
      "on epoch end : 25000\n",
      "\n",
      "处理完第1个验证集\n",
      "处理完第1001个验证集\n",
      "处理完第2001个验证集\n",
      "处理完第3001个验证集\n",
      "处理完第4001个验证集\n",
      "处理完第5001个验证集\n",
      "处理完第6001个验证集\n",
      "处理完第7001个验证集\n",
      "处理完第8001个验证集\n",
      "处理完第9001个验证集\n",
      "处理完第10001个验证集\n",
      "处理完第11001个验证集\n",
      "处理完第12001个验证集\n",
      "处理完第13001个验证集\n",
      "处理完第14001个验证集\n",
      "处理完第15001个验证集\n",
      "处理完第16001个验证集\n",
      "处理完第17001个验证集\n",
      "处理完第18001个验证集\n",
      "处理完第19001个验证集\n",
      "处理完第20001个验证集\n",
      "处理完第21001个验证集\n",
      "处理完第22001个验证集\n",
      "处理完第23001个验证集\n",
      "处理完第24001个验证集\n",
      "\n",
      "— val_f1: 0.854093 — val_precision: 0.870462 — val_recall 0.855560\n",
      " — val_f1: 0.8540927452066694\n",
      "271/271 [==============================] - 75s 277ms/step - loss: 0.4267 - accuracy: 0.7904 - val_loss: 0.3293 - val_accuracy: 0.8578\n",
      "Epoch 2/5\n",
      "271/271 [==============================] - ETA: 0s - loss: 0.2230 - accuracy: 0.9102\n",
      "on epoch end : 25000\n",
      "\n",
      "处理完第1个验证集\n",
      "处理完第1001个验证集\n",
      "处理完第2001个验证集\n",
      "处理完第3001个验证集\n",
      "处理完第4001个验证集\n",
      "处理完第5001个验证集\n",
      "处理完第6001个验证集\n",
      "处理完第7001个验证集\n",
      "处理完第8001个验证集\n",
      "处理完第9001个验证集\n",
      "处理完第10001个验证集\n",
      "处理完第11001个验证集\n",
      "处理完第12001个验证集\n",
      "处理完第13001个验证集\n",
      "处理完第14001个验证集\n",
      "处理完第15001个验证集\n",
      "处理完第16001个验证集\n",
      "处理完第17001个验证集\n",
      "处理完第18001个验证集\n",
      "处理完第19001个验证集\n",
      "处理完第20001个验证集\n",
      "处理完第21001个验证集\n",
      "处理完第22001个验证集\n",
      "处理完第23001个验证集\n",
      "处理完第24001个验证集\n",
      "\n",
      "— val_f1: 0.893724 — val_precision: 0.897484 — val_recall 0.893960\n",
      " — val_f1: 0.8937244374098441\n",
      "271/271 [==============================] - 75s 278ms/step - loss: 0.2230 - accuracy: 0.9102 - val_loss: 0.2703 - val_accuracy: 0.8922\n",
      "Epoch 3/5\n",
      "271/271 [==============================] - ETA: 0s - loss: 0.1227 - accuracy: 0.9550\n",
      "on epoch end : 25000\n",
      "\n",
      "处理完第1个验证集\n",
      "处理完第1001个验证集\n",
      "处理完第2001个验证集\n",
      "处理完第3001个验证集\n",
      "处理完第4001个验证集\n",
      "处理完第5001个验证集\n",
      "处理完第6001个验证集\n",
      "处理完第7001个验证集\n",
      "处理完第8001个验证集\n",
      "处理完第9001个验证集\n",
      "处理完第10001个验证集\n",
      "处理完第11001个验证集\n",
      "处理完第12001个验证集\n",
      "处理完第13001个验证集\n",
      "处理完第14001个验证集\n",
      "处理完第15001个验证集\n",
      "处理完第16001个验证集\n",
      "处理完第17001个验证集\n",
      "处理完第18001个验证集\n",
      "处理完第19001个验证集\n",
      "处理完第20001个验证集\n",
      "处理完第21001个验证集\n",
      "处理完第22001个验证集\n",
      "处理完第23001个验证集\n",
      "处理完第24001个验证集\n",
      "\n",
      "— val_f1: 0.903320 — val_precision: 0.903324 — val_recall 0.903320\n",
      " — val_f1: 0.9033197647189795\n",
      "271/271 [==============================] - 74s 274ms/step - loss: 0.1227 - accuracy: 0.9550 - val_loss: 0.2561 - val_accuracy: 0.9022\n",
      "Epoch 4/5\n",
      "271/271 [==============================] - ETA: 0s - loss: 0.0592 - accuracy: 0.9834\n",
      "on epoch end : 25000\n",
      "\n",
      "处理完第1个验证集\n",
      "处理完第1001个验证集\n",
      "处理完第2001个验证集\n",
      "处理完第3001个验证集\n",
      "处理完第4001个验证集\n",
      "处理完第5001个验证集\n",
      "处理完第6001个验证集\n",
      "处理完第7001个验证集\n",
      "处理完第8001个验证集\n",
      "处理完第9001个验证集\n",
      "处理完第10001个验证集\n",
      "处理完第11001个验证集\n",
      "处理完第12001个验证集\n",
      "处理完第13001个验证集\n",
      "处理完第14001个验证集\n",
      "处理完第15001个验证集\n",
      "处理完第16001个验证集\n",
      "处理完第17001个验证集\n",
      "处理完第18001个验证集\n",
      "处理完第19001个验证集\n",
      "处理完第20001个验证集\n",
      "处理完第21001个验证集\n",
      "处理完第22001个验证集\n",
      "处理完第23001个验证集\n",
      "处理完第24001个验证集\n",
      "\n",
      "— val_f1: 0.901440 — val_precision: 0.901440 — val_recall 0.901440\n",
      " — val_f1: 0.9014399943229437\n",
      "271/271 [==============================] - 76s 280ms/step - loss: 0.0592 - accuracy: 0.9834 - val_loss: 0.2864 - val_accuracy: 0.9036\n",
      "Epoch 5/5\n",
      "271/271 [==============================] - ETA: 0s - loss: 0.0324 - accuracy: 0.9913\n",
      "on epoch end : 25000\n",
      "\n",
      "处理完第1个验证集\n",
      "处理完第1001个验证集\n",
      "处理完第2001个验证集\n",
      "处理完第3001个验证集\n",
      "处理完第4001个验证集\n",
      "处理完第5001个验证集\n",
      "处理完第6001个验证集\n",
      "处理完第7001个验证集\n",
      "处理完第8001个验证集\n",
      "处理完第9001个验证集\n",
      "处理完第10001个验证集\n",
      "处理完第11001个验证集\n",
      "处理完第12001个验证集\n",
      "处理完第13001个验证集\n",
      "处理完第14001个验证集\n",
      "处理完第15001个验证集\n",
      "处理完第16001个验证集\n",
      "处理完第17001个验证集\n",
      "处理完第18001个验证集\n",
      "处理完第19001个验证集\n",
      "处理完第20001个验证集\n",
      "处理完第21001个验证集\n",
      "处理完第22001个验证集\n",
      "处理完第23001个验证集\n",
      "处理完第24001个验证集\n",
      "\n",
      "— val_f1: 0.901120 — val_precision: 0.901127 — val_recall 0.901120\n",
      " — val_f1: 0.9011195722037172\n",
      "271/271 [==============================] - 75s 277ms/step - loss: 0.0324 - accuracy: 0.9913 - val_loss: 0.3221 - val_accuracy: 0.8999\n"
     ]
    }
   ],
   "source": [
    "myMetrics = Metrics(X_Test, Y_Test)\n",
    "history = model.fit(Xtrain, Ytrain, callbacks = [myMetrics], batch_size=BATCH_SIZE, epochs=NUM_EPOCHS, validation_data=(Xtest, Ytest))  "
   ]
  },
  {
   "cell_type": "markdown",
   "metadata": {
    "colab_type": "text",
    "id": "0VIDU23IFeII"
   },
   "source": [
    "## 准确率和loss值"
   ]
  },
  {
   "cell_type": "code",
   "execution_count": 26,
   "metadata": {
    "colab": {
     "base_uri": "https://localhost:8080/",
     "height": 330
    },
    "colab_type": "code",
    "id": "HG3IAKQTXShX",
    "outputId": "0f9c3a30-e212-44ab-b098-97a064e0d7df"
   },
   "outputs": [
    {
     "data": {
      "image/png": "[encoded data removed]",
      "text/plain": [
       "<Figure size 432x288 with 2 Axes>"
      ]
     },
     "metadata": {
      "needs_background": "light",
      "tags": []
     },
     "output_type": "display_data"
    },
    {
     "name": "stdout",
     "output_type": "stream",
     "text": [
      "240/240 [==============================] - 6s 26ms/step - loss: 0.3221 - accuracy: 0.8999\n",
      "Test loss: 0.322, accuracy: 0.900\n"
     ]
    }
   ],
   "source": [
    "# plot loss function\n",
    "plt.subplot(211)\n",
    "plt.title(\"accuracy\")\n",
    "plt.plot(history.history[\"accuracy\"], color=\"r\", label=\"train\")\n",
    "plt.plot(history.history[\"val_accuracy\"], color=\"b\", label=\"validation\")\n",
    "plt.legend(loc=\"best\")\n",
    "\n",
    "plt.subplot(212)\n",
    "plt.title(\"loss\")\n",
    "plt.plot(history.history[\"loss\"], color=\"r\", label=\"train\")\n",
    "plt.plot(history.history[\"val_loss\"], color=\"b\", label=\"validation\")\n",
    "plt.legend(loc=\"best\")\n",
    "\n",
    "plt.tight_layout()\n",
    "plt.show()\n",
    "\n",
    "# evaluate model\n",
    "score = model.evaluate(Xtest, Ytest, verbose=1)\n",
    "print(\"Test loss: {:.3f}, accuracy: {:.3f}\".format(score[0], score[1]))\n"
   ]
  },
  {
   "cell_type": "markdown",
   "metadata": {
    "colab_type": "text",
    "id": "7tLnBNBjFjlw"
   },
   "source": [
    "##精确度、召回率、f1分数"
   ]
  },
  {
   "cell_type": "code",
   "execution_count": 27,
   "metadata": {
    "colab": {
     "base_uri": "https://localhost:8080/",
     "height": 174
    },
    "colab_type": "code",
    "id": "y1ofLcF6FNzh",
    "outputId": "40010682-e852-495e-bcd6-db31622237a4"
   },
   "outputs": [
    {
     "data": {
      "image/png": "[encoded data removed]",
      "text/plain": [
       "<Figure size 432x288 with 1 Axes>"
      ]
     },
     "metadata": {
      "needs_background": "light",
      "tags": []
     },
     "output_type": "display_data"
    }
   ],
   "source": [
    "# plot loss function\n",
    "plt.subplot(211)\n",
    "plt.title(\"precision, recall and f1 score\")\n",
    "plt.plot(myMetrics.val_precisions, color=\"r\", label=\"precision\")\n",
    "plt.plot(myMetrics.val_recalls, color=\"b\", label=\"recall\")\n",
    "plt.plot(myMetrics.val_f1s, color=\"g\", label=\"f1 score\")\n",
    "plt.legend(loc=\"best\")\n",
    "\n",
    "plt.tight_layout()\n",
    "plt.show()"
   ]
  },
  {
   "cell_type": "markdown",
   "metadata": {
    "colab_type": "text",
    "id": "6Kr0yRxKGTd3"
   },
   "source": [
    "##混淆矩阵"
   ]
  },
  {
   "cell_type": "code",
   "execution_count": 1,
   "metadata": {
    "colab": {},
    "colab_type": "code",
    "id": "lag30QkV8tzR"
   },
   "outputs": [],
   "source": [
    "classes=['positive', 'negtive']\n",
    "filename1 = \"cnn_confusion_matrix_1.jpg\"\n",
    "filename2 = \"cnn_confusion_matrix_2.jpg\""
   ]
  },
  {
   "cell_type": "code",
   "execution_count": 28,
   "metadata": {
    "colab": {
     "base_uri": "https://localhost:8080/",
     "height": 1457
    },
    "colab_type": "code",
    "id": "FEvyB10tHHt9",
    "outputId": "f1d9ebad-8858-4f03-919c-a9e7654f94f1"
   },
   "outputs": [
    {
     "name": "stdout",
     "output_type": "stream",
     "text": [
      "— val_f1: 0.901120 — val_precision: 0.901127 — val_recall 0.901120\n"
     ]
    },
    {
     "data": {
      "image/png": "[encoded data removed]",
      "text/plain": [
       "<Figure size 1080x720 with 1 Axes>"
      ]
     },
     "metadata": {
      "needs_background": "light",
      "tags": []
     },
     "output_type": "display_data"
    },
    {
     "data": {
      "image/png": "[encoded data removed]",
      "text/plain": [
       "<Figure size 1080x720 with 1 Axes>"
      ]
     },
     "metadata": {
      "needs_background": "light",
      "tags": []
     },
     "output_type": "display_data"
    }
   ],
   "source": [
    "from sklearn.metrics import confusion_matrix\n",
    "\n",
    "data_num = len(X_Test) ## 等于所有数据 / batchsize，所以所有数据需要能够整除\n",
    "val_pred = model.predict(X_Test)    #验证集正确\n",
    "val_true = Y_Test\n",
    "val_pred_flat = np.zeros(data_num)    #验证集预测\n",
    "val_true_flat = np.zeros(data_num)    #验证集正确\n",
    "for data_count in range(data_num):\n",
    "    val_pred_flat[data_count] = np.argmax(val_pred[data_count])\n",
    "    val_true_flat[data_count] = np.argmax(Y_Test[data_count])\n",
    "\n",
    "val_f1 = f1_score(val_true_flat, val_pred_flat, average='macro')  #3个数值\n",
    "val_recall = recall_score(val_true_flat, val_pred_flat, average='macro')  #3个数值\n",
    "val_precision = precision_score(val_true_flat, val_pred_flat, average='macro')  #3个数值\n",
    "print('— val_f1: %f — val_precision: %f — val_recall %f' %(val_f1, val_precision, val_recall))\n",
    "\n",
    "conf_matrix_1 = [[0,0],[0,0]]\n",
    "tn, fp, fn, tp = confusion_matrix(val_true_flat, val_pred_flat).ravel()\n",
    "conf_matrix_1[0][0] = tp.item()\n",
    "conf_matrix_1[0][1] = fn.item()\n",
    "conf_matrix_1[1][0] = fp.item()\n",
    "conf_matrix_1[1][1] = tn.item()\n",
    "conf_matrix_1 = np.asarray(conf_matrix_1)\n",
    "paintConfusionMatrix(conf_matrix_1, classes, filename1)\n",
    "conf_matrix_2 = [[0,0],[0,0]]\n",
    "nn, npp, pn, pp = 0, 0, 0, 0\n",
    "n_num, p_num = 0, 0\n",
    "for data_count in range(data_num):\n",
    "    if val_pred_flat[data_count] == 0 and val_true_flat[data_count] == 0:\n",
    "      nn += 1\n",
    "      n_num += 1\n",
    "    elif val_pred_flat[data_count] == 0 and val_true_flat[data_count] == 1:\n",
    "      npp += 1\n",
    "      n_num += 1\n",
    "    elif val_pred_flat[data_count] == 1 and val_true_flat[data_count] == 0:\n",
    "      pn += 1\n",
    "      p_num += 1\n",
    "    elif val_pred_flat[data_count] == 1 and val_true_flat[data_count] == 1:\n",
    "      pp += 1\n",
    "      p_num += 1\n",
    "nn, npp, pn, pp = nn / n_num, npp / n_num, pn / p_num, pp / p_num\n",
    "#pdb.set_trace()\n",
    "conf_matrix_2[0][0] = pp\n",
    "conf_matrix_2[0][1] = pn\n",
    "conf_matrix_2[1][0] = npp\n",
    "conf_matrix_2[1][1] = nn\n",
    "conf_matrix_2 = np.asarray(conf_matrix_2)\n",
    "paintConfusionMatrix(conf_matrix_2, classes, filename2)"
   ]
  },
  {
   "cell_type": "code",
   "execution_count": 29,
   "metadata": {
    "colab": {},
    "colab_type": "code",
    "id": "uylKspDtNsgP"
   },
   "outputs": [],
   "source": [
    "model.save('model2.h5')  "
   ]
  },
  {
   "cell_type": "markdown",
   "metadata": {
    "colab_type": "text",
    "id": "q_BgpVKFXwaO"
   },
   "source": [
    "#LSTM模型搭建"
   ]
  },
  {
   "cell_type": "markdown",
   "metadata": {
    "colab_type": "text",
    "id": "7YAP-SKDYKwN"
   },
   "source": [
    "##划分数据集"
   ]
  },
  {
   "cell_type": "code",
   "execution_count": 31,
   "metadata": {
    "colab": {
     "base_uri": "https://localhost:8080/",
     "height": 33
    },
    "colab_type": "code",
    "id": "eaIpaAX5YKC_",
    "outputId": "6ebcf396-655d-434f-dd06-0716169ebf87"
   },
   "outputs": [
    {
     "name": "stdout",
     "output_type": "stream",
     "text": [
      "(20000, 2732) (5000, 2732) (20000, 2) (5000, 2)\n"
     ]
    }
   ],
   "source": [
    "Xtrain, Xtest, Ytrain, Ytest = train_test_split(X, Y, test_size=0.2, random_state=42)\n",
    "print(Xtrain.shape, Xtest.shape, Ytrain.shape, Ytest.shape)"
   ]
  },
  {
   "cell_type": "markdown",
   "metadata": {
    "colab_type": "text",
    "id": "RQ7TsLZGa3jK"
   },
   "source": [
    "##搭建模型"
   ]
  },
  {
   "cell_type": "code",
   "execution_count": 32,
   "metadata": {
    "colab": {
     "base_uri": "https://localhost:8080/",
     "height": 316
    },
    "colab_type": "code",
    "id": "l-izkMTpa517",
    "outputId": "c79ef766-fcd3-4d85-9347-f717c18cad43"
   },
   "outputs": [
    {
     "name": "stdout",
     "output_type": "stream",
     "text": [
      "Model: \"sequential_2\"\n",
      "_________________________________________________________________\n",
      "Layer (type)                 Output Shape              Param #   \n",
      "=================================================================\n",
      "embedding_1 (Embedding)      (None, 2732, 300)         6000300   \n",
      "_________________________________________________________________\n",
      "spatial_dropout1d_1 (Spatial (None, 2732, 300)         0         \n",
      "_________________________________________________________________\n",
      "lstm (LSTM)                  (None, 128)               219648    \n",
      "_________________________________________________________________\n",
      "dropout_3 (Dropout)          (None, 128)               0         \n",
      "_________________________________________________________________\n",
      "dense_4 (Dense)              (None, 2)                 258       \n",
      "=================================================================\n",
      "Total params: 6,220,206\n",
      "Trainable params: 6,220,206\n",
      "Non-trainable params: 0\n",
      "_________________________________________________________________\n"
     ]
    }
   ],
   "source": [
    "import keras\n",
    "from keras.models import Sequential,Model\n",
    "from keras.layers.core import SpatialDropout1D\n",
    "from keras.layers import Input,Dense,GRU,LSTM,Activation,Dropout,Embedding\n",
    "\n",
    "model = Sequential()\n",
    "model.add(Embedding(VOCAB_SIZE, EMBED_SIZE, input_length=maxlen, weights=[embedding_weights], trainable=True))\n",
    "model.add(SpatialDropout1D(0.4))\n",
    "model.add(LSTM(128))\n",
    "model.add(Dropout(0.2))\n",
    "model.add(Dense(2, activation=\"softmax\"))\n",
    "model.compile(optimizer=\"adam\", loss=\"binary_crossentropy\", metrics=[\"accuracy\"])\n",
    "model.summary()"
   ]
  },
  {
   "cell_type": "code",
   "execution_count": 33,
   "metadata": {
    "colab": {
     "base_uri": "https://localhost:8080/",
     "height": 644
    },
    "colab_type": "code",
    "id": "Bkfjt0qy5wnT",
    "outputId": "5794315a-c91c-48f7-b699-c7f1288df679"
   },
   "outputs": [
    {
     "data": {
      "image/png": "[encoded data removed]",
      "text/plain": [
       "<IPython.core.display.Image object>"
      ]
     },
     "execution_count": 33,
     "metadata": {
      "tags": []
     },
     "output_type": "execute_result"
    }
   ],
   "source": [
    "import keras\n",
    "keras.utils.plot_model(\n",
    "    model,\n",
    "    to_file='model3.png',\n",
    "    show_shapes=True,\n",
    "    show_layer_names=True,\n",
    "    rankdir='TB',\n",
    ")"
   ]
  },
  {
   "cell_type": "code",
   "execution_count": 84,
   "metadata": {
    "colab": {
     "base_uri": "https://localhost:8080/",
     "height": 2800
    },
    "colab_type": "code",
    "id": "01ME_W1FVBy8",
    "outputId": "de9aca86-fe82-4f64-a07b-2dd4e2f26542"
   },
   "outputs": [
    {
     "name": "stdout",
     "output_type": "stream",
     "text": [
      "on train begin 25000\n",
      "\n",
      "Epoch 1/5\n",
      "313/313 [==============================] - ETA: 0s - loss: 0.1055 - accuracy: 0.9625\n",
      "on epoch end : 25000\n",
      "\n",
      "处理完第1个验证集\n",
      "处理完第1001个验证集\n",
      "处理完第2001个验证集\n",
      "处理完第3001个验证集\n",
      "处理完第4001个验证集\n",
      "处理完第5001个验证集\n",
      "处理完第6001个验证集\n",
      "处理完第7001个验证集\n",
      "处理完第8001个验证集\n",
      "处理完第9001个验证集\n",
      "处理完第10001个验证集\n",
      "处理完第11001个验证集\n",
      "处理完第12001个验证集\n",
      "处理完第13001个验证集\n",
      "处理完第14001个验证集\n",
      "处理完第15001个验证集\n",
      "处理完第16001个验证集\n",
      "处理完第17001个验证集\n",
      "处理完第18001个验证集\n",
      "处理完第19001个验证集\n",
      "处理完第20001个验证集\n",
      "处理完第21001个验证集\n",
      "处理完第22001个验证集\n",
      "处理完第23001个验证集\n",
      "处理完第24001个验证集\n",
      "\n",
      "— val_f1: 0.867953 — val_precision: 0.870484 — val_recall 0.868160\n",
      " — val_f1: 0.867952929065243\n",
      "313/313 [==============================] - 138s 439ms/step - loss: 0.1055 - accuracy: 0.9625 - val_loss: 0.3567 - val_accuracy: 0.8918\n",
      "Epoch 2/5\n",
      "313/313 [==============================] - ETA: 0s - loss: 0.0839 - accuracy: 0.9704\n",
      "on epoch end : 25000\n",
      "\n",
      "处理完第1个验证集\n",
      "处理完第1001个验证集\n",
      "处理完第2001个验证集\n",
      "处理完第3001个验证集\n",
      "处理完第4001个验证集\n",
      "处理完第5001个验证集\n",
      "处理完第6001个验证集\n",
      "处理完第7001个验证集\n",
      "处理完第8001个验证集\n",
      "处理完第9001个验证集\n",
      "处理完第10001个验证集\n",
      "处理完第11001个验证集\n",
      "处理完第12001个验证集\n",
      "处理完第13001个验证集\n",
      "处理完第14001个验证集\n",
      "处理完第15001个验证集\n",
      "处理完第16001个验证集\n",
      "处理完第17001个验证集\n",
      "处理完第18001个验证集\n",
      "处理完第19001个验证集\n",
      "处理完第20001个验证集\n",
      "处理完第21001个验证集\n",
      "处理完第22001个验证集\n",
      "处理完第23001个验证集\n",
      "处理完第24001个验证集\n",
      "\n",
      "— val_f1: 0.857460 — val_precision: 0.857679 — val_recall 0.857480\n",
      " — val_f1: 0.8574601527516691\n",
      "313/313 [==============================] - 136s 435ms/step - loss: 0.0839 - accuracy: 0.9704 - val_loss: 0.3825 - val_accuracy: 0.8766\n",
      "Epoch 3/5\n",
      "313/313 [==============================] - ETA: 0s - loss: 0.0576 - accuracy: 0.9814\n",
      "on epoch end : 25000\n",
      "\n",
      "处理完第1个验证集\n",
      "处理完第1001个验证集\n",
      "处理完第2001个验证集\n",
      "处理完第3001个验证集\n",
      "处理完第4001个验证集\n",
      "处理完第5001个验证集\n",
      "处理完第6001个验证集\n",
      "处理完第7001个验证集\n",
      "处理完第8001个验证集\n",
      "处理完第9001个验证集\n",
      "处理完第10001个验证集\n",
      "处理完第11001个验证集\n",
      "处理完第12001个验证集\n",
      "处理完第13001个验证集\n",
      "处理完第14001个验证集\n",
      "处理完第15001个验证集\n",
      "处理完第16001个验证集\n",
      "处理完第17001个验证集\n",
      "处理完第18001个验证集\n",
      "处理完第19001个验证集\n",
      "处理完第20001个验证集\n",
      "处理完第21001个验证集\n",
      "处理完第22001个验证集\n",
      "处理完第23001个验证集\n",
      "处理完第24001个验证集\n",
      "\n",
      "— val_f1: 0.862249 — val_precision: 0.862606 — val_recall 0.862280\n",
      " — val_f1: 0.8622490060263559\n",
      "313/313 [==============================] - 138s 439ms/step - loss: 0.0576 - accuracy: 0.9814 - val_loss: 0.4581 - val_accuracy: 0.8834\n",
      "Epoch 4/5\n",
      "313/313 [==============================] - ETA: 0s - loss: 0.0457 - accuracy: 0.9852\n",
      "on epoch end : 25000\n",
      "\n",
      "处理完第1个验证集\n",
      "处理完第1001个验证集\n",
      "处理完第2001个验证集\n",
      "处理完第3001个验证集\n",
      "处理完第4001个验证集\n",
      "处理完第5001个验证集\n",
      "处理完第6001个验证集\n",
      "处理完第7001个验证集\n",
      "处理完第8001个验证集\n",
      "处理完第9001个验证集\n",
      "处理完第10001个验证集\n",
      "处理完第11001个验证集\n",
      "处理完第12001个验证集\n",
      "处理完第13001个验证集\n",
      "处理完第14001个验证集\n",
      "处理完第15001个验证集\n",
      "处理完第16001个验证集\n",
      "处理完第17001个验证集\n",
      "处理完第18001个验证集\n",
      "处理完第19001个验证集\n",
      "处理完第20001个验证集\n",
      "处理完第21001个验证集\n",
      "处理完第22001个验证集\n",
      "处理完第23001个验证集\n",
      "处理完第24001个验证集\n",
      "\n",
      "— val_f1: 0.857515 — val_precision: 0.859349 — val_recall 0.857680\n",
      " — val_f1: 0.8575145107414485\n",
      "313/313 [==============================] - 136s 434ms/step - loss: 0.0457 - accuracy: 0.9852 - val_loss: 0.4506 - val_accuracy: 0.8874\n",
      "Epoch 5/5\n",
      "313/313 [==============================] - ETA: 0s - loss: 0.0295 - accuracy: 0.9906\n",
      "on epoch end : 25000\n",
      "\n",
      "处理完第1个验证集\n",
      "处理完第1001个验证集\n",
      "处理完第2001个验证集\n",
      "处理完第3001个验证集\n",
      "处理完第4001个验证集\n",
      "处理完第5001个验证集\n",
      "处理完第6001个验证集\n",
      "处理完第7001个验证集\n",
      "处理完第8001个验证集\n",
      "处理完第9001个验证集\n",
      "处理完第10001个验证集\n",
      "处理完第11001个验证集\n",
      "处理完第12001个验证集\n",
      "处理完第13001个验证集\n",
      "处理完第14001个验证集\n",
      "处理完第15001个验证集\n",
      "处理完第16001个验证集\n",
      "处理完第17001个验证集\n",
      "处理完第18001个验证集\n",
      "处理完第19001个验证集\n",
      "处理完第20001个验证集\n",
      "处理完第21001个验证集\n",
      "处理完第22001个验证集\n",
      "处理完第23001个验证集\n",
      "处理完第24001个验证集\n",
      "\n",
      "— val_f1: 0.853004 — val_precision: 0.853384 — val_recall 0.853040\n",
      " — val_f1: 0.853004227108709\n",
      "313/313 [==============================] - 138s 439ms/step - loss: 0.0295 - accuracy: 0.9906 - val_loss: 0.5348 - val_accuracy: 0.8726\n"
     ]
    }
   ],
   "source": [
    "myMetrics = Metrics(X_Test, Y_Test)\n",
    "history = model.fit(Xtrain, Ytrain, callbacks = [myMetrics], batch_size=BATCH_SIZE, epochs=NUM_EPOCHS, validation_data=(Xtest, Ytest))  "
   ]
  },
  {
   "cell_type": "markdown",
   "metadata": {
    "colab_type": "text",
    "id": "VDizCiN0nsp3"
   },
   "source": [
    "##准确率和loss值"
   ]
  },
  {
   "cell_type": "code",
   "execution_count": 35,
   "metadata": {
    "colab": {
     "base_uri": "https://localhost:8080/",
     "height": 330
    },
    "colab_type": "code",
    "id": "8RmSs3vununo",
    "outputId": "f5ceb0bb-970d-4fdc-e75d-255ee820a657"
   },
   "outputs": [
    {
     "data": {
      "image/png": "[encoded data removed]",
      "text/plain": [
       "<Figure size 432x288 with 2 Axes>"
      ]
     },
     "metadata": {
      "needs_background": "light",
      "tags": []
     },
     "output_type": "display_data"
    },
    {
     "name": "stdout",
     "output_type": "stream",
     "text": [
      "157/157 [==============================] - 10s 63ms/step - loss: 0.2978 - accuracy: 0.8936\n",
      "Test loss: 0.298, accuracy: 0.894\n"
     ]
    }
   ],
   "source": [
    "# plot loss function\n",
    "plt.subplot(211)\n",
    "plt.title(\"accuracy\")\n",
    "plt.plot(history.history[\"accuracy\"], color=\"r\", label=\"train\")\n",
    "plt.plot(history.history[\"val_accuracy\"], color=\"b\", label=\"validation\")\n",
    "plt.legend(loc=\"best\")\n",
    "\n",
    "plt.subplot(212)\n",
    "plt.title(\"loss\")\n",
    "plt.plot(history.history[\"loss\"], color=\"r\", label=\"train\")\n",
    "plt.plot(history.history[\"val_loss\"], color=\"b\", label=\"validation\")\n",
    "plt.legend(loc=\"best\")\n",
    "\n",
    "plt.tight_layout()\n",
    "plt.show()\n",
    "\n",
    "# evaluate model\n",
    "score = model.evaluate(Xtest, Ytest, verbose=1)\n",
    "print(\"Test loss: {:.3f}, accuracy: {:.3f}\".format(score[0], score[1]))\n"
   ]
  },
  {
   "cell_type": "markdown",
   "metadata": {
    "colab_type": "text",
    "id": "o3endzMskS68"
   },
   "source": [
    "##精确度、召回率、f1分数"
   ]
  },
  {
   "cell_type": "code",
   "execution_count": 36,
   "metadata": {
    "colab": {
     "base_uri": "https://localhost:8080/",
     "height": 174
    },
    "colab_type": "code",
    "id": "4uzq1Z0LkXH9",
    "outputId": "4cb8e01a-f9f6-4315-cb23-5ceea54f3798"
   },
   "outputs": [
    {
     "data": {
      "image/png": "[encoded data removed]",
      "text/plain": [
       "<Figure size 432x288 with 1 Axes>"
      ]
     },
     "metadata": {
      "needs_background": "light",
      "tags": []
     },
     "output_type": "display_data"
    }
   ],
   "source": [
    "# plot loss function\n",
    "plt.subplot(211)\n",
    "plt.title(\"precision, recall and f1 score\")\n",
    "plt.plot(myMetrics.val_precisions, color=\"r\", label=\"precision\")\n",
    "plt.plot(myMetrics.val_recalls, color=\"b\", label=\"recall\")\n",
    "plt.plot(myMetrics.val_f1s, color=\"g\", label=\"f1 score\")\n",
    "plt.legend(loc=\"best\")\n",
    "\n",
    "plt.tight_layout()\n",
    "plt.show()"
   ]
  },
  {
   "cell_type": "markdown",
   "metadata": {
    "colab_type": "text",
    "id": "D2MdIaC0njmd"
   },
   "source": [
    "##混淆矩阵"
   ]
  },
  {
   "cell_type": "code",
   "execution_count": 37,
   "metadata": {
    "colab": {},
    "colab_type": "code",
    "id": "S9TekRWrnqkZ"
   },
   "outputs": [],
   "source": [
    "classes=['positive', 'negtive']\n",
    "filename1 = \"LSTM_confusion_matrix_1.jpg\"\n",
    "filename2 = \"LSTM_confusion_matrix_2.jpg\""
   ]
  },
  {
   "cell_type": "code",
   "execution_count": 38,
   "metadata": {
    "colab": {
     "base_uri": "https://localhost:8080/",
     "height": 1457
    },
    "colab_type": "code",
    "id": "S94Qy2pBoKP2",
    "outputId": "a541d140-3def-4775-a6ac-7c72f51fcfe5"
   },
   "outputs": [
    {
     "name": "stdout",
     "output_type": "stream",
     "text": [
      "— val_f1: 0.877240 — val_precision: 0.877240 — val_recall 0.877240\n"
     ]
    },
    {
     "data": {
      "image/png": "[encoded data removed]",
      "text/plain": [
       "<Figure size 1080x720 with 1 Axes>"
      ]
     },
     "metadata": {
      "needs_background": "light",
      "tags": []
     },
     "output_type": "display_data"
    },
    {
     "data": {
      "image/png": "[encoded data removed]",
      "text/plain": [
       "<Figure size 1080x720 with 1 Axes>"
      ]
     },
     "metadata": {
      "needs_background": "light",
      "tags": []
     },
     "output_type": "display_data"
    }
   ],
   "source": [
    "from sklearn.metrics import confusion_matrix\n",
    "\n",
    "data_num = len(X_Test) ## 等于所有数据 / batchsize，所以所有数据需要能够整除\n",
    "val_pred = model.predict(X_Test)    #验证集正确\n",
    "val_true = Y_Test\n",
    "val_pred_flat = np.zeros(data_num)    #验证集预测\n",
    "val_true_flat = np.zeros(data_num)    #验证集正确\n",
    "for data_count in range(data_num):\n",
    "    val_pred_flat[data_count] = np.argmax(val_pred[data_count])\n",
    "    val_true_flat[data_count] = np.argmax(Y_Test[data_count])\n",
    "\n",
    "val_f1 = f1_score(val_true_flat, val_pred_flat, average='macro')  #3个数值\n",
    "val_recall = recall_score(val_true_flat, val_pred_flat, average='macro')  #3个数值\n",
    "val_precision = precision_score(val_true_flat, val_pred_flat, average='macro')  #3个数值\n",
    "print('— val_f1: %f — val_precision: %f — val_recall %f' %(val_f1, val_precision, val_recall))\n",
    "\n",
    "conf_matrix_1 = [[0,0],[0,0]]\n",
    "tn, fp, fn, tp = confusion_matrix(val_true_flat, val_pred_flat).ravel()\n",
    "conf_matrix_1[0][0] = tp.item()\n",
    "conf_matrix_1[0][1] = fn.item()\n",
    "conf_matrix_1[1][0] = fp.item()\n",
    "conf_matrix_1[1][1] = tn.item()\n",
    "conf_matrix_1 = np.asarray(conf_matrix_1)\n",
    "paintConfusionMatrix(conf_matrix_1, classes, filename1)\n",
    "conf_matrix_2 = [[0,0],[0,0]]\n",
    "nn, npp, pn, pp = 0, 0, 0, 0\n",
    "n_num, p_num = 0, 0\n",
    "for data_count in range(data_num):\n",
    "    if val_pred_flat[data_count] == 0 and val_true_flat[data_count] == 0:\n",
    "      nn += 1\n",
    "      n_num += 1\n",
    "    elif val_pred_flat[data_count] == 0 and val_true_flat[data_count] == 1:\n",
    "      npp += 1\n",
    "      n_num += 1\n",
    "    elif val_pred_flat[data_count] == 1 and val_true_flat[data_count] == 0:\n",
    "      pn += 1\n",
    "      p_num += 1\n",
    "    elif val_pred_flat[data_count] == 1 and val_true_flat[data_count] == 1:\n",
    "      pp += 1\n",
    "      p_num += 1\n",
    "nn, npp, pn, pp = nn / n_num, npp / n_num, pn / p_num, pp / p_num\n",
    "#pdb.set_trace()\n",
    "conf_matrix_2[0][0] = pp\n",
    "conf_matrix_2[0][1] = pn\n",
    "conf_matrix_2[1][0] = npp\n",
    "conf_matrix_2[1][1] = nn\n",
    "conf_matrix_2 = np.asarray(conf_matrix_2)\n",
    "paintConfusionMatrix(conf_matrix_2, classes, filename2)"
   ]
  },
  {
   "cell_type": "code",
   "execution_count": 39,
   "metadata": {
    "colab": {},
    "colab_type": "code",
    "id": "KUsIOaor_UkO"
   },
   "outputs": [],
   "source": [
    "model.save('model3.h5')  "
   ]
  }
 ],
 "metadata": {
  "accelerator": "GPU",
  "colab": {
   "collapsed_sections": [],
   "machine_shape": "hm",
   "name": "1707310248-孟维民.ipynb",
   "provenance": [],
   "toc_visible": true
  },
  "kernelspec": {
   "display_name": "Python 3",
   "language": "python",
   "name": "python3"
  },
  "language_info": {
   "codemirror_mode": {
    "name": "ipython",
    "version": 3
   },
   "file_extension": ".py",
   "mimetype": "text/x-python",
   "name": "python",
   "nbconvert_exporter": "python",
   "pygments_lexer": "ipython3",
   "version": "3.7.6"
  }
 },
 "nbformat": 4,
 "nbformat_minor": 1
}
