{
 "cells": [
  {
   "cell_type": "code",
   "execution_count": 9,
   "metadata": {},
   "outputs": [
    {
     "name": "stdout",
     "output_type": "stream",
     "text": [
      "['0.7809', '0.7924', '0.7986', '0.8029', '0.8078', '0.8108', '0.8124', '0.8141', '0.8175', '0.8183', '0.8209', '0.8202', '0.8206', '0.8221', '0.8219', '0.8195', '0.8225', '0.8237', '0.8230', '0.8245', '0.8253', '0.8227', '0.8243', '0.8245', '0.8246', '0.8239', '0.8229', '0.8245', '0.8229', '0.8245', '0.8255', '0.8242', '0.8235', '0.8237', '0.8243', '0.8221', '0.8245', '0.8241', '0.8229', '0.8252', '0.8224', '0.8222', '0.8216', '0.8232', '0.8232', '0.8234', '0.8216', '0.8237']\n"
     ]
    }
   ],
   "source": [
    "with open('mix.txt','r',encoding='utf-8') as f:\n",
    "    contents = f.readlines()\n",
    "# print(contents)\n",
    "\n",
    "loss=[]\n",
    "for line in contents:\n",
    "    loss.append(line[line.find('val_accuracy')+14:line.find('val_accuracy')+20])\n",
    "# print(loss)\n",
    "\n",
    "real_loss=[]\n",
    "for item in loss:\n",
    "    if len(item)==0 :continue\n",
    "    elif '=' in item:continue\n",
    "    elif 'cy' in item:continue\n",
    "    elif '\\n' in item:continue\n",
    "#     elif '/' in item:continue\n",
    "    else:real_loss.append(item)\n",
    "print(real_loss)\n",
    "\n",
    "# real_acc=[]\n",
    "# count = 0\n",
    "# for item in real_loss:\n",
    "#     if count%2==0:\n",
    "#         real_acc.append(item)\n",
    "#     count += 1\n",
    "# print(real_acc)\n",
    "\n",
    "with open('mix.csv', 'w', encoding='utf-8') as f:\n",
    "    for item in real_loss:\n",
    "        f.write(item+'\\n')"
   ]
  },
  {
   "cell_type": "code",
   "execution_count": 88,
   "metadata": {},
   "outputs": [
    {
     "name": "stdout",
     "output_type": "stream",
     "text": [
      "['0.7472', '0.7716', '0.7812', '0.7866', '0.7900', '0.7925', '0.7934', '0.7957', '0.7984', '0.7984', '0.8044', '0.8019', '0.8053', '0.8081', '0.8071', '0.8077', '0.8097', '0.8135', '0.8132', '0.8102', '0.8121', '0.8170', '0.8176', '0.8175', '0.8185', '0.8205', '0.8203', '0.8186', '0.8136', '0.8188', '0.8212', '0.8213', '0.8245', '0.8240', '0.8220', '0.8209', '0.8179', '0.8224', '0.8237', '0.8239', '0.8211', '0.8240', '0.8228', '0.8229', '0.8225', '0.8229', '0.8239', '0.8255']\n"
     ]
    }
   ],
   "source": [
    "with open('BiLSTM.txt','r',encoding='utf-8') as f:\n",
    "    contents = f.readlines()\n",
    "# print(contents)\n",
    "\n",
    "loss=[]\n",
    "for line in contents:\n",
    "    loss.append(line[line.find('test_f1')+9:line.find('test_f1')+15])\n",
    "# print(loss)\n",
    "\n",
    "real_loss=[]\n",
    "for item in loss:\n",
    "    if len(item)==0 :continue\n",
    "    elif '=' in item:continue\n",
    "    elif '\\n' in item:continue\n",
    "#     elif 't_' in item:continue\n",
    "    else:real_loss.append(item)\n",
    "print(real_loss)\n",
    "\n",
    "with open('bilstm_test_f1.csv', 'w', encoding='utf-8') as f:\n",
    "    for item in real_loss:\n",
    "        f.write(item+'\\n')"
   ]
  },
  {
   "cell_type": "code",
   "execution_count": 90,
   "metadata": {},
   "outputs": [],
   "source": [
    "train_loss=[1.2,0.62,0.47,0.39,0.41,0.41,0.46,0.33,0.26,0.42,0.33,0.36,0.28,0.37,0.31,0.29,0.37,0.32,0.26,0.33,0.36,0.23]\n",
    "train_acc=[0.4062,0.7422,0.8125,0.8281,0.8125,0.7969,0.7734,0.8672,0.8906,0.8672,0.8438,0.8281,0.9141,0.8594,0.8516,0.8828,0.8672,0.8359,0.8672,0.9062,0.8438,0.9141]\n",
    "val_loss=[1.1,0.53,0.48,0.47,0.46,0.44,0.43,0.42,0.42,0.42,0.43,0.44,0.44,0.43,0.42,0.42,0.44,0.43,0.46,0.45,0.45,0.45]\n",
    "val_acc=[0.4080,0.7754,0.7900,0.8091,0.8088,0.8164,0.8223,0.8196,0.8201,0.8232,0.8228,0.8183,0.8232,0.8214,0.8226,0.8252,0.8263,0.8276,0.8208,0.8240,0.8248,0.8254]"
   ]
  },
  {
   "cell_type": "code",
   "execution_count": 94,
   "metadata": {},
   "outputs": [],
   "source": [
    "with open('bert_loss.csv', 'w', encoding='utf-8') as f:\n",
    "    for count in range(len(train_loss)):\n",
    "        f.write(str(count+1) + ','+ str(train_loss[count])+','+str(val_loss[count]) +'\\n')"
   ]
  }
 ],
 "metadata": {
  "kernelspec": {
   "display_name": "Python 3",
   "language": "python",
   "name": "python3"
  },
  "language_info": {
   "codemirror_mode": {
    "name": "ipython",
    "version": 3
   },
   "file_extension": ".py",
   "mimetype": "text/x-python",
   "name": "python",
   "nbconvert_exporter": "python",
   "pygments_lexer": "ipython3",
   "version": "3.7.6"
  },
  "toc": {
   "base_numbering": 1,
   "nav_menu": {},
   "number_sections": true,
   "sideBar": true,
   "skip_h1_title": false,
   "title_cell": "Table of Contents",
   "title_sidebar": "Contents",
   "toc_cell": false,
   "toc_position": {},
   "toc_section_display": true,
   "toc_window_display": false
  }
 },
 "nbformat": 4,
 "nbformat_minor": 5
}
